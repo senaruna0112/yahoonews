{
  "nbformat": 4,
  "nbformat_minor": 0,
  "metadata": {
    "colab": {
      "name": "yahoonews_NCI.ipynb",
      "provenance": [],
      "toc_visible": true,
      "mount_file_id": "1Yy4cLx3XOuY7Hwb6mtKt22cORdnU3JD_",
      "authorship_tag": "ABX9TyP7z0TqfsGlBJ6VOgdZaWhx",
      "include_colab_link": true
    },
    "kernelspec": {
      "name": "python3",
      "display_name": "Python 3"
    },
    "language_info": {
      "name": "python"
    }
  },
  "cells": [
    {
      "cell_type": "markdown",
      "metadata": {
        "id": "view-in-github",
        "colab_type": "text"
      },
      "source": [
        "<a href=\"https://colab.research.google.com/github/senaruna0112/yahoonews/blob/main/yahoonews_NCI.ipynb\" target=\"_parent\"><img src=\"https://colab.research.google.com/assets/colab-badge.svg\" alt=\"Open In Colab\"/></a>"
      ]
    },
    {
      "cell_type": "markdown",
      "source": [
        "# webスクレイピング\n",
        "\n",
        "## Colab上でWeb Driverを入れてスクレイピングできる環境を作る"
      ],
      "metadata": {
        "id": "ugf9_q5PhjD5"
      }
    },
    {
      "cell_type": "code",
      "execution_count": 1,
      "metadata": {
        "colab": {
          "base_uri": "https://localhost:8080/"
        },
        "id": "Fodl2CHnhbpa",
        "outputId": "235da0d7-3460-460f-c72a-a0a0dd0c89b7"
      },
      "outputs": [
        {
          "output_type": "stream",
          "name": "stdout",
          "text": [
            "Collecting selenium\n",
            "  Downloading selenium-4.1.0-py3-none-any.whl (958 kB)\n",
            "\u001b[K     |████████████████████████████████| 958 kB 4.9 MB/s \n",
            "\u001b[?25hCollecting trio-websocket~=0.9\n",
            "  Downloading trio_websocket-0.9.2-py3-none-any.whl (16 kB)\n",
            "Collecting urllib3[secure]~=1.26\n",
            "  Downloading urllib3-1.26.8-py2.py3-none-any.whl (138 kB)\n",
            "\u001b[K     |████████████████████████████████| 138 kB 50.6 MB/s \n",
            "\u001b[?25hCollecting trio~=0.17\n",
            "  Downloading trio-0.20.0-py3-none-any.whl (359 kB)\n",
            "\u001b[K     |████████████████████████████████| 359 kB 48.4 MB/s \n",
            "\u001b[?25hCollecting outcome\n",
            "  Downloading outcome-1.1.0-py2.py3-none-any.whl (9.7 kB)\n",
            "Requirement already satisfied: attrs>=19.2.0 in /usr/local/lib/python3.7/dist-packages (from trio~=0.17->selenium) (21.4.0)\n",
            "Collecting sniffio\n",
            "  Downloading sniffio-1.2.0-py3-none-any.whl (10 kB)\n",
            "Requirement already satisfied: idna in /usr/local/lib/python3.7/dist-packages (from trio~=0.17->selenium) (2.10)\n",
            "Collecting async-generator>=1.9\n",
            "  Downloading async_generator-1.10-py3-none-any.whl (18 kB)\n",
            "Requirement already satisfied: sortedcontainers in /usr/local/lib/python3.7/dist-packages (from trio~=0.17->selenium) (2.4.0)\n",
            "Collecting wsproto>=0.14\n",
            "  Downloading wsproto-1.0.0-py3-none-any.whl (24 kB)\n",
            "Collecting cryptography>=1.3.4\n",
            "  Downloading cryptography-36.0.1-cp36-abi3-manylinux_2_24_x86_64.whl (3.6 MB)\n",
            "\u001b[K     |████████████████████████████████| 3.6 MB 42.6 MB/s \n",
            "\u001b[?25hRequirement already satisfied: certifi in /usr/local/lib/python3.7/dist-packages (from urllib3[secure]~=1.26->selenium) (2021.10.8)\n",
            "Collecting pyOpenSSL>=0.14\n",
            "  Downloading pyOpenSSL-22.0.0-py2.py3-none-any.whl (55 kB)\n",
            "\u001b[K     |████████████████████████████████| 55 kB 3.9 MB/s \n",
            "\u001b[?25hRequirement already satisfied: cffi>=1.12 in /usr/local/lib/python3.7/dist-packages (from cryptography>=1.3.4->urllib3[secure]~=1.26->selenium) (1.15.0)\n",
            "Requirement already satisfied: pycparser in /usr/local/lib/python3.7/dist-packages (from cffi>=1.12->cryptography>=1.3.4->urllib3[secure]~=1.26->selenium) (2.21)\n",
            "Collecting h11<1,>=0.9.0\n",
            "  Downloading h11-0.13.0-py3-none-any.whl (58 kB)\n",
            "\u001b[K     |████████████████████████████████| 58 kB 4.7 MB/s \n",
            "\u001b[?25hRequirement already satisfied: typing-extensions in /usr/local/lib/python3.7/dist-packages (from h11<1,>=0.9.0->wsproto>=0.14->trio-websocket~=0.9->selenium) (3.10.0.2)\n",
            "Installing collected packages: sniffio, outcome, h11, cryptography, async-generator, wsproto, urllib3, trio, pyOpenSSL, trio-websocket, selenium\n",
            "  Attempting uninstall: urllib3\n",
            "    Found existing installation: urllib3 1.24.3\n",
            "    Uninstalling urllib3-1.24.3:\n",
            "      Successfully uninstalled urllib3-1.24.3\n",
            "\u001b[31mERROR: pip's dependency resolver does not currently take into account all the packages that are installed. This behaviour is the source of the following dependency conflicts.\n",
            "requests 2.23.0 requires urllib3!=1.25.0,!=1.25.1,<1.26,>=1.21.1, but you have urllib3 1.26.8 which is incompatible.\n",
            "datascience 0.10.6 requires folium==0.2.1, but you have folium 0.8.3 which is incompatible.\u001b[0m\n",
            "Successfully installed async-generator-1.10 cryptography-36.0.1 h11-0.13.0 outcome-1.1.0 pyOpenSSL-22.0.0 selenium-4.1.0 sniffio-1.2.0 trio-0.20.0 trio-websocket-0.9.2 urllib3-1.26.8 wsproto-1.0.0\n",
            "Get:1 http://security.ubuntu.com/ubuntu bionic-security InRelease [88.7 kB]\n",
            "Get:2 https://cloud.r-project.org/bin/linux/ubuntu bionic-cran40/ InRelease [3,626 B]\n",
            "Ign:3 https://developer.download.nvidia.com/compute/cuda/repos/ubuntu1804/x86_64  InRelease\n",
            "Hit:4 http://archive.ubuntu.com/ubuntu bionic InRelease\n",
            "Get:5 http://ppa.launchpad.net/c2d4u.team/c2d4u4.0+/ubuntu bionic InRelease [15.9 kB]\n",
            "Ign:6 https://developer.download.nvidia.com/compute/machine-learning/repos/ubuntu1804/x86_64  InRelease\n",
            "Get:7 https://developer.download.nvidia.com/compute/cuda/repos/ubuntu1804/x86_64  Release [696 B]\n",
            "Hit:8 https://developer.download.nvidia.com/compute/machine-learning/repos/ubuntu1804/x86_64  Release\n",
            "Get:9 http://archive.ubuntu.com/ubuntu bionic-updates InRelease [88.7 kB]\n",
            "Get:10 https://developer.download.nvidia.com/compute/cuda/repos/ubuntu1804/x86_64  Release.gpg [836 B]\n",
            "Hit:11 http://ppa.launchpad.net/cran/libgit2/ubuntu bionic InRelease\n",
            "Get:12 http://archive.ubuntu.com/ubuntu bionic-backports InRelease [74.6 kB]\n",
            "Hit:13 http://ppa.launchpad.net/deadsnakes/ppa/ubuntu bionic InRelease\n",
            "Get:14 http://ppa.launchpad.net/graphics-drivers/ppa/ubuntu bionic InRelease [21.3 kB]\n",
            "Get:15 http://security.ubuntu.com/ubuntu bionic-security/universe amd64 Packages [1,474 kB]\n",
            "Get:16 http://security.ubuntu.com/ubuntu bionic-security/main amd64 Packages [2,596 kB]\n",
            "Get:17 http://security.ubuntu.com/ubuntu bionic-security/restricted amd64 Packages [806 kB]\n",
            "Get:19 http://ppa.launchpad.net/c2d4u.team/c2d4u4.0+/ubuntu bionic/main Sources [1,827 kB]\n",
            "Get:20 https://developer.download.nvidia.com/compute/cuda/repos/ubuntu1804/x86_64  Packages [929 kB]\n",
            "Get:21 http://ppa.launchpad.net/c2d4u.team/c2d4u4.0+/ubuntu bionic/main amd64 Packages [937 kB]\n",
            "Get:22 http://archive.ubuntu.com/ubuntu bionic-updates/restricted amd64 Packages [840 kB]\n",
            "Get:23 http://archive.ubuntu.com/ubuntu bionic-updates/main amd64 Packages [3,035 kB]\n",
            "Get:24 http://archive.ubuntu.com/ubuntu bionic-updates/universe amd64 Packages [2,252 kB]\n",
            "Get:25 http://ppa.launchpad.net/graphics-drivers/ppa/ubuntu bionic/main amd64 Packages [42.8 kB]\n",
            "Fetched 15.0 MB in 9s (1,661 kB/s)\n",
            "Reading package lists... Done\n",
            "Reading package lists... Done\n",
            "Building dependency tree       \n",
            "Reading state information... Done\n",
            "The following package was automatically installed and is no longer required:\n",
            "  libnvidia-common-470\n",
            "Use 'apt autoremove' to remove it.\n",
            "The following additional packages will be installed:\n",
            "  chromium-browser chromium-browser-l10n chromium-codecs-ffmpeg-extra\n",
            "Suggested packages:\n",
            "  webaccounts-chromium-extension unity-chromium-extension\n",
            "The following NEW packages will be installed:\n",
            "  chromium-browser chromium-browser-l10n chromium-chromedriver\n",
            "  chromium-codecs-ffmpeg-extra\n",
            "0 upgraded, 4 newly installed, 0 to remove and 67 not upgraded.\n",
            "Need to get 95.3 MB of archives.\n",
            "After this operation, 327 MB of additional disk space will be used.\n",
            "Get:1 http://archive.ubuntu.com/ubuntu bionic-updates/universe amd64 chromium-codecs-ffmpeg-extra amd64 97.0.4692.71-0ubuntu0.18.04.1 [1,142 kB]\n",
            "Get:2 http://archive.ubuntu.com/ubuntu bionic-updates/universe amd64 chromium-browser amd64 97.0.4692.71-0ubuntu0.18.04.1 [84.7 MB]\n",
            "Get:3 http://archive.ubuntu.com/ubuntu bionic-updates/universe amd64 chromium-browser-l10n all 97.0.4692.71-0ubuntu0.18.04.1 [4,370 kB]\n",
            "Get:4 http://archive.ubuntu.com/ubuntu bionic-updates/universe amd64 chromium-chromedriver amd64 97.0.4692.71-0ubuntu0.18.04.1 [5,055 kB]\n",
            "Fetched 95.3 MB in 5s (19.6 MB/s)\n",
            "Selecting previously unselected package chromium-codecs-ffmpeg-extra.\n",
            "(Reading database ... 155320 files and directories currently installed.)\n",
            "Preparing to unpack .../chromium-codecs-ffmpeg-extra_97.0.4692.71-0ubuntu0.18.04.1_amd64.deb ...\n",
            "Unpacking chromium-codecs-ffmpeg-extra (97.0.4692.71-0ubuntu0.18.04.1) ...\n",
            "Selecting previously unselected package chromium-browser.\n",
            "Preparing to unpack .../chromium-browser_97.0.4692.71-0ubuntu0.18.04.1_amd64.deb ...\n",
            "Unpacking chromium-browser (97.0.4692.71-0ubuntu0.18.04.1) ...\n",
            "Selecting previously unselected package chromium-browser-l10n.\n",
            "Preparing to unpack .../chromium-browser-l10n_97.0.4692.71-0ubuntu0.18.04.1_all.deb ...\n",
            "Unpacking chromium-browser-l10n (97.0.4692.71-0ubuntu0.18.04.1) ...\n",
            "Selecting previously unselected package chromium-chromedriver.\n",
            "Preparing to unpack .../chromium-chromedriver_97.0.4692.71-0ubuntu0.18.04.1_amd64.deb ...\n",
            "Unpacking chromium-chromedriver (97.0.4692.71-0ubuntu0.18.04.1) ...\n",
            "Setting up chromium-codecs-ffmpeg-extra (97.0.4692.71-0ubuntu0.18.04.1) ...\n",
            "Setting up chromium-browser (97.0.4692.71-0ubuntu0.18.04.1) ...\n",
            "update-alternatives: using /usr/bin/chromium-browser to provide /usr/bin/x-www-browser (x-www-browser) in auto mode\n",
            "update-alternatives: using /usr/bin/chromium-browser to provide /usr/bin/gnome-www-browser (gnome-www-browser) in auto mode\n",
            "Setting up chromium-chromedriver (97.0.4692.71-0ubuntu0.18.04.1) ...\n",
            "Setting up chromium-browser-l10n (97.0.4692.71-0ubuntu0.18.04.1) ...\n",
            "Processing triggers for man-db (2.8.3-2ubuntu0.1) ...\n",
            "Processing triggers for hicolor-icon-theme (0.17-2) ...\n",
            "Processing triggers for mime-support (3.60ubuntu1) ...\n",
            "Processing triggers for libc-bin (2.27-3ubuntu1.3) ...\n",
            "/sbin/ldconfig.real: /usr/local/lib/python3.7/dist-packages/ideep4py/lib/libmkldnn.so.0 is not a symbolic link\n",
            "\n",
            "cp: '/usr/lib/chromium-browser/chromedriver' and '/usr/bin/chromedriver' are the same file\n"
          ]
        }
      ],
      "source": [
        "!pip install selenium\n",
        "!apt-get update\n",
        "!apt install chromium-chromedriver\n",
        "!cp /usr/lib/chromium-browser/chromedriver /usr/bin"
      ]
    },
    {
      "cell_type": "markdown",
      "source": [
        "# yahooニュースのスクレイピング"
      ],
      "metadata": {
        "id": "sLbFSfzMhriN"
      }
    },
    {
      "cell_type": "code",
      "source": [
        "# import libraries\n",
        "from selenium import webdriver\n",
        "from bs4 import BeautifulSoup\n",
        "from tqdm import tqdm\n",
        "import time\n",
        "import pandas as pd\n",
        "\n",
        "# initialize chrome driver (settings)\n",
        "options = webdriver.ChromeOptions()\n",
        "options.add_argument('--headless')\n",
        "options.add_argument('--no-sandbox')\n",
        "options.add_argument('--disable-dev-shm-usage')\n",
        "\n",
        "# create webdriver\n",
        "driver = webdriver.Chrome('chromedriver',options=options)"
      ],
      "metadata": {
        "id": "nSdWwqlNht4L"
      },
      "execution_count": 157,
      "outputs": []
    },
    {
      "cell_type": "code",
      "source": [
        "MAX_PAGE = 4\n",
        "href_list = []\n",
        "\n",
        "for i in range(1, MAX_PAGE+1):\n",
        "  print(f\"https://news.yahoo.co.jp/topics/business?page={i}\")\n",
        "  driver.get(f\"https://news.yahoo.co.jp/topics/business?page={i}\")\n",
        "  # html = driver.page_source.encode('utf-8')\n",
        "  html = driver.page_source\n",
        "\n",
        "  # bs4の設定\n",
        "  soup = BeautifulSoup(html, 'html.parser')\n",
        "#   print(soup)\n",
        "\n",
        "  # 現在いるページにある記事のリンク一覧\n",
        "  tmp = soup.find_all(class_=\"newsFeed_item_link\")\n",
        "  print(tmp)\n",
        "  # linkのtextをとってくる\n",
        "  for tar in tmp:\n",
        "    href_list.append(tar.get(\"href\"))\n",
        "  time.sleep(1)"
      ],
      "metadata": {
        "colab": {
          "base_uri": "https://localhost:8080/"
        },
        "id": "zDexuXU-hyEu",
        "outputId": "2e394781-d14a-4589-a275-24ed59cd2572"
      },
      "execution_count": 158,
      "outputs": [
        {
          "output_type": "stream",
          "name": "stdout",
          "text": [
            "https://news.yahoo.co.jp/topics/business?page=1\n",
            "[<a class=\"newsFeed_item_link\" data-cl-params=\"_cl_vmodule:st_topics;_cl_link:title;_cl_position:1;\" data-rapid_p=\"46\" data-ylk=\"rsec:st_topics;slk:title;pos:1;\" href=\"https://news.yahoo.co.jp/pickup/6419068\"><div class=\"newsFeed_item_thumbnail\"><div class=\"sc-dVhcbM jKVCqr thumbnail thumbnail-small\"><img alt=\"\" class=\"sc-eqIVtm koAuUY\" loading=\"lazy\" src=\"https://news-pctr.c.yimg.jp/t/news-topics/images/tpc/2022/2/23/8138674cc922f8c5f64089196ac0a855e1c0541b103243a5f03cfb24ad8d560c.jpg\"/></div></div><div class=\"newsFeed_item_text\"><div class=\"newsFeed_item_title\">ワークマンがキャンプ参入 なぜ今</div><div class=\"newsFeed_item_sub\"><div class=\"newsFeed_item_sourceWrap\"><time class=\"newsFeed_item_date\">2/23(水) 10:10</time></div></div></div></a>, <a class=\"newsFeed_item_link\" data-cl-params=\"_cl_vmodule:st_topics;_cl_link:title;_cl_position:2;\" data-rapid_p=\"47\" data-ylk=\"rsec:st_topics;slk:title;pos:2;\" href=\"https://news.yahoo.co.jp/pickup/6419066\"><div class=\"newsFeed_item_thumbnail\"><div class=\"sc-dVhcbM jKVCqr thumbnail thumbnail-small\"><img alt=\"\" class=\"sc-eqIVtm koAuUY\" loading=\"lazy\" src=\"https://news-pctr.c.yimg.jp/t/news-topics/images/tpc/2022/2/23/e43ba42294e72fa6e95633d201b325012ce9abffc68b82eeca7a3f8f3227d49b.jpg\"/></div></div><div class=\"newsFeed_item_text\"><div class=\"newsFeed_item_title\">味ぽん誕生 きっかけは「水炊き」</div><div class=\"newsFeed_item_sub\"><div class=\"newsFeed_item_sourceWrap\"><time class=\"newsFeed_item_date\">2/23(水) 9:38</time></div></div></div></a>, <a class=\"newsFeed_item_link\" data-cl-params=\"_cl_vmodule:st_topics;_cl_link:title;_cl_position:3;\" data-rapid_p=\"48\" data-ylk=\"rsec:st_topics;slk:title;pos:3;\" href=\"https://news.yahoo.co.jp/pickup/6419055\"><div class=\"newsFeed_item_thumbnail\"><div class=\"sc-dVhcbM jKVCqr thumbnail thumbnail-small\"><img alt=\"\" class=\"sc-eqIVtm koAuUY\" loading=\"lazy\" src=\"https://news-pctr.c.yimg.jp/t/news-topics/images/tpc/2022/2/23/02389d097a95dc85e3c77ea73ef03fdfd508cf003991f03277f4e76a4434c1eb.jpg\"/></div></div><div class=\"newsFeed_item_text\"><div class=\"newsFeed_item_title\">NY株482ドル安 軍事侵攻を警戒</div><div class=\"newsFeed_item_sub\"><div class=\"newsFeed_item_sourceWrap\"><time class=\"newsFeed_item_date\">2/23(水) 7:22</time></div></div></div></a>, <a class=\"newsFeed_item_link\" data-cl-params=\"_cl_vmodule:st_topics;_cl_link:title;_cl_position:4;\" data-rapid_p=\"49\" data-ylk=\"rsec:st_topics;slk:title;pos:4;\" href=\"https://news.yahoo.co.jp/pickup/6419032\"><div class=\"newsFeed_item_thumbnail\"><div class=\"sc-dVhcbM jKVCqr thumbnail thumbnail-small\"><img alt=\"\" class=\"sc-eqIVtm koAuUY\" loading=\"lazy\" src=\"https://news-pctr.c.yimg.jp/t/news-topics/images/tpc/2022/2/22/233ff495dad7ebf1dc61360bf1eb7ef67cf60a3cff4bb1790518f43be42725e5.jpg\"/></div></div><div class=\"newsFeed_item_text\"><div class=\"newsFeed_item_title\">東京市場 リスク回避の動き強まる</div><div class=\"newsFeed_item_sub\"><div class=\"newsFeed_item_sourceWrap\"><time class=\"newsFeed_item_date\">2/22(火) 20:19</time></div></div></div></a>, <a class=\"newsFeed_item_link\" data-cl-params=\"_cl_vmodule:st_topics;_cl_link:title;_cl_position:5;\" data-rapid_p=\"50\" data-ylk=\"rsec:st_topics;slk:title;pos:5;\" href=\"https://news.yahoo.co.jp/pickup/6419020\"><div class=\"newsFeed_item_thumbnail\"><div class=\"sc-dVhcbM jKVCqr thumbnail thumbnail-small\"><img alt=\"\" class=\"sc-eqIVtm koAuUY\" loading=\"lazy\" src=\"https://news-pctr.c.yimg.jp/t/news-topics/images/tpc/2022/2/22/3937ca63ad842e17233dea4acaa97588d8691df5a1ef18eace1e33bdc983bdc8.jpg\"/></div></div><div class=\"newsFeed_item_text\"><div class=\"newsFeed_item_title\">テレ朝会長陳謝 6月までに新体制</div><div class=\"newsFeed_item_sub\"><div class=\"newsFeed_item_sourceWrap\"><time class=\"newsFeed_item_date\">2/22(火) 17:54</time></div></div></div></a>, <a class=\"newsFeed_item_link\" data-cl-params=\"_cl_vmodule:st_topics;_cl_link:title;_cl_position:6;\" data-rapid_p=\"51\" data-ylk=\"rsec:st_topics;slk:title;pos:6;\" href=\"https://news.yahoo.co.jp/pickup/6419018\"><div class=\"newsFeed_item_thumbnail\"><div class=\"sc-dVhcbM jKVCqr thumbnail thumbnail-small\"><img alt=\"\" class=\"sc-eqIVtm koAuUY\" loading=\"lazy\" src=\"https://news-pctr.c.yimg.jp/t/news-topics/images/tpc/2022/2/22/42ba3ba5abba24ada771e88a6edc4fa5cdb83f64dfdd8c6add3f6b41a64fcefa.jpg\"/></div></div><div class=\"newsFeed_item_text\"><div class=\"newsFeed_item_title\">主要省庁の残業代400億円台 予算</div><div class=\"newsFeed_item_sub\"><div class=\"newsFeed_item_sourceWrap\"><time class=\"newsFeed_item_date\">2/22(火) 17:45</time></div></div></div></a>, <a class=\"newsFeed_item_link\" data-cl-params=\"_cl_vmodule:st_topics;_cl_link:title;_cl_position:7;\" data-rapid_p=\"52\" data-ylk=\"rsec:st_topics;slk:title;pos:7;\" href=\"https://news.yahoo.co.jp/pickup/6419014\"><div class=\"newsFeed_item_thumbnail\"><div class=\"sc-dVhcbM jKVCqr thumbnail thumbnail-small\"><img alt=\"\" class=\"sc-eqIVtm koAuUY\" loading=\"lazy\" src=\"https://news-pctr.c.yimg.jp/t/news-topics/images/tpc/2022/2/22/7c35f51decfae422c9acbb626814785e2214bcb6d9c3226aea8a3ed646946088.jpg\"/></div></div><div class=\"newsFeed_item_text\"><div class=\"newsFeed_item_title\">トラック業界で倒産相次ぐ 背景は</div><div class=\"newsFeed_item_sub\"><div class=\"newsFeed_item_sourceWrap\"><time class=\"newsFeed_item_date\">2/22(火) 17:34</time></div></div></div></a>, <a class=\"newsFeed_item_link\" data-cl-params=\"_cl_vmodule:st_topics;_cl_link:title;_cl_position:8;\" data-rapid_p=\"53\" data-ylk=\"rsec:st_topics;slk:title;pos:8;\" href=\"https://news.yahoo.co.jp/pickup/6419010\"><div class=\"newsFeed_item_thumbnail\"><div class=\"sc-dVhcbM jKVCqr thumbnail thumbnail-small\"><img alt=\"\" class=\"sc-eqIVtm koAuUY\" loading=\"lazy\" src=\"https://news-pctr.c.yimg.jp/t/news-topics/images/tpc/2022/2/22/756bf7273f5755dbecde8936d55fc234823b50ca117fba2ecaeca3c52f124466.jpg\"/></div></div><div class=\"newsFeed_item_text\"><div class=\"newsFeed_item_title\">「サッポロ一番」など値上げへ</div><div class=\"newsFeed_item_sub\"><div class=\"newsFeed_item_sourceWrap\"><time class=\"newsFeed_item_date\">2/22(火) 17:05</time></div></div></div></a>, <a class=\"newsFeed_item_link\" data-cl-params=\"_cl_vmodule:st_topics;_cl_link:title;_cl_position:9;\" data-rapid_p=\"54\" data-ylk=\"rsec:st_topics;slk:title;pos:9;\" href=\"https://news.yahoo.co.jp/pickup/6419003\"><div class=\"newsFeed_item_thumbnail\"><div class=\"sc-dVhcbM jKVCqr thumbnail thumbnail-small\"><img alt=\"\" class=\"sc-eqIVtm koAuUY\" loading=\"lazy\" src=\"https://news-pctr.c.yimg.jp/t/news-topics/images/tpc/2022/2/22/d1883cac2d019d27042d2bc0aa9eb944b99a0eb87655048f8c5a99d437a4ae23.jpg\"/></div></div><div class=\"newsFeed_item_text\"><div class=\"newsFeed_item_title\">中古住宅買い取り再販 参入相次ぐ</div><div class=\"newsFeed_item_sub\"><div class=\"newsFeed_item_sourceWrap\"><time class=\"newsFeed_item_date\">2/22(火) 16:30</time></div></div></div></a>, <a class=\"newsFeed_item_link\" data-cl-params=\"_cl_vmodule:st_topics;_cl_link:title;_cl_position:10;\" data-rapid_p=\"55\" data-ylk=\"rsec:st_topics;slk:title;pos:10;\" href=\"https://news.yahoo.co.jp/pickup/6418998\"><div class=\"newsFeed_item_thumbnail\"><div class=\"sc-dVhcbM jKVCqr thumbnail thumbnail-small\"><img alt=\"\" class=\"sc-eqIVtm koAuUY\" loading=\"lazy\" src=\"https://news-pctr.c.yimg.jp/t/news-topics/images/tpc/2022/2/22/2d6a7f75da38ab156ce574187a89b8ec33394d95e806601026737bed6489f81a.jpg\"/></div></div><div class=\"newsFeed_item_text\"><div class=\"newsFeed_item_title\">西九州新幹線 9月23日開業を発表</div><div class=\"newsFeed_item_sub\"><div class=\"newsFeed_item_sourceWrap\"><time class=\"newsFeed_item_date\">2/22(火) 15:26</time></div></div></div></a>, <a class=\"newsFeed_item_link\" data-cl-params=\"_cl_vmodule:st_topics;_cl_link:title;_cl_position:11;\" data-rapid_p=\"56\" data-ylk=\"rsec:st_topics;slk:title;pos:11;\" href=\"https://news.yahoo.co.jp/pickup/6418981\"><div class=\"newsFeed_item_thumbnail\"><div class=\"sc-dVhcbM gCUSJr thumbnail thumbnail-small\"><img alt=\"\" class=\"sc-eqIVtm koAuUY\" loading=\"lazy\" src=\"https://news-pctr.c.yimg.jp/r/iwiz-tpc/images/tpc/eternal/2017/11/7/1510033481_1423803235_1412920648_aflo_OWDE160420.jpg\"/><span class=\"sc-fAjcbJ eMBLgI\"><svg class=\"sc-gisBJw cMMbIo riff-text-current\" fill=\"currentColor\" focusable=\"false\" height=\"11\" viewbox=\"0 0 48 48\" width=\"11\"><path d=\"M40.88 25.38c1.494-.76 1.494-2.001 0-2.761L12.715 8.299C11.222 7.54 10 8.277 10 9.935v28.133c0 1.658 1.222 2.393 2.715 1.633L40.88 25.38z\" fill-rule=\"evenodd\"></path></svg><span class=\"sc-caSCKo eyxTTC\">0:37</span></span></div></div><div class=\"newsFeed_item_text\"><div class=\"newsFeed_item_title\">午前終値 582円安の2万6327円</div><div class=\"newsFeed_item_sub\"><div class=\"newsFeed_item_sourceWrap\"><time class=\"newsFeed_item_date\">2/22(火) 11:57</time></div></div></div></a>, <a class=\"newsFeed_item_link\" data-cl-params=\"_cl_vmodule:st_topics;_cl_link:title;_cl_position:12;\" data-rapid_p=\"57\" data-ylk=\"rsec:st_topics;slk:title;pos:12;\" href=\"https://news.yahoo.co.jp/pickup/6418971\"><div class=\"newsFeed_item_thumbnail\"><div class=\"sc-dVhcbM jKVCqr thumbnail thumbnail-small\"><img alt=\"\" class=\"sc-eqIVtm koAuUY\" loading=\"lazy\" src=\"https://news-pctr.c.yimg.jp/t/news-topics/images/tpc/2022/2/22/29f1b319bd01a4f5c3d1212bd50880b146c1b5239b9e745a2eef11c25ec31b75.jpg\"/></div></div><div class=\"newsFeed_item_text\"><div class=\"newsFeed_item_title\">東京株、一時500円超安</div><div class=\"newsFeed_item_sub\"><div class=\"newsFeed_item_sourceWrap\"><time class=\"newsFeed_item_date\">2/22(火) 9:56</time></div></div></div></a>, <a class=\"newsFeed_item_link\" data-cl-params=\"_cl_vmodule:st_topics;_cl_link:title;_cl_position:13;\" data-rapid_p=\"58\" data-ylk=\"rsec:st_topics;slk:title;pos:13;\" href=\"https://news.yahoo.co.jp/pickup/6418959\"><div class=\"newsFeed_item_thumbnail\"><div class=\"sc-dVhcbM jKVCqr thumbnail thumbnail-small\"><img alt=\"\" class=\"sc-eqIVtm koAuUY\" loading=\"lazy\" src=\"https://news-pctr.c.yimg.jp/r/iwiz-tpc/images/tpc/eternal/2017/10/27/1509081692_1427194511_1427194505_topics550x550.jpg\"/></div></div><div class=\"newsFeed_item_text\"><div class=\"newsFeed_item_title\">休校の助成金、活用を拒む企業も</div><div class=\"newsFeed_item_sub\"><div class=\"newsFeed_item_sourceWrap\"><time class=\"newsFeed_item_date\">2/22(火) 8:14</time></div></div></div></a>, <a class=\"newsFeed_item_link\" data-cl-params=\"_cl_vmodule:st_topics;_cl_link:title;_cl_position:14;\" data-rapid_p=\"59\" data-ylk=\"rsec:st_topics;slk:title;pos:14;\" href=\"https://news.yahoo.co.jp/pickup/6418923\"><div class=\"newsFeed_item_thumbnail\"><div class=\"sc-dVhcbM jKVCqr thumbnail thumbnail-small\"><img alt=\"\" class=\"sc-eqIVtm koAuUY\" loading=\"lazy\" src=\"https://news-pctr.c.yimg.jp/t/news-topics/images/tpc/2022/2/21/d1e9d495185125511fd9876aceb0bb3143e004d96d15a2f46c9c539c99002a14.jpg\"/></div></div><div class=\"newsFeed_item_text\"><div class=\"newsFeed_item_title\">ハイウェイテレホン3月で全面終了</div><div class=\"newsFeed_item_sub\"><div class=\"newsFeed_item_sourceWrap\"><time class=\"newsFeed_item_date\">2/21(月) 20:02</time></div></div></div></a>, <a class=\"newsFeed_item_link\" data-cl-params=\"_cl_vmodule:st_topics;_cl_link:title;_cl_position:15;\" data-rapid_p=\"60\" data-ylk=\"rsec:st_topics;slk:title;pos:15;\" href=\"https://news.yahoo.co.jp/pickup/6418906\"><div class=\"newsFeed_item_thumbnail\"><div class=\"sc-dVhcbM jKVCqr thumbnail thumbnail-small\"><img alt=\"\" class=\"sc-eqIVtm koAuUY\" loading=\"lazy\" src=\"https://news-pctr.c.yimg.jp/r/iwiz-tpc/images/tpc/eternal/2017/11/7/1510033385_1488774311_943172809.jpg\"/></div></div><div class=\"newsFeed_item_text\"><div class=\"newsFeed_item_title\">企業7割が来年度賃上げ予定 調査</div><div class=\"newsFeed_item_sub\"><div class=\"newsFeed_item_sourceWrap\"><time class=\"newsFeed_item_date\">2/21(月) 17:24</time></div></div></div></a>, <a class=\"newsFeed_item_link\" data-cl-params=\"_cl_vmodule:st_topics;_cl_link:title;_cl_position:16;\" data-rapid_p=\"61\" data-ylk=\"rsec:st_topics;slk:title;pos:16;\" href=\"https://news.yahoo.co.jp/pickup/6418908\"><div class=\"newsFeed_item_thumbnail\"><div class=\"sc-dVhcbM jKVCqr thumbnail thumbnail-small\"><img alt=\"\" class=\"sc-eqIVtm koAuUY\" loading=\"lazy\" src=\"https://news-pctr.c.yimg.jp/t/news-topics/images/tpc/2022/2/21/e28810cb6594b4e73cd3067d47e509a1b25e2abe85d335eccd4ea854939b39ae.jpg\"/></div></div><div class=\"newsFeed_item_text\"><div class=\"newsFeed_item_title\">逆風も妊娠検査薬発売 社員の執念</div><div class=\"newsFeed_item_sub\"><div class=\"newsFeed_item_sourceWrap\"><time class=\"newsFeed_item_date\">2/21(月) 17:21</time></div></div></div></a>, <a class=\"newsFeed_item_link\" data-cl-params=\"_cl_vmodule:st_topics;_cl_link:title;_cl_position:17;\" data-rapid_p=\"62\" data-ylk=\"rsec:st_topics;slk:title;pos:17;\" href=\"https://news.yahoo.co.jp/pickup/6418896\"><div class=\"newsFeed_item_thumbnail\"><div class=\"sc-dVhcbM jKVCqr thumbnail thumbnail-small\"><img alt=\"\" class=\"sc-eqIVtm koAuUY\" loading=\"lazy\" src=\"https://news-pctr.c.yimg.jp/t/news-topics/images/tpc/2022/2/21/a309bfc7279a87edfe3b5c4e4c96a997f104d0f84f81b4dbbb703e7110bf4fa0.jpg\"/></div></div><div class=\"newsFeed_item_text\"><div class=\"newsFeed_item_title\">「映画秘宝」再び休刊に 双葉社</div><div class=\"newsFeed_item_sub\"><div class=\"newsFeed_item_sourceWrap\"><time class=\"newsFeed_item_date\">2/21(月) 15:02</time></div></div></div></a>, <a class=\"newsFeed_item_link\" data-cl-params=\"_cl_vmodule:st_topics;_cl_link:title;_cl_position:18;\" data-rapid_p=\"63\" data-ylk=\"rsec:st_topics;slk:title;pos:18;\" href=\"https://news.yahoo.co.jp/pickup/6418891\"><div class=\"newsFeed_item_thumbnail\"><div class=\"sc-dVhcbM jKVCqr thumbnail thumbnail-small\"><img alt=\"\" class=\"sc-eqIVtm koAuUY\" loading=\"lazy\" src=\"https://news-pctr.c.yimg.jp/t/news-topics/images/tpc/eternal/2017/11/7/1510032811_1500011642_27915962.jpg\"/></div></div><div class=\"newsFeed_item_text\"><div class=\"newsFeed_item_title\">台湾が福島産など禁輸解除 農水省</div><div class=\"newsFeed_item_sub\"><div class=\"newsFeed_item_sourceWrap\"><time class=\"newsFeed_item_date\">2/21(月) 14:43</time></div></div></div></a>, <a class=\"newsFeed_item_link\" data-cl-params=\"_cl_vmodule:st_topics;_cl_link:title;_cl_position:19;\" data-rapid_p=\"64\" data-ylk=\"rsec:st_topics;slk:title;pos:19;\" href=\"https://news.yahoo.co.jp/pickup/6418889\"><div class=\"newsFeed_item_thumbnail\"><div class=\"sc-dVhcbM jKVCqr thumbnail thumbnail-small\"><img alt=\"\" class=\"sc-eqIVtm koAuUY\" loading=\"lazy\" src=\"https://news-pctr.c.yimg.jp/t/news-topics/images/tpc/2022/2/21/ab17cd1a857f787462c3d020c3c1b3124118903d7bb3cf02e08f2c9d490a0712.jpg\"/></div></div><div class=\"newsFeed_item_text\"><div class=\"newsFeed_item_title\">ウクライナ宛て航空郵便 一時停止</div><div class=\"newsFeed_item_sub\"><div class=\"newsFeed_item_sourceWrap\"><time class=\"newsFeed_item_date\">2/21(月) 13:54</time></div></div></div></a>, <a class=\"newsFeed_item_link\" data-cl-params=\"_cl_vmodule:st_topics;_cl_link:title;_cl_position:20;\" data-rapid_p=\"65\" data-ylk=\"rsec:st_topics;slk:title;pos:20;\" href=\"https://news.yahoo.co.jp/pickup/6418883\"><div class=\"newsFeed_item_thumbnail\"><div class=\"sc-dVhcbM gCUSJr thumbnail thumbnail-small\"><img alt=\"\" class=\"sc-eqIVtm koAuUY\" loading=\"lazy\" src=\"https://news-pctr.c.yimg.jp/t/news-topics/images/tpc/2022/2/21/982c2fe67ae2e5ebaa8786483c3ff09d2c82e178473355eb4ed88cb6515995f6.jpg\"/><span class=\"sc-fAjcbJ eMBLgI\"><svg class=\"sc-gisBJw cMMbIo riff-text-current\" fill=\"currentColor\" focusable=\"false\" height=\"11\" viewbox=\"0 0 48 48\" width=\"11\"><path d=\"M40.88 25.38c1.494-.76 1.494-2.001 0-2.761L12.715 8.299C11.222 7.54 10 8.277 10 9.935v28.133c0 1.658 1.222 2.393 2.715 1.633L40.88 25.38z\" fill-rule=\"evenodd\"></path></svg><span class=\"sc-caSCKo eyxTTC\">0:47</span></span></div></div><div class=\"newsFeed_item_text\"><div class=\"newsFeed_item_title\">大阪府に5億円寄付 三菱UFJ発表</div><div class=\"newsFeed_item_sub\"><div class=\"newsFeed_item_sourceWrap\"><time class=\"newsFeed_item_date\">2/21(月) 13:25</time></div></div></div></a>, <a class=\"newsFeed_item_link\" data-cl-params=\"_cl_vmodule:st_topics;_cl_link:title;_cl_position:21;\" data-rapid_p=\"66\" data-ylk=\"rsec:st_topics;slk:title;pos:21;\" href=\"https://news.yahoo.co.jp/pickup/6418881\"><div class=\"newsFeed_item_thumbnail\"><div class=\"sc-dVhcbM jKVCqr thumbnail thumbnail-small\"><img alt=\"\" class=\"sc-eqIVtm koAuUY\" loading=\"lazy\" src=\"https://news-pctr.c.yimg.jp/t/news-topics/images/tpc/2022/2/21/174b53a7cd9527c44f7864616dc20eeb6f4110d608861370880354b5424cb552.jpg\"/></div></div><div class=\"newsFeed_item_text\"><div class=\"newsFeed_item_title\">偽装をチャンスに アサリ再生機運</div><div class=\"newsFeed_item_sub\"><div class=\"newsFeed_item_sourceWrap\"><time class=\"newsFeed_item_date\">2/21(月) 13:08</time></div></div></div></a>, <a class=\"newsFeed_item_link\" data-cl-params=\"_cl_vmodule:st_topics;_cl_link:title;_cl_position:22;\" data-rapid_p=\"67\" data-ylk=\"rsec:st_topics;slk:title;pos:22;\" href=\"https://news.yahoo.co.jp/pickup/6418872\"><div class=\"newsFeed_item_thumbnail\"><div class=\"sc-dVhcbM jKVCqr thumbnail thumbnail-small\"><img alt=\"\" class=\"sc-eqIVtm koAuUY\" loading=\"lazy\" src=\"https://news-pctr.c.yimg.jp/t/news-topics/images/tpc/eternal/2017/11/7/1510033481_1423803235_1412920648_aflo_OWDE160420.jpg\"/></div></div><div class=\"newsFeed_item_text\"><div class=\"newsFeed_item_title\">午前終値 196円安の2万6926円</div><div class=\"newsFeed_item_sub\"><div class=\"newsFeed_item_sourceWrap\"><time class=\"newsFeed_item_date\">2/21(月) 11:48</time></div></div></div></a>, <a class=\"newsFeed_item_link\" data-cl-params=\"_cl_vmodule:st_topics;_cl_link:title;_cl_position:23;\" data-rapid_p=\"68\" data-ylk=\"rsec:st_topics;slk:title;pos:23;\" href=\"https://news.yahoo.co.jp/pickup/6418865\"><div class=\"newsFeed_item_thumbnail\"><div class=\"sc-dVhcbM jKVCqr thumbnail thumbnail-small\"><img alt=\"\" class=\"sc-eqIVtm koAuUY\" loading=\"lazy\" src=\"https://news-pctr.c.yimg.jp/t/news-topics/images/tpc/2022/2/21/ba0b479e0c6376fa9afe700ce7d4242ee843b9c35ebb509f14fb1dff0c8a4ec8.jpg\"/></div></div><div class=\"newsFeed_item_text\"><div class=\"newsFeed_item_title\">金先物が最高値更新 1年半ぶり</div><div class=\"newsFeed_item_sub\"><div class=\"newsFeed_item_sourceWrap\"><time class=\"newsFeed_item_date\">2/21(月) 10:35</time></div></div></div></a>, <a class=\"newsFeed_item_link\" data-cl-params=\"_cl_vmodule:st_topics;_cl_link:title;_cl_position:24;\" data-rapid_p=\"69\" data-ylk=\"rsec:st_topics;slk:title;pos:24;\" href=\"https://news.yahoo.co.jp/pickup/6418862\"><div class=\"newsFeed_item_thumbnail\"><div class=\"sc-dVhcbM jKVCqr thumbnail thumbnail-small\"><img alt=\"\" class=\"sc-eqIVtm koAuUY\" loading=\"lazy\" src=\"https://news-pctr.c.yimg.jp/t/news-topics/images/tpc/2022/2/21/30754f03f22f69475c5b75315edf89804f8e3e584e186237ea787c29eea48dfd.jpg\"/></div></div><div class=\"newsFeed_item_text\"><div class=\"newsFeed_item_title\">東京株、一時500円超安</div><div class=\"newsFeed_item_sub\"><div class=\"newsFeed_item_sourceWrap\"><time class=\"newsFeed_item_date\">2/21(月) 9:53</time></div></div></div></a>, <a class=\"newsFeed_item_link\" data-cl-params=\"_cl_vmodule:st_topics;_cl_link:title;_cl_position:25;\" data-rapid_p=\"70\" data-ylk=\"rsec:st_topics;slk:title;pos:25;\" href=\"https://news.yahoo.co.jp/pickup/6418854\"><div class=\"newsFeed_item_thumbnail\"><div class=\"sc-dVhcbM jKVCqr thumbnail thumbnail-small\"><img alt=\"\" class=\"sc-eqIVtm koAuUY\" loading=\"lazy\" src=\"https://news-pctr.c.yimg.jp/r/iwiz-tpc/images/tpc/eternal/2017/10/27/1509081692_1427194511_1427194505_topics550x550.jpg\"/></div></div><div class=\"newsFeed_item_text\"><div class=\"newsFeed_item_title\">三菱UFJ 大阪府に5億円寄付へ</div><div class=\"newsFeed_item_sub\"><div class=\"newsFeed_item_sourceWrap\"><time class=\"newsFeed_item_date\">2/21(月) 8:28</time></div></div></div></a>]\n",
            "https://news.yahoo.co.jp/topics/business?page=2\n",
            "[<a class=\"newsFeed_item_link\" data-cl-params=\"_cl_vmodule:st_topics;_cl_link:title;_cl_position:1;\" data-rapid_p=\"46\" data-ylk=\"rsec:st_topics;slk:title;pos:1;\" href=\"https://news.yahoo.co.jp/pickup/6418853\"><div class=\"newsFeed_item_thumbnail\"><div class=\"sc-dVhcbM jKVCqr thumbnail thumbnail-small\"><img alt=\"\" class=\"sc-eqIVtm koAuUY\" loading=\"lazy\" src=\"https://news-pctr.c.yimg.jp/t/news-topics/images/tpc/2022/2/21/e5955d819fa25ffa96c62897b2cfbf55437990af095e423905547dc4c43b998f.jpg\"/></div></div><div class=\"newsFeed_item_text\"><div class=\"newsFeed_item_title\">弁当大手とコンビニ 胃袋争奪戦か</div><div class=\"newsFeed_item_sub\"><div class=\"newsFeed_item_sourceWrap\"><time class=\"newsFeed_item_date\">2/21(月) 8:16</time></div></div></div></a>, <a class=\"newsFeed_item_link\" data-cl-params=\"_cl_vmodule:st_topics;_cl_link:title;_cl_position:2;\" data-rapid_p=\"47\" data-ylk=\"rsec:st_topics;slk:title;pos:2;\" href=\"https://news.yahoo.co.jp/pickup/6418832\"><div class=\"newsFeed_item_thumbnail\"><div class=\"sc-dVhcbM jKVCqr thumbnail thumbnail-small\"><img alt=\"\" class=\"sc-eqIVtm koAuUY\" loading=\"lazy\" src=\"https://news-pctr.c.yimg.jp/t/news-topics/images/tpc/2022/2/20/500a8ad6e0786cbba4e19c31fc14e48154ac72598b27e95f9e03625b421276e0.jpg\"/></div></div><div class=\"newsFeed_item_text\"><div class=\"newsFeed_item_title\">五輪 日本企業の関連CMゼロ</div><div class=\"newsFeed_item_sub\"><div class=\"newsFeed_item_sourceWrap\"><time class=\"newsFeed_item_date\">2/20(日) 21:58</time></div></div></div></a>, <a class=\"newsFeed_item_link\" data-cl-params=\"_cl_vmodule:st_topics;_cl_link:title;_cl_position:3;\" data-rapid_p=\"48\" data-ylk=\"rsec:st_topics;slk:title;pos:3;\" href=\"https://news.yahoo.co.jp/pickup/6418822\"><div class=\"newsFeed_item_thumbnail\"><div class=\"sc-dVhcbM jKVCqr thumbnail thumbnail-small\"><img alt=\"\" class=\"sc-eqIVtm koAuUY\" loading=\"lazy\" src=\"https://news-pctr.c.yimg.jp/t/news-topics/images/tpc/2022/2/20/b74bc1ed30b7849714eb70cf84f7afea5b02ab663280d24f7cd88bba92bd41d1.jpg\"/></div></div><div class=\"newsFeed_item_text\"><div class=\"newsFeed_item_title\">土方歳三資料館 10月末で長期休館</div><div class=\"newsFeed_item_sub\"><div class=\"newsFeed_item_sourceWrap\"><time class=\"newsFeed_item_date\">2/20(日) 19:49</time></div></div></div></a>, <a class=\"newsFeed_item_link\" data-cl-params=\"_cl_vmodule:st_topics;_cl_link:title;_cl_position:4;\" data-rapid_p=\"49\" data-ylk=\"rsec:st_topics;slk:title;pos:4;\" href=\"https://news.yahoo.co.jp/pickup/6418777\"><div class=\"newsFeed_item_thumbnail\"><div class=\"sc-dVhcbM jKVCqr thumbnail thumbnail-small\"><img alt=\"\" class=\"sc-eqIVtm koAuUY\" loading=\"lazy\" src=\"https://news-pctr.c.yimg.jp/t/news-topics/images/tpc/2022/2/20/1b1c265d69c776883b685ace95a3eb9ec0281e85c9d98d4f06550a4dea474a84.jpg\"/></div></div><div class=\"newsFeed_item_text\"><div class=\"newsFeed_item_title\">EV競争 日本巻き返しへ課題山積</div><div class=\"newsFeed_item_sub\"><div class=\"newsFeed_item_sourceWrap\"><time class=\"newsFeed_item_date\">2/20(日) 11:27</time></div></div></div></a>, <a class=\"newsFeed_item_link\" data-cl-params=\"_cl_vmodule:st_topics;_cl_link:title;_cl_position:5;\" data-rapid_p=\"50\" data-ylk=\"rsec:st_topics;slk:title;pos:5;\" href=\"https://news.yahoo.co.jp/pickup/6418776\"><div class=\"newsFeed_item_thumbnail\"><div class=\"sc-dVhcbM jKVCqr thumbnail thumbnail-small\"><img alt=\"\" class=\"sc-eqIVtm koAuUY\" loading=\"lazy\" src=\"https://news-pctr.c.yimg.jp/t/news-topics/images/tpc/2022/2/20/3154b699593fbbea04c206faa32ac4484b3771c85220f123d05d939b0ae46289.jpg\"/></div></div><div class=\"newsFeed_item_text\"><div class=\"newsFeed_item_title\">市場は強気 米FRB読めぬ物価動向</div><div class=\"newsFeed_item_sub\"><div class=\"newsFeed_item_sourceWrap\"><time class=\"newsFeed_item_date\">2/20(日) 11:25</time></div></div></div></a>, <a class=\"newsFeed_item_link\" data-cl-params=\"_cl_vmodule:st_topics;_cl_link:title;_cl_position:6;\" data-rapid_p=\"51\" data-ylk=\"rsec:st_topics;slk:title;pos:6;\" href=\"https://news.yahoo.co.jp/pickup/6418764\"><div class=\"newsFeed_item_thumbnail\"><div class=\"sc-dVhcbM jKVCqr thumbnail thumbnail-small\"><img alt=\"\" class=\"sc-eqIVtm koAuUY\" loading=\"lazy\" src=\"https://news-pctr.c.yimg.jp/t/news-topics/images/tpc/2022/2/20/8806a772261aee243c288c399deaae659a85fce34f68abade9aaa241b262218e.jpg\"/></div></div><div class=\"newsFeed_item_text\"><div class=\"newsFeed_item_title\">香川県内1店舗に 苦戦の丸亀製麺</div><div class=\"newsFeed_item_sub\"><div class=\"newsFeed_item_sourceWrap\"><time class=\"newsFeed_item_date\">2/20(日) 8:55</time></div></div></div></a>, <a class=\"newsFeed_item_link\" data-cl-params=\"_cl_vmodule:st_topics;_cl_link:title;_cl_position:7;\" data-rapid_p=\"52\" data-ylk=\"rsec:st_topics;slk:title;pos:7;\" href=\"https://news.yahoo.co.jp/pickup/6418761\"><div class=\"newsFeed_item_thumbnail\"><div class=\"sc-dVhcbM jKVCqr thumbnail thumbnail-small\"><img alt=\"\" class=\"sc-eqIVtm koAuUY\" loading=\"lazy\" src=\"https://news-pctr.c.yimg.jp/t/news-topics/images/tpc/2022/2/20/62797e7285f553ab7003d491376747d12145b23c1882145f849d7b71583d5b67.jpg\"/></div></div><div class=\"newsFeed_item_text\"><div class=\"newsFeed_item_title\">高速料金の不払い 国交省が新方針</div><div class=\"newsFeed_item_sub\"><div class=\"newsFeed_item_sourceWrap\"><time class=\"newsFeed_item_date\">2/20(日) 8:51</time></div></div></div></a>, <a class=\"newsFeed_item_link\" data-cl-params=\"_cl_vmodule:st_topics;_cl_link:title;_cl_position:8;\" data-rapid_p=\"53\" data-ylk=\"rsec:st_topics;slk:title;pos:8;\" href=\"https://news.yahoo.co.jp/pickup/6418726\"><div class=\"newsFeed_item_thumbnail\"><div class=\"sc-dVhcbM jKVCqr thumbnail thumbnail-small\"><img alt=\"\" class=\"sc-eqIVtm koAuUY\" loading=\"lazy\" src=\"https://news-pctr.c.yimg.jp/t/news-topics/images/tpc/2022/2/19/9ee5ef63a412441177a93743776208b26496d9c2b761c8e163fa44fbf00f1bd0.jpg\"/></div></div><div class=\"newsFeed_item_text\"><div class=\"newsFeed_item_title\">すしに活用も? 開発進む培養魚肉</div><div class=\"newsFeed_item_sub\"><div class=\"newsFeed_item_sourceWrap\"><time class=\"newsFeed_item_date\">2/19(土) 19:15</time></div></div></div></a>, <a class=\"newsFeed_item_link\" data-cl-params=\"_cl_vmodule:st_topics;_cl_link:title;_cl_position:9;\" data-rapid_p=\"54\" data-ylk=\"rsec:st_topics;slk:title;pos:9;\" href=\"https://news.yahoo.co.jp/pickup/6418715\"><div class=\"newsFeed_item_thumbnail\"><div class=\"sc-dVhcbM jKVCqr thumbnail thumbnail-small\"><img alt=\"\" class=\"sc-eqIVtm koAuUY\" loading=\"lazy\" src=\"https://news-pctr.c.yimg.jp/t/news-topics/images/tpc/2022/2/19/d9de3472e9a67ca3d342ce970ba6a3d1ea452d027867ce0b414aefa4e0460be5.jpg\"/></div></div><div class=\"newsFeed_item_text\"><div class=\"newsFeed_item_title\">耳で焙煎のコーヒー豆 収益の柱に</div><div class=\"newsFeed_item_sub\"><div class=\"newsFeed_item_sourceWrap\"><time class=\"newsFeed_item_date\">2/19(土) 16:57</time></div></div></div></a>, <a class=\"newsFeed_item_link\" data-cl-params=\"_cl_vmodule:st_topics;_cl_link:title;_cl_position:10;\" data-rapid_p=\"55\" data-ylk=\"rsec:st_topics;slk:title;pos:10;\" href=\"https://news.yahoo.co.jp/pickup/6418713\"><div class=\"newsFeed_item_thumbnail\"><div class=\"sc-dVhcbM jKVCqr thumbnail thumbnail-small\"><img alt=\"\" class=\"sc-eqIVtm koAuUY\" loading=\"lazy\" src=\"https://news-pctr.c.yimg.jp/t/news-topics/images/tpc/2022/2/19/ccaa85ff7d8e9c40d0e161aed141bbdc20de7d24d37f3cb74af40ae41ef1d600.jpg\"/></div></div><div class=\"newsFeed_item_text\"><div class=\"newsFeed_item_title\">人口7割減のスノボ 五輪で再浮上</div><div class=\"newsFeed_item_sub\"><div class=\"newsFeed_item_sourceWrap\"><time class=\"newsFeed_item_date\">2/19(土) 16:22</time></div></div></div></a>, <a class=\"newsFeed_item_link\" data-cl-params=\"_cl_vmodule:st_topics;_cl_link:title;_cl_position:11;\" data-rapid_p=\"56\" data-ylk=\"rsec:st_topics;slk:title;pos:11;\" href=\"https://news.yahoo.co.jp/pickup/6418709\"><div class=\"newsFeed_item_thumbnail\"><div class=\"sc-dVhcbM jKVCqr thumbnail thumbnail-small\"><img alt=\"\" class=\"sc-eqIVtm koAuUY\" loading=\"lazy\" src=\"https://news-pctr.c.yimg.jp/t/news-topics/images/tpc/2022/2/19/0420682b24975a8fa9cea62b461b7e50687759e1c2353a9457804768634509ae.jpg\"/></div></div><div class=\"newsFeed_item_text\"><div class=\"newsFeed_item_title\">業務用スーパー 業務用名乗る理由</div><div class=\"newsFeed_item_sub\"><div class=\"newsFeed_item_sourceWrap\"><time class=\"newsFeed_item_date\">2/19(土) 14:59</time></div></div></div></a>, <a class=\"newsFeed_item_link\" data-cl-params=\"_cl_vmodule:st_topics;_cl_link:title;_cl_position:12;\" data-rapid_p=\"57\" data-ylk=\"rsec:st_topics;slk:title;pos:12;\" href=\"https://news.yahoo.co.jp/pickup/6418693\"><div class=\"newsFeed_item_thumbnail\"><div class=\"sc-dVhcbM jKVCqr thumbnail thumbnail-small\"><img alt=\"\" class=\"sc-eqIVtm koAuUY\" loading=\"lazy\" src=\"https://news-pctr.c.yimg.jp/t/news-topics/images/tpc/2022/2/19/74d7132a470d3333eb7f2aadc858e4804144e16bb3d4c015726d5be81fe2fcde.jpg\"/></div></div><div class=\"newsFeed_item_text\"><div class=\"newsFeed_item_title\">JR九州新体制 社長8年ぶり交代へ</div><div class=\"newsFeed_item_sub\"><div class=\"newsFeed_item_sourceWrap\"><time class=\"newsFeed_item_date\">2/19(土) 11:57</time></div></div></div></a>, <a class=\"newsFeed_item_link\" data-cl-params=\"_cl_vmodule:st_topics;_cl_link:title;_cl_position:13;\" data-rapid_p=\"58\" data-ylk=\"rsec:st_topics;slk:title;pos:13;\" href=\"https://news.yahoo.co.jp/pickup/6418682\"><div class=\"newsFeed_item_thumbnail\"><div class=\"sc-dVhcbM jKVCqr thumbnail thumbnail-small\"><img alt=\"\" class=\"sc-eqIVtm koAuUY\" loading=\"lazy\" src=\"https://news-pctr.c.yimg.jp/t/news-topics/images/tpc/2022/2/19/b81d4de545113b1f53b670c2e3c5a9306292578b9f545e5ce2c8da62588c5a99.jpg\"/></div></div><div class=\"newsFeed_item_text\"><div class=\"newsFeed_item_title\">感染拡大 避けられない景気急失速</div><div class=\"newsFeed_item_sub\"><div class=\"newsFeed_item_sourceWrap\"><time class=\"newsFeed_item_date\">2/19(土) 9:56</time></div></div></div></a>, <a class=\"newsFeed_item_link\" data-cl-params=\"_cl_vmodule:st_topics;_cl_link:title;_cl_position:14;\" data-rapid_p=\"59\" data-ylk=\"rsec:st_topics;slk:title;pos:14;\" href=\"https://news.yahoo.co.jp/pickup/6418656\"><div class=\"newsFeed_item_thumbnail\"><div class=\"sc-dVhcbM jKVCqr thumbnail thumbnail-small\"><img alt=\"\" class=\"sc-eqIVtm koAuUY\" loading=\"lazy\" src=\"https://news-pctr.c.yimg.jp/t/news-topics/images/tpc/2022/2/18/3dd337e070ab250036a7d50fc504e8ebc2409da68e69c53ac67e7a8f46a80dd5.jpg\"/></div></div><div class=\"newsFeed_item_text\"><div class=\"newsFeed_item_title\">温かい水試験販売 女性狙うセブン</div><div class=\"newsFeed_item_sub\"><div class=\"newsFeed_item_sourceWrap\"><time class=\"newsFeed_item_date\">2/18(金) 23:05</time></div></div></div></a>, <a class=\"newsFeed_item_link\" data-cl-params=\"_cl_vmodule:st_topics;_cl_link:title;_cl_position:15;\" data-rapid_p=\"60\" data-ylk=\"rsec:st_topics;slk:title;pos:15;\" href=\"https://news.yahoo.co.jp/pickup/6418647\"><div class=\"newsFeed_item_thumbnail\"><div class=\"sc-dVhcbM jKVCqr thumbnail thumbnail-small\"><img alt=\"\" class=\"sc-eqIVtm koAuUY\" loading=\"lazy\" src=\"https://news-pctr.c.yimg.jp/t/news-topics/images/tpc/2022/2/18/3d95e4532784e3e26c60508e9e918d92d3bf42d05715cf7620929a4fb738e7e3.jpg\"/></div></div><div class=\"newsFeed_item_text\"><div class=\"newsFeed_item_title\">クレベリン増産も裏目 95億円赤字</div><div class=\"newsFeed_item_sub\"><div class=\"newsFeed_item_sourceWrap\"><time class=\"newsFeed_item_date\">2/18(金) 22:09</time></div></div></div></a>, <a class=\"newsFeed_item_link\" data-cl-params=\"_cl_vmodule:st_topics;_cl_link:title;_cl_position:16;\" data-rapid_p=\"61\" data-ylk=\"rsec:st_topics;slk:title;pos:16;\" href=\"https://news.yahoo.co.jp/pickup/6418632\"><div class=\"newsFeed_item_thumbnail\"><div class=\"sc-dVhcbM jKVCqr thumbnail thumbnail-small\"><img alt=\"\" class=\"sc-eqIVtm koAuUY\" loading=\"lazy\" src=\"https://news-pctr.c.yimg.jp/t/news-topics/images/tpc/2022/2/18/98157a3a0abc0463a6122c44f1f01a270cc6a0532d88f3cb9b48ea53ea962a25.jpg\"/></div></div><div class=\"newsFeed_item_text\"><div class=\"newsFeed_item_title\">ガソリン補助 上限引き上げ方針</div><div class=\"newsFeed_item_sub\"><div class=\"newsFeed_item_sourceWrap\"><time class=\"newsFeed_item_date\">2/18(金) 20:08</time></div></div></div></a>, <a class=\"newsFeed_item_link\" data-cl-params=\"_cl_vmodule:st_topics;_cl_link:title;_cl_position:17;\" data-rapid_p=\"62\" data-ylk=\"rsec:st_topics;slk:title;pos:17;\" href=\"https://news.yahoo.co.jp/pickup/6418626\"><div class=\"newsFeed_item_thumbnail\"><div class=\"sc-dVhcbM gCUSJr thumbnail thumbnail-small\"><img alt=\"\" class=\"sc-eqIVtm koAuUY\" loading=\"lazy\" src=\"https://news-pctr.c.yimg.jp/t/news-topics/images/tpc/2022/2/18/ccd326cce908fce7d0625e78a903bba9217b145efd6709a810818afb2047f9f2.jpg\"/><span class=\"sc-fAjcbJ eMBLgI\"><svg class=\"sc-gisBJw cMMbIo riff-text-current\" fill=\"currentColor\" focusable=\"false\" height=\"11\" viewbox=\"0 0 48 48\" width=\"11\"><path d=\"M40.88 25.38c1.494-.76 1.494-2.001 0-2.761L12.715 8.299C11.222 7.54 10 8.277 10 9.935v28.133c0 1.658 1.222 2.393 2.715 1.633L40.88 25.38z\" fill-rule=\"evenodd\"></path></svg><span class=\"sc-caSCKo eyxTTC\">2:05</span></span></div></div><div class=\"newsFeed_item_text\"><div class=\"newsFeed_item_title\">コストコ商品を駅受け取り 実験</div><div class=\"newsFeed_item_sub\"><div class=\"newsFeed_item_sourceWrap\"><time class=\"newsFeed_item_date\">2/18(金) 19:01</time></div></div></div></a>, <a class=\"newsFeed_item_link\" data-cl-params=\"_cl_vmodule:st_topics;_cl_link:title;_cl_position:18;\" data-rapid_p=\"63\" data-ylk=\"rsec:st_topics;slk:title;pos:18;\" href=\"https://news.yahoo.co.jp/pickup/6418625\"><div class=\"newsFeed_item_thumbnail\"><div class=\"sc-dVhcbM jKVCqr thumbnail thumbnail-small\"><img alt=\"\" class=\"sc-eqIVtm koAuUY\" loading=\"lazy\" src=\"https://news-pctr.c.yimg.jp/t/news-topics/images/tpc/eternal/2017/11/7/1510033232_1423803359_1412920398_aflo_GPZA134743.jpg\"/></div></div><div class=\"newsFeed_item_text\"><div class=\"newsFeed_item_title\">推定30万社?「ゾンビ企業」分析</div><div class=\"newsFeed_item_sub\"><div class=\"newsFeed_item_sourceWrap\"><time class=\"newsFeed_item_date\">2/18(金) 18:22</time></div></div></div></a>, <a class=\"newsFeed_item_link\" data-cl-params=\"_cl_vmodule:st_topics;_cl_link:title;_cl_position:19;\" data-rapid_p=\"64\" data-ylk=\"rsec:st_topics;slk:title;pos:19;\" href=\"https://news.yahoo.co.jp/pickup/6418624\"><div class=\"newsFeed_item_thumbnail\"><div class=\"sc-dVhcbM jKVCqr thumbnail thumbnail-small\"><img alt=\"\" class=\"sc-eqIVtm koAuUY\" loading=\"lazy\" src=\"https://news-pctr.c.yimg.jp/t/news-topics/images/tpc/2022/2/18/0993fc6f493d966cc9a1107389862f6c66e245f233b7cf1df2e6adf2c44475a8.jpg\"/></div></div><div class=\"newsFeed_item_text\"><div class=\"newsFeed_item_title\">サントリーHD社長 3%賃上げ表明</div><div class=\"newsFeed_item_sub\"><div class=\"newsFeed_item_sourceWrap\"><time class=\"newsFeed_item_date\">2/18(金) 18:17</time></div></div></div></a>, <a class=\"newsFeed_item_link\" data-cl-params=\"_cl_vmodule:st_topics;_cl_link:title;_cl_position:20;\" data-rapid_p=\"65\" data-ylk=\"rsec:st_topics;slk:title;pos:20;\" href=\"https://news.yahoo.co.jp/pickup/6418611\"><div class=\"newsFeed_item_thumbnail\"><div class=\"sc-dVhcbM jKVCqr thumbnail thumbnail-small\"><img alt=\"\" class=\"sc-eqIVtm koAuUY\" loading=\"lazy\" src=\"https://news-pctr.c.yimg.jp/t/news-topics/images/tpc/2022/2/18/d233fef3761e5a3691acfb24eab357f116c5ac7a8214c2556e5ba9513209cadb.jpg\"/></div></div><div class=\"newsFeed_item_text\"><div class=\"newsFeed_item_title\">ピーチ 75億円から1億円に減資</div><div class=\"newsFeed_item_sub\"><div class=\"newsFeed_item_sourceWrap\"><time class=\"newsFeed_item_date\">2/18(金) 16:38</time></div></div></div></a>, <a class=\"newsFeed_item_link\" data-cl-params=\"_cl_vmodule:st_topics;_cl_link:title;_cl_position:21;\" data-rapid_p=\"66\" data-ylk=\"rsec:st_topics;slk:title;pos:21;\" href=\"https://news.yahoo.co.jp/pickup/6418605\"><div class=\"newsFeed_item_thumbnail\"><div class=\"sc-dVhcbM jKVCqr thumbnail thumbnail-small\"><img alt=\"\" class=\"sc-eqIVtm koAuUY\" loading=\"lazy\" src=\"https://news-pctr.c.yimg.jp/t/news-topics/images/tpc/2022/2/18/df28d35fa637ee826f0408c63eb4d37c7ba471612a2140cf0e1585d8df2572dc.jpg\"/></div></div><div class=\"newsFeed_item_text\"><div class=\"newsFeed_item_title\">三幸製菓火災 米菓各社は増産体制</div><div class=\"newsFeed_item_sub\"><div class=\"newsFeed_item_sourceWrap\"><time class=\"newsFeed_item_date\">2/18(金) 16:22</time></div></div></div></a>, <a class=\"newsFeed_item_link\" data-cl-params=\"_cl_vmodule:st_topics;_cl_link:title;_cl_position:22;\" data-rapid_p=\"67\" data-ylk=\"rsec:st_topics;slk:title;pos:22;\" href=\"https://news.yahoo.co.jp/pickup/6418591\"><div class=\"newsFeed_item_thumbnail\"><div class=\"sc-dVhcbM jKVCqr thumbnail thumbnail-small\"><img alt=\"\" class=\"sc-eqIVtm koAuUY\" loading=\"lazy\" src=\"https://news-pctr.c.yimg.jp/r/iwiz-tpc/images/tpc/eternal/2017/10/27/1509081692_1427194511_1427194505_topics550x550.jpg\"/></div></div><div class=\"newsFeed_item_text\"><div class=\"newsFeed_item_title\">コロナ予防の広告に注意 消費者庁</div><div class=\"newsFeed_item_sub\"><div class=\"newsFeed_item_sourceWrap\"><time class=\"newsFeed_item_date\">2/18(金) 13:07</time></div></div></div></a>, <a class=\"newsFeed_item_link\" data-cl-params=\"_cl_vmodule:st_topics;_cl_link:title;_cl_position:23;\" data-rapid_p=\"68\" data-ylk=\"rsec:st_topics;slk:title;pos:23;\" href=\"https://news.yahoo.co.jp/pickup/6418583\"><div class=\"newsFeed_item_thumbnail\"><div class=\"sc-dVhcbM jKVCqr thumbnail thumbnail-small\"><img alt=\"\" class=\"sc-eqIVtm koAuUY\" loading=\"lazy\" src=\"https://news-pctr.c.yimg.jp/t/news-topics/images/tpc/2022/2/18/eedf4c1e9dc45c620b06af8d43af4249f28e9ce03aa20b745e6d7a33accc6a2b.jpg\"/></div></div><div class=\"newsFeed_item_text\"><div class=\"newsFeed_item_title\">ぎょうざの満洲 味転換した裏側</div><div class=\"newsFeed_item_sub\"><div class=\"newsFeed_item_sourceWrap\"><time class=\"newsFeed_item_date\">2/18(金) 11:35</time></div></div></div></a>, <a class=\"newsFeed_item_link\" data-cl-params=\"_cl_vmodule:st_topics;_cl_link:title;_cl_position:24;\" data-rapid_p=\"69\" data-ylk=\"rsec:st_topics;slk:title;pos:24;\" href=\"https://news.yahoo.co.jp/pickup/6418578\"><div class=\"newsFeed_item_thumbnail\"><div class=\"sc-dVhcbM jKVCqr thumbnail thumbnail-small\"><img alt=\"\" class=\"sc-eqIVtm koAuUY\" loading=\"lazy\" src=\"https://news-pctr.c.yimg.jp/t/news-topics/images/tpc/eternal/2017/11/7/1510033385_1488774311_943172809.jpg\"/></div></div><div class=\"newsFeed_item_text\"><div class=\"newsFeed_item_title\">金先物 最高値迫る1年半ぶり高値</div><div class=\"newsFeed_item_sub\"><div class=\"newsFeed_item_sourceWrap\"><time class=\"newsFeed_item_date\">2/18(金) 10:24</time></div></div></div></a>, <a class=\"newsFeed_item_link\" data-cl-params=\"_cl_vmodule:st_topics;_cl_link:title;_cl_position:25;\" data-rapid_p=\"70\" data-ylk=\"rsec:st_topics;slk:title;pos:25;\" href=\"https://news.yahoo.co.jp/pickup/6418574\"><div class=\"newsFeed_item_thumbnail\"><div class=\"sc-dVhcbM jKVCqr thumbnail thumbnail-small\"><img alt=\"\" class=\"sc-eqIVtm koAuUY\" loading=\"lazy\" src=\"https://news-pctr.c.yimg.jp/t/news-topics/images/tpc/2022/2/18/eedf4c1e9dc45c620b06af8d43af4249f28e9ce03aa20b745e6d7a33accc6a2b.jpg\"/></div></div><div class=\"newsFeed_item_text\"><div class=\"newsFeed_item_title\">「ぎょうざの満洲」健康掲げる訳</div><div class=\"newsFeed_item_sub\"><div class=\"newsFeed_item_sourceWrap\"><time class=\"newsFeed_item_date\">2/18(金) 9:27</time></div></div></div></a>]\n",
            "https://news.yahoo.co.jp/topics/business?page=3\n",
            "[<a class=\"newsFeed_item_link\" data-cl-params=\"_cl_vmodule:st_topics;_cl_link:title;_cl_position:1;\" data-rapid_p=\"46\" data-ylk=\"rsec:st_topics;slk:title;pos:1;\" href=\"https://news.yahoo.co.jp/pickup/6418576\"><div class=\"newsFeed_item_thumbnail\"><div class=\"sc-dVhcbM jKVCqr thumbnail thumbnail-small\"><img alt=\"\" class=\"sc-eqIVtm koAuUY\" loading=\"lazy\" src=\"https://news-pctr.c.yimg.jp/t/news-topics/images/tpc/2022/2/18/2b6e7cd2b1f9d0e216631116cb6641f370dc82f164f976f32152e6bfaefbbb48.jpg\"/></div></div><div class=\"newsFeed_item_text\"><div class=\"newsFeed_item_title\">みずほ 障害に続く新たな「爆弾」</div><div class=\"newsFeed_item_sub\"><div class=\"newsFeed_item_sourceWrap\"><time class=\"newsFeed_item_date\">2/18(金) 9:25</time></div></div></div></a>, <a class=\"newsFeed_item_link\" data-cl-params=\"_cl_vmodule:st_topics;_cl_link:title;_cl_position:2;\" data-rapid_p=\"47\" data-ylk=\"rsec:st_topics;slk:title;pos:2;\" href=\"https://news.yahoo.co.jp/pickup/6418573\"><div class=\"newsFeed_item_thumbnail\"><div class=\"sc-dVhcbM jKVCqr thumbnail thumbnail-small\"><img alt=\"\" class=\"sc-eqIVtm koAuUY\" loading=\"lazy\" src=\"https://news-pctr.c.yimg.jp/t/news-topics/images/tpc/2022/2/18/082d8b8a98b0bf3c4e3a53ecb9489f42482c22c357374e2d5254188f5e0903bb.jpg\"/></div></div><div class=\"newsFeed_item_text\"><div class=\"newsFeed_item_title\">18-19歳のカードローン 3行見送り</div><div class=\"newsFeed_item_sub\"><div class=\"newsFeed_item_sourceWrap\"><time class=\"newsFeed_item_date\">2/18(金) 8:56</time></div></div></div></a>, <a class=\"newsFeed_item_link\" data-cl-params=\"_cl_vmodule:st_topics;_cl_link:title;_cl_position:3;\" data-rapid_p=\"48\" data-ylk=\"rsec:st_topics;slk:title;pos:3;\" href=\"https://news.yahoo.co.jp/pickup/6418569\"><div class=\"newsFeed_item_thumbnail\"><div class=\"sc-dVhcbM jKVCqr thumbnail thumbnail-small\"><img alt=\"\" class=\"sc-eqIVtm koAuUY\" loading=\"lazy\" src=\"https://news-pctr.c.yimg.jp/t/news-topics/images/tpc/2022/2/18/1552e01c4a09591c74067bec1e0ea9bd1bae85a925807357969478c4defda971.jpg\"/></div></div><div class=\"newsFeed_item_text\"><div class=\"newsFeed_item_title\">NY株622ドル安 下げ幅今年最大</div><div class=\"newsFeed_item_sub\"><div class=\"newsFeed_item_sourceWrap\"><time class=\"newsFeed_item_date\">2/18(金) 8:31</time></div></div></div></a>, <a class=\"newsFeed_item_link\" data-cl-params=\"_cl_vmodule:st_topics;_cl_link:title;_cl_position:4;\" data-rapid_p=\"49\" data-ylk=\"rsec:st_topics;slk:title;pos:4;\" href=\"https://news.yahoo.co.jp/pickup/6418570\"><div class=\"newsFeed_item_thumbnail\"><div class=\"sc-dVhcbM jKVCqr thumbnail thumbnail-small\"><img alt=\"\" class=\"sc-eqIVtm koAuUY\" loading=\"lazy\" src=\"https://news-pctr.c.yimg.jp/t/news-topics/images/tpc/2022/2/18/eed8931b3a8d2518977fca73048cf983d83cc0a1f56db7391c879fa1b1086b72.jpg\"/></div></div><div class=\"newsFeed_item_text\"><div class=\"newsFeed_item_title\">西九州新幹線 9月23日開業へ調整</div><div class=\"newsFeed_item_sub\"><div class=\"newsFeed_item_sourceWrap\"><time class=\"newsFeed_item_date\">2/18(金) 8:04</time></div></div></div></a>, <a class=\"newsFeed_item_link\" data-cl-params=\"_cl_vmodule:st_topics;_cl_link:title;_cl_position:5;\" data-rapid_p=\"50\" data-ylk=\"rsec:st_topics;slk:title;pos:5;\" href=\"https://news.yahoo.co.jp/pickup/6418544\"><div class=\"newsFeed_item_thumbnail\"><div class=\"sc-dVhcbM jKVCqr thumbnail thumbnail-small\"><img alt=\"\" class=\"sc-eqIVtm koAuUY\" loading=\"lazy\" src=\"https://news-pctr.c.yimg.jp/t/news-topics/images/tpc/2022/2/17/6bdd5cf19317d6f67b5a01cec95508b018546c3dfbe63322e440970ad098d3f0.jpg\"/></div></div><div class=\"newsFeed_item_text\"><div class=\"newsFeed_item_title\">円の実力 50年ぶりの低水準に</div><div class=\"newsFeed_item_sub\"><div class=\"newsFeed_item_sourceWrap\"><time class=\"newsFeed_item_date\">2/17(木) 21:32</time></div></div></div></a>, <a class=\"newsFeed_item_link\" data-cl-params=\"_cl_vmodule:st_topics;_cl_link:title;_cl_position:6;\" data-rapid_p=\"51\" data-ylk=\"rsec:st_topics;slk:title;pos:6;\" href=\"https://news.yahoo.co.jp/pickup/6418525\"><div class=\"newsFeed_item_thumbnail\"><div class=\"sc-dVhcbM jKVCqr thumbnail thumbnail-small\"><img alt=\"\" class=\"sc-eqIVtm koAuUY\" loading=\"lazy\" src=\"https://news-pctr.c.yimg.jp/t/news-topics/images/tpc/2022/2/17/4842eda374aaf083cfc255cb14b3a50cf29fa1beef26f8e21ee129bd490c6b2d.jpg\"/></div></div><div class=\"newsFeed_item_text\"><div class=\"newsFeed_item_title\">獺祭 大卒初任給を30万円にアップ</div><div class=\"newsFeed_item_sub\"><div class=\"newsFeed_item_sourceWrap\"><time class=\"newsFeed_item_date\">2/17(木) 18:54</time></div></div></div></a>, <a class=\"newsFeed_item_link\" data-cl-params=\"_cl_vmodule:st_topics;_cl_link:title;_cl_position:7;\" data-rapid_p=\"52\" data-ylk=\"rsec:st_topics;slk:title;pos:7;\" href=\"https://news.yahoo.co.jp/pickup/6418519\"><div class=\"newsFeed_item_thumbnail\"><div class=\"sc-dVhcbM jKVCqr thumbnail thumbnail-small\"><img alt=\"\" class=\"sc-eqIVtm koAuUY\" loading=\"lazy\" src=\"https://news-pctr.c.yimg.jp/t/news-topics/images/tpc/2022/2/17/728c0ef9416863e48183f8e08388229e0fe9b3400bdfcab6882dea970113f965.jpg\"/></div></div><div class=\"newsFeed_item_text\"><div class=\"newsFeed_item_title\">象印の中国株主 否決受け撤退言及</div><div class=\"newsFeed_item_sub\"><div class=\"newsFeed_item_sourceWrap\"><time class=\"newsFeed_item_date\">2/17(木) 17:49</time></div></div></div></a>, <a class=\"newsFeed_item_link\" data-cl-params=\"_cl_vmodule:st_topics;_cl_link:title;_cl_position:8;\" data-rapid_p=\"53\" data-ylk=\"rsec:st_topics;slk:title;pos:8;\" href=\"https://news.yahoo.co.jp/pickup/6418516\"><div class=\"newsFeed_item_thumbnail\"><div class=\"sc-dVhcbM gCUSJr thumbnail thumbnail-small\"><img alt=\"\" class=\"sc-eqIVtm koAuUY\" loading=\"lazy\" src=\"https://news-pctr.c.yimg.jp/t/news-topics/images/tpc/2022/2/17/29e49b75f9201dd7ef9ff826e4994444ede0546ddefea67490d6741a63aa6b24.jpg\"/><span class=\"sc-fAjcbJ eMBLgI\"><svg class=\"sc-gisBJw cMMbIo riff-text-current\" fill=\"currentColor\" focusable=\"false\" height=\"11\" viewbox=\"0 0 48 48\" width=\"11\"><path d=\"M40.88 25.38c1.494-.76 1.494-2.001 0-2.761L12.715 8.299C11.222 7.54 10 8.277 10 9.935v28.133c0 1.658 1.222 2.393 2.715 1.633L40.88 25.38z\" fill-rule=\"evenodd\"></path></svg><span class=\"sc-caSCKo eyxTTC\">0:16</span></span></div></div><div class=\"newsFeed_item_text\"><div class=\"newsFeed_item_title\">日清オイリオ 食用油を再値上げへ</div><div class=\"newsFeed_item_sub\"><div class=\"newsFeed_item_sourceWrap\"><time class=\"newsFeed_item_date\">2/17(木) 17:42</time></div></div></div></a>, <a class=\"newsFeed_item_link\" data-cl-params=\"_cl_vmodule:st_topics;_cl_link:title;_cl_position:9;\" data-rapid_p=\"54\" data-ylk=\"rsec:st_topics;slk:title;pos:9;\" href=\"https://news.yahoo.co.jp/pickup/6418496\"><div class=\"newsFeed_item_thumbnail\"><div class=\"sc-dVhcbM jKVCqr thumbnail thumbnail-small\"><img alt=\"\" class=\"sc-eqIVtm koAuUY\" loading=\"lazy\" src=\"https://news-pctr.c.yimg.jp/t/news-topics/images/tpc/2022/2/17/1589beace87af1cdee3bfcb771cc485ebc0b67636e1cda15fed4d0b5b6029adb.jpg\"/></div></div><div class=\"newsFeed_item_text\"><div class=\"newsFeed_item_title\">利上げペース加速を示唆 米FRB</div><div class=\"newsFeed_item_sub\"><div class=\"newsFeed_item_sourceWrap\"><time class=\"newsFeed_item_date\">2/17(木) 13:44</time></div></div></div></a>, <a class=\"newsFeed_item_link\" data-cl-params=\"_cl_vmodule:st_topics;_cl_link:title;_cl_position:10;\" data-rapid_p=\"55\" data-ylk=\"rsec:st_topics;slk:title;pos:10;\" href=\"https://news.yahoo.co.jp/pickup/6418497\"><div class=\"newsFeed_item_thumbnail\"><div class=\"sc-dVhcbM jKVCqr thumbnail thumbnail-small\"><img alt=\"\" class=\"sc-eqIVtm koAuUY\" loading=\"lazy\" src=\"https://news-pctr.c.yimg.jp/t/news-topics/images/tpc/2022/2/17/83e070b2ac71e5c74e238f33575ebfd54ed65762b074bcfc7ac8f4f64c1675be.jpg\"/></div></div><div class=\"newsFeed_item_text\"><div class=\"newsFeed_item_title\">20円でも厳しい チロルチョコ苦悩</div><div class=\"newsFeed_item_sub\"><div class=\"newsFeed_item_sourceWrap\"><time class=\"newsFeed_item_date\">2/17(木) 13:39</time></div></div></div></a>, <a class=\"newsFeed_item_link\" data-cl-params=\"_cl_vmodule:st_topics;_cl_link:title;_cl_position:11;\" data-rapid_p=\"56\" data-ylk=\"rsec:st_topics;slk:title;pos:11;\" href=\"https://news.yahoo.co.jp/pickup/6418487\"><div class=\"newsFeed_item_thumbnail\"><div class=\"sc-dVhcbM jKVCqr thumbnail thumbnail-small\"><img alt=\"\" class=\"sc-eqIVtm koAuUY\" loading=\"lazy\" src=\"https://news-pctr.c.yimg.jp/t/news-topics/images/tpc/2022/2/17/c3a9e2d329df77b8f0eb3d1555c601b3f61cc86171ea03e4578f20f2dbdb2c60.jpg\"/></div></div><div class=\"newsFeed_item_text\"><div class=\"newsFeed_item_title\">節税保険にメス 金融庁が報告命令</div><div class=\"newsFeed_item_sub\"><div class=\"newsFeed_item_sourceWrap\"><time class=\"newsFeed_item_date\">2/17(木) 12:38</time></div></div></div></a>, <a class=\"newsFeed_item_link\" data-cl-params=\"_cl_vmodule:st_topics;_cl_link:title;_cl_position:12;\" data-rapid_p=\"57\" data-ylk=\"rsec:st_topics;slk:title;pos:12;\" href=\"https://news.yahoo.co.jp/pickup/6418485\"><div class=\"newsFeed_item_thumbnail\"><div class=\"sc-dVhcbM jKVCqr thumbnail thumbnail-small\"><img alt=\"\" class=\"sc-eqIVtm koAuUY\" loading=\"lazy\" src=\"https://news-pctr.c.yimg.jp/r/iwiz-tpc/images/tpc/eternal/2017/10/27/1509081692_1427194511_1427194505_topics550x550.jpg\"/></div></div><div class=\"newsFeed_item_text\"><div class=\"newsFeed_item_title\">ウェブ版美術手帖 記事流用を謝罪</div><div class=\"newsFeed_item_sub\"><div class=\"newsFeed_item_sourceWrap\"><time class=\"newsFeed_item_date\">2/17(木) 11:42</time></div></div></div></a>, <a class=\"newsFeed_item_link\" data-cl-params=\"_cl_vmodule:st_topics;_cl_link:title;_cl_position:13;\" data-rapid_p=\"58\" data-ylk=\"rsec:st_topics;slk:title;pos:13;\" href=\"https://news.yahoo.co.jp/pickup/6418479\"><div class=\"newsFeed_item_thumbnail\"><div class=\"sc-dVhcbM jKVCqr thumbnail thumbnail-small\"><img alt=\"\" class=\"sc-eqIVtm koAuUY\" loading=\"lazy\" src=\"https://news-pctr.c.yimg.jp/t/news-topics/images/tpc/2022/2/17/a2882fa5d000e698c8b4709b1f2f0bda22297d79553a8b006830ce83fab48549.jpg\"/></div></div><div class=\"newsFeed_item_text\"><div class=\"newsFeed_item_title\">フィギュア選手の親 負担大きい?</div><div class=\"newsFeed_item_sub\"><div class=\"newsFeed_item_sourceWrap\"><time class=\"newsFeed_item_date\">2/17(木) 11:17</time></div></div></div></a>, <a class=\"newsFeed_item_link\" data-cl-params=\"_cl_vmodule:st_topics;_cl_link:title;_cl_position:14;\" data-rapid_p=\"59\" data-ylk=\"rsec:st_topics;slk:title;pos:14;\" href=\"https://news.yahoo.co.jp/pickup/6418478\"><div class=\"newsFeed_item_thumbnail\"><div class=\"sc-dVhcbM gCUSJr thumbnail thumbnail-small\"><img alt=\"\" class=\"sc-eqIVtm koAuUY\" loading=\"lazy\" src=\"https://news-pctr.c.yimg.jp/t/news-topics/images/tpc/2022/2/17/c917324515ce21ee4ac99ed8aa65b16015f3061dddbea85865e2258f02f36791.jpg\"/><span class=\"sc-fAjcbJ eMBLgI\"><svg class=\"sc-gisBJw cMMbIo riff-text-current\" fill=\"currentColor\" focusable=\"false\" height=\"11\" viewbox=\"0 0 48 48\" width=\"11\"><path d=\"M40.88 25.38c1.494-.76 1.494-2.001 0-2.761L12.715 8.299C11.222 7.54 10 8.277 10 9.935v28.133c0 1.658 1.222 2.393 2.715 1.633L40.88 25.38z\" fill-rule=\"evenodd\"></path></svg><span class=\"sc-caSCKo eyxTTC\">0:41</span></span></div></div><div class=\"newsFeed_item_text\"><div class=\"newsFeed_item_title\">1月の貿易収支 2兆円超の貿易赤字</div><div class=\"newsFeed_item_sub\"><div class=\"newsFeed_item_sourceWrap\"><time class=\"newsFeed_item_date\">2/17(木) 10:29</time></div></div></div></a>, <a class=\"newsFeed_item_link\" data-cl-params=\"_cl_vmodule:st_topics;_cl_link:title;_cl_position:15;\" data-rapid_p=\"60\" data-ylk=\"rsec:st_topics;slk:title;pos:15;\" href=\"https://news.yahoo.co.jp/pickup/6418469\"><div class=\"newsFeed_item_thumbnail\"><div class=\"sc-dVhcbM jKVCqr thumbnail thumbnail-small\"><img alt=\"\" class=\"sc-eqIVtm koAuUY\" loading=\"lazy\" src=\"https://news-pctr.c.yimg.jp/r/iwiz-tpc/images/tpc/eternal/2017/11/13/1510551156_1440582040_1440582029_aflo_wkeb199957.jpg\"/></div></div><div class=\"newsFeed_item_text\"><div class=\"newsFeed_item_title\">電機大手 人材獲得へジョブ型加速</div><div class=\"newsFeed_item_sub\"><div class=\"newsFeed_item_sourceWrap\"><time class=\"newsFeed_item_date\">2/17(木) 8:20</time></div></div></div></a>]\n",
            "https://news.yahoo.co.jp/topics/business?page=4\n",
            "[]\n"
          ]
        }
      ]
    },
    {
      "cell_type": "code",
      "source": [
        "titles, contents = [], []\n",
        "for target_url in href_list:\n",
        "  driver.get(target_url)\n",
        "  title = driver.title\n",
        "  html = driver.page_source\n",
        "  soup = BeautifulSoup(html, 'html.parser')\n",
        "  url_all = soup.find_all(class_=\"sc-lkYwMk cIUcbi\")[0].find_all(class_=\"sc-iLWYPX gTRgYH\")[0].get(\"href\")\n",
        "  print(url_all)\n",
        "#   url_all = soup.find(class_=\"sc-bQEgQf dXgvwT\").get(\"href\")\n",
        "#   url_all = soup.find_all(class_=\"sc-bQEgQf dXgvwT\")[0].find_all(class_=\"sc-iScGEx PmDTp\")[0].get(\"href\") #井上さんが書いた。　classが変更になっている？\n",
        "  # 全文\n",
        "  driver.get(url_all)  # 全文があるリンクにアクセス\n",
        "  html = driver.page_source\n",
        "  soup = BeautifulSoup(html, 'html.parser')\n",
        "  title = soup.find('title').text  # タイトル取得\n",
        "  text = soup.find(class_=\"article_body highLightSearchTarget\")  # 本文を取得\n",
        "  if text is None: \n",
        "    print(f\"取得できませんでした: {target_url}\")\n",
        "    continue\n",
        "  text = text.get_text()\n",
        "  print(title)\n",
        "  titles.append(title)\n",
        "  contents.append(text)\n",
        "  time.sleep(1)"
      ],
      "metadata": {
        "colab": {
          "base_uri": "https://localhost:8080/"
        },
        "id": "CN9leEi0h0_J",
        "outputId": "b6393402-f5cd-42d4-fc2b-92167d198071"
      },
      "execution_count": 159,
      "outputs": [
        {
          "output_type": "stream",
          "name": "stdout",
          "text": [
            "https://news.yahoo.co.jp/articles/ee708f6a4a155d4001280e3c675c26e17097ab3a\n",
            "「ワークマン」がキャンプ市場に本格参入　「周回遅れ」で繰り出す販売戦略（SankeiBiz） - Yahoo!ニュース\n",
            "https://news.yahoo.co.jp/articles/3aba2626fb91ff25ad210b961e33bbcd7f14b185\n",
            "ミツカン「味ぽん」誕生のきっかけとなった博多名物は？　なぜ全国制覇し食卓の定番に（NIKKEI STYLE） - Yahoo!ニュース\n",
            "https://news.yahoo.co.jp/articles/f1281b45e85dfbcb031e355dabded5c41898015b\n",
            "NY株続落、482ドル安　ウクライナ本格侵攻を警戒（共同通信） - Yahoo!ニュース\n",
            "https://news.yahoo.co.jp/articles/f09837bf58ad3071e6795a9c916c6a13843ebe3d\n",
            "ウクライナ緊迫、株大幅続落　金最高値、リスク回避強まる　原油も急伸（時事通信） - Yahoo!ニュース\n",
            "https://news.yahoo.co.jp/articles/186196c4285f089a41dc8cfb5901256d03f988d5\n",
            "テレ朝　早河洋社長・COO　前社長の辞任騒動を陳謝「お詫び申し上げる」経費私的使用等で10日付辞任（スポニチアネックス） - Yahoo!ニュース\n",
            "https://news.yahoo.co.jp/articles/a089d3d31efcdb05c07fc04bb1c049f524d4ac85\n",
            "霞が関の残業代、初の400億円台に　異例の18%大幅増　22年度（朝日新聞デジタル） - Yahoo!ニュース\n",
            "https://news.yahoo.co.jp/byline/nakamuratomohiko/20220222-00283203\n",
            "取得できませんでした: https://news.yahoo.co.jp/pickup/6419014\n",
            "https://news.yahoo.co.jp/articles/8c6a855cabacf765b177f9171cb8d3afd7cfbf69\n",
            "【速報】「サッポロ一番」値上げへ 10％～12％ 原材料価格や物流コスト上昇で（FNNプライムオンライン） - Yahoo!ニュース\n",
            "https://news.yahoo.co.jp/articles/b6b2f982328736a53bcddfd6daa90e5438174410\n",
            "「中古住宅買い取り再販」参入相次ぐ、住宅メーカー大手の勝算（ニュースイッチ） - Yahoo!ニュース\n",
            "https://news.yahoo.co.jp/articles/02afeb65c999343e9613023ac19261d8a658632e\n",
            "【速報】＜新幹線長崎ルート＞武雄温泉－長崎、9月23日開業　ＪＲ九州が発表（佐賀新聞） - Yahoo!ニュース\n",
            "https://news.yahoo.co.jp/articles/cd23f58f1769648390729b04ba94358e98814909\n",
            "日経平均2万6327円90銭　午前終値（日テレNEWS） - Yahoo!ニュース\n",
            "https://news.yahoo.co.jp/articles/4e1569998b6b96c107ff87775c2f1c6280765e1c\n",
            "東証、一時500円超安（共同通信） - Yahoo!ニュース\n",
            "https://news.yahoo.co.jp/articles/7a7c0a2e857500a70f464e7212e67cd991eaad21\n",
            "休校時の助成金、利用に壁　「休まれると困る」と活用拒否も（時事通信） - Yahoo!ニュース\n",
            "https://news.yahoo.co.jp/articles/2f2078f168d9928fbf56802c3d920d74dd222f9b\n",
            "「ハイウェイテレホン」全面終了へ 電話で聞ける交通情報 全国58局一斉に廃止（乗りものニュース） - Yahoo!ニュース\n",
            "https://news.yahoo.co.jp/articles/65704ddbe8aa57a78ab0f107736b34c1dbe9642e\n",
            "2022年度賃上げ予定調査　「賃上げ率」3％未満が7割超に、 「実施率」改善は1.3ポイントにとどまる（東京商工リサーチ） - Yahoo!ニュース\n",
            "https://news.yahoo.co.jp/articles/24a1941c5a55b2a08c29202b4ec50b9f027ecee4\n",
            "「こんなん売れん」と逆風　妊娠検査薬、発売したロート社員の執念（朝日新聞デジタル） - Yahoo!ニュース\n",
            "https://news.yahoo.co.jp/articles/70a3b76fff80a570455fe3a05da2ba0d19f471b4\n",
            "「映画秘宝」が再び休刊、2020年から出版社を変更して刊行（FASHIONSNAP.COM） - Yahoo!ニュース\n",
            "https://news.yahoo.co.jp/articles/75ed4f3c8e97bf5b770e3e894e0e7ba3d0bee287\n",
            "台湾が禁輸解除　福島など5県産　農水省（時事通信） - Yahoo!ニュース\n",
            "https://news.yahoo.co.jp/articles/7a4ccb76fb4d0a5ba2bab4564277f7f4b6d8a1cc\n",
            "日本郵便 ウクライナ宛て航空郵便引き受けを一時停止（FNNプライムオンライン） - Yahoo!ニュース\n",
            "https://news.yahoo.co.jp/articles/668f8b8e9a8f2e38bcd2c8395248abb5f08228d0\n",
            "三菱ＵＦＪが大阪府に「５億円」を寄付　府が新設の『脱炭素技術開発の補助制度』に（MBSニュース） - Yahoo!ニュース\n",
            "https://news.yahoo.co.jp/articles/2aab57d7a485ee2f48a56c03ad53f830fd55f60d\n",
            "偽装をチャンスに…打開策は「アサリ農業」への発想の転換（西日本新聞） - Yahoo!ニュース\n",
            "https://news.yahoo.co.jp/articles/d04da989ab5c97425e94660493f21a11d0aaf0d4\n",
            "東証、午前終値196円安（共同通信） - Yahoo!ニュース\n",
            "https://news.yahoo.co.jp/articles/897dfcae5b07526567a48cf6a0bed78e4def56af\n",
            "金先物、最高値更新　ウクライナ緊迫化で　大阪取引所（時事通信） - Yahoo!ニュース\n",
            "https://news.yahoo.co.jp/articles/d11d19196c482752b1b8a1e35b895015bbf9cfce\n",
            "日経平均、午前の終値は１９６円安…ウクライナ情勢警戒で一時５００円超の下落（読売新聞オンライン） - Yahoo!ニュース\n",
            "https://news.yahoo.co.jp/articles/2e92b51284914ab35ae674f0ce96fc535571354c\n",
            "三菱ＵＦＪが大阪府に５億円寄付　脱炭素技術を後押し（産経新聞） - Yahoo!ニュース\n",
            "https://news.yahoo.co.jp/articles/2021dfbf7e915ea8f3b85f8744a5704db89a758a\n",
            "セコマ、ローソン、さくらみくら…　弁当チェーンを揺るがす「コンビニ」店内調理の秘密兵器は（デイリー新潮） - Yahoo!ニュース\n",
            "https://news.yahoo.co.jp/articles/95b8ecd1e5d992c51fd8bb512786205af3d565d9\n",
            "北京五輪閉幕　企業に明暗　関連ＣＭはゼロ、メダル数史上最多でウエア販売は好調（産経新聞） - Yahoo!ニュース\n",
            "https://news.yahoo.co.jp/articles/b739c89a366b200adfbddde996d857c55d4cc00d\n",
            "「土方歳三資料館」が10月末をもって長期休館　「個人での運営に限界」（ねとらぼ） - Yahoo!ニュース\n",
            "https://news.yahoo.co.jp/articles/185ea68257f07823a839a6cbdaf3d1884ef28f6e\n",
            "日本勢、EV競争で巻き返し　コストに課題、新たなライバル出現で「クルマづくり」大転換期に【けいざい百景】（時事通信） - Yahoo!ニュース\n",
            "https://news.yahoo.co.jp/articles/828d5363a2994b9c2e8aed21bb4ef5063620b01e\n",
            "米FRB、物価動向読み切れず　市場は利上げ加速予想（時事通信） - Yahoo!ニュース\n",
            "https://news.yahoo.co.jp/articles/88645177d069868efe9f4b4aa524a138bb34b9b2\n",
            "丸亀製麺が「本場」香川で苦戦　県内残り1店舗に「地元のうどん屋が強すぎる」の声（J-CASTニュース） - Yahoo!ニュース\n",
            "https://news.yahoo.co.jp/articles/6292eb4f9e7cb1eaf50ab4c918cc4275dcf615b0\n",
            "高速利用料不払い、車の所有者情報をオンライン提供…ＥＴＣ拡大で道路各社に（読売新聞オンライン） - Yahoo!ニュース\n",
            "https://news.yahoo.co.jp/articles/5313b5cd7ce45ba641ce719c5461cb95f67f9328\n",
            "「培養魚肉」スシローなど参入で開発競争過熱（産経新聞） - Yahoo!ニュース\n",
            "https://news.yahoo.co.jp/articles/79fc0dca4cef703a571a18b07735deac359c0367\n",
            "「耳で焙煎する」コーヒー豆好調　視覚障害者が1秒を聞き分ける（毎日新聞） - Yahoo!ニュース\n",
            "https://news.yahoo.co.jp/articles/2e8953f2ce7229e7820cff3f8c8cb742ee9e1fe0\n",
            "ピークから７割減ったスノボ人口、五輪効果で再浮上…平野モデル板に予約相次ぐ（読売新聞オンライン） - Yahoo!ニュース\n",
            "https://news.yahoo.co.jp/articles/2504facfeb70a499d8bc8da764b8d1f47fef4979\n",
            "一般客がほとんどなのに、「スーパー」ではなく「業務用スーパー」と名乗り続ける理由（オトナンサー） - Yahoo!ニュース\n",
            "https://news.yahoo.co.jp/articles/c319c550897a56d89e5bb4e77d39bd818c49e240\n",
            "JR九州社長、8年ぶり交代へ　鉄道部門出身の古宮氏に（西日本新聞） - Yahoo!ニュース\n",
            "https://news.yahoo.co.jp/articles/a338097442e174857c7a627cce4add7c278d4fff\n",
            "コロナ前回復、不透明　オミクロン拡大で景気急失速へ〔深層探訪〕（時事通信） - Yahoo!ニュース\n",
            "https://news.yahoo.co.jp/articles/38463281d211992313a70fd2377ad5a9d6708810\n",
            "セブンイレブンが「お湯」試験販売　商品化ニーズ受け、ターゲットは「主に女性や高齢者」（J-CASTニュース） - Yahoo!ニュース\n",
            "https://news.yahoo.co.jp/articles/17242a4eb6ca6ce3a77e9b9dc9cfdcbcedcb63c6\n",
            "感染拡大で除菌製品「クレベリン」大増産、ブーム失速して大量売れ残り（読売新聞オンライン） - Yahoo!ニュース\n",
            "https://news.yahoo.co.jp/articles/2a2a7f93b2a28bcd6d444508207e1fc4c83cce4a\n",
            "ガソリン補助、上限引き上げへ　政府方針、ウクライナ緊迫化で（毎日新聞） - Yahoo!ニュース\n",
            "https://news.yahoo.co.jp/articles/77f78978ef450d96c5fa98519049be016d8470ac\n",
            "コストコ商品を駅で受け取り　冷蔵ロッカーでケーキもOK（フジテレビ系（FNN）） - Yahoo!ニュース\n",
            "https://news.yahoo.co.jp/articles/b7d9142912eb05e3f7330ccd62ab018d880ab0d9\n",
            "ゾンビ企業って言うな！　～「推定30万社」の見直しと企業支援の次の一手～（東京商工リサーチ） - Yahoo!ニュース\n",
            "https://news.yahoo.co.jp/articles/f0b0b21f8b4c10037311d8492326f98147d87e6e\n",
            "サントリーＨＤ新浪社長、賃上げ少なくとも３％（産経新聞） - Yahoo!ニュース\n",
            "https://news.yahoo.co.jp/articles/b47ebbc15c08bc716b2e4ec70bdf123c115bfa78\n",
            "LCCピーチが1億円に減資　コロナ禍直撃で財務改善目指す（共同通信） - Yahoo!ニュース\n",
            "https://news.yahoo.co.jp/articles/4a299940244416b51403d6f1d8b5d302eca0abd7\n",
            "三幸製菓火災　米菓各社が増産体制　他カテゴリーにも余波（食品新聞） - Yahoo!ニュース\n",
            "https://news.yahoo.co.jp/articles/e08a589d106c4c2d65aa2e7eeea1679da7f974cb\n",
            "コロナ予防の広告注意、消費者庁　サプリや除菌剤（共同通信） - Yahoo!ニュース\n",
            "https://news.yahoo.co.jp/articles/cbe74ea7ac03cb27fddb8b9ff25c25b9a75294d6\n",
            "埼玉が誇る老舗ギョーザチェーン　味を180度転換した決断の裏側（日経クロストレンド） - Yahoo!ニュース\n",
            "https://news.yahoo.co.jp/articles/c4df1ea58fa964d9771d73df6be6128e041051a2\n",
            "金先物、過去最高値に迫る　ウクライナ有事を警戒（共同通信） - Yahoo!ニュース\n",
            "https://news.yahoo.co.jp/articles/cbe74ea7ac03cb27fddb8b9ff25c25b9a75294d6\n",
            "埼玉が誇る老舗ギョーザチェーン　味を180度転換した決断の裏側（日経クロストレンド） - Yahoo!ニュース\n",
            "https://news.yahoo.co.jp/articles/33d63f91f636163cc2881dccdb907da074cc4faa\n",
            "みずほ銀行「新頭取」決定のウラ　システム障害に続く新たな“爆弾”とは（デイリー新潮） - Yahoo!ニュース\n",
            "https://news.yahoo.co.jp/articles/f5f88c6e0bda38b8efff4c2a64ec484d35771ac0\n",
            "【独自】１８～１９歳のカードローン、大手３行が見送り…住宅ローンは検討（読売新聞オンライン） - Yahoo!ニュース\n",
            "https://news.yahoo.co.jp/articles/0f989c9a1cf77911eb3da260841599dba50545ee\n",
            "NY株続落、622ドル安　下げ幅今年最大、ウクライナ懸念（共同通信） - Yahoo!ニュース\n",
            "https://news.yahoo.co.jp/articles/98b95e62b035706611a6573b84500d3635248206\n",
            "西九州新幹線9月23日開業へ　JR九州が最終調整　3連休に合わせ（西日本新聞） - Yahoo!ニュース\n",
            "https://news.yahoo.co.jp/articles/7866184c71fe161cd1187ee9ed5fbf9edd201b4a\n",
            "円の実力、50年ぶり低水準　購買力が低下、家計に逆風（共同通信） - Yahoo!ニュース\n",
            "https://news.yahoo.co.jp/articles/d8c778a774dff3ac7e940ce94c1f4984a53e2e92\n",
            "日本酒「獺祭」製造部の大卒初任給、30万円に大幅引き上げ、“5年で平均基本給2倍”目指す/旭酒造（食品産業新聞社ニュースWEB） - Yahoo!ニュース\n",
            "https://news.yahoo.co.jp/articles/1fa711ffdc2fbf1ce264d4642753dfd22bb03c0a\n",
            "象印が勝利、買収防衛策承認　中国株主、撤退に言及（時事通信） - Yahoo!ニュース\n",
            "https://news.yahoo.co.jp/articles/953a85de68000179992a3017e179dc0f13472226\n",
            "日清オイリオ 食用油を再び値上げへ 去年すでに4回値上げも（TBS系（JNN）） - Yahoo!ニュース\n",
            "https://news.yahoo.co.jp/articles/8637b299dccbdbf0761ded845570d68ceb22d274\n",
            "FRB、利上げペース加速を示唆　インフレ抑制で　1月会合議事要旨（毎日新聞） - Yahoo!ニュース\n",
            "https://news.yahoo.co.jp/articles/886974a0071246f3767b43a92f9198fca19aadf1\n",
            "「正直、20円でも厳しい…」正念場で苦悩する『チロルチョコ』　購買層が変化した駄菓子業界の課題も（オリコン） - Yahoo!ニュース\n",
            "https://news.yahoo.co.jp/articles/8ae55358d45d29f8c182db77811d7aa57305a9cd\n",
            "節税保険にメス　「指南書」発覚の3社に金融庁が報告徴求命令（朝日新聞デジタル） - Yahoo!ニュース\n",
            "https://news.yahoo.co.jp/articles/cc16f6fdc62222a230a0b120b9961f5dbd5b9824\n",
            "ウェブ「美術手帖」が記事流用　他サイトの休館情報（共同通信） - Yahoo!ニュース\n",
            "https://news.yahoo.co.jp/articles/bcb7c9adaf689b504f7e8c5dd5e926b329fd43d5\n",
            "フィギュア選手の親って大変？　「お金がかかる」と言われる競技、コーチ料の相場は…（THE ANSWER） - Yahoo!ニュース\n",
            "https://news.yahoo.co.jp/articles/ad41a359b2ac5ffb7ce5a0c6441d6ae5a6b16893\n",
            "1月の貿易収支 2兆円超の貿易赤字 原油・ガス・石炭の高騰が影響（TBS系（JNN）） - Yahoo!ニュース\n",
            "https://news.yahoo.co.jp/articles/25cffedcbb71cb5be12cb920523164203a3d661d\n",
            "電機大手、「ジョブ型」加速　一般社員に拡大、人材獲得激化（時事通信） - Yahoo!ニュース\n"
          ]
        }
      ]
    },
    {
      "cell_type": "code",
      "source": [
        "df = pd.DataFrame([[title, content] for title, content in zip(titles, contents)], columns=[\"title\", \"text\"])\n",
        "df.to_csv(\"yahoo_news_econ.csv\",encoding='utf_8_sig')"
      ],
      "metadata": {
        "id": "9IjXR-BNh5p4"
      },
      "execution_count": 160,
      "outputs": []
    },
    {
      "cell_type": "markdown",
      "source": [
        "# 実装してみる"
      ],
      "metadata": {
        "id": "XokbDRj5iDGZ"
      }
    },
    {
      "cell_type": "code",
      "source": [
        "import pandas as pd"
      ],
      "metadata": {
        "id": "MPj0YfVIcZVn"
      },
      "execution_count": 6,
      "outputs": []
    },
    {
      "cell_type": "code",
      "source": [
        "df = pd.read_csv(\"/content/yahoo_news_econ2.csv\", sep=\",\")"
      ],
      "metadata": {
        "id": "Cq96FxCGiFUb"
      },
      "execution_count": 7,
      "outputs": []
    },
    {
      "cell_type": "code",
      "source": [
        "df.drop(df.columns[0], axis=1)"
      ],
      "metadata": {
        "colab": {
          "base_uri": "https://localhost:8080/",
          "height": 424
        },
        "id": "VvIXOLr2ixPP",
        "outputId": "5e84d64b-c937-45ff-c0e6-bd697635612b"
      },
      "execution_count": 8,
      "outputs": [
        {
          "output_type": "execute_result",
          "data": {
            "text/html": [
              "\n",
              "  <div id=\"df-c3a514a0-e13b-42aa-a501-f5340f04b6cf\">\n",
              "    <div class=\"colab-df-container\">\n",
              "      <div>\n",
              "<style scoped>\n",
              "    .dataframe tbody tr th:only-of-type {\n",
              "        vertical-align: middle;\n",
              "    }\n",
              "\n",
              "    .dataframe tbody tr th {\n",
              "        vertical-align: top;\n",
              "    }\n",
              "\n",
              "    .dataframe thead th {\n",
              "        text-align: right;\n",
              "    }\n",
              "</style>\n",
              "<table border=\"1\" class=\"dataframe\">\n",
              "  <thead>\n",
              "    <tr style=\"text-align: right;\">\n",
              "      <th></th>\n",
              "      <th>title</th>\n",
              "      <th>text</th>\n",
              "    </tr>\n",
              "  </thead>\n",
              "  <tbody>\n",
              "    <tr>\n",
              "      <th>0</th>\n",
              "      <td>なぜタイヤ脱落『9割以上が左後輪』なのか…専門家が指摘する“日本の道路事情”と“ナットの締め...</td>\n",
              "      <td>国土交通省が公開している実験の映像　岐阜県中津川市の中央道で1月、走行中のダンプカーからタイ...</td>\n",
              "    </tr>\n",
              "    <tr>\n",
              "      <th>1</th>\n",
              "      <td>新しい客、獲得できるチャンスなのに… 「取材拒否」の飲食店がある理由（オトナンサー） - Y...</td>\n",
              "      <td>なぜ取材拒否？　飲食店の中には、テレビや雑誌の取材を一切受けない、いわゆる「取材拒否の店」が...</td>\n",
              "    </tr>\n",
              "    <tr>\n",
              "      <th>2</th>\n",
              "      <td>【速報】「まん延防止措置」追加適用で“夜の人出”減る　札幌36.5％ 大阪18.6％減（FN...</td>\n",
              "      <td>FNNプライムオンライン27日から追加で「まん延防止等重点措置」が適用された地域では、28日...</td>\n",
              "    </tr>\n",
              "    <tr>\n",
              "      <th>3</th>\n",
              "      <td>飲み会後のナイト需要消失が打撃　カラオケ市場、コロナ前から6割減へ　「歌わないカラオケ」で回...</td>\n",
              "      <td>「まん延防止」などで再び遠のく客足 当面は苦しい状況続くまん延防止などで居酒屋客など「ナイト...</td>\n",
              "    </tr>\n",
              "    <tr>\n",
              "      <th>4</th>\n",
              "      <td>生乳廃棄問題、給食ない春休みに再燃の可能性も　業界団体が見通し（朝日新聞デジタル） - Ya...</td>\n",
              "      <td>牛乳の消費拡大をPRする金子原二郎農林水産相（中央）ら=2021年12月17日、東京都千代田...</td>\n",
              "    </tr>\n",
              "    <tr>\n",
              "      <th>...</th>\n",
              "      <td>...</td>\n",
              "      <td>...</td>\n",
              "    </tr>\n",
              "    <tr>\n",
              "      <th>80</th>\n",
              "      <td>しょうゆやジャム…値上げ春先以降も　家計への影響懸念（産経新聞） - Yahoo!ニュース</td>\n",
              "      <td>消費者物価指数が上昇。値上げされる商品など。調理油類も値上げに＝２１日、大阪市城東区のスーパ...</td>\n",
              "    </tr>\n",
              "    <tr>\n",
              "      <th>81</th>\n",
              "      <td>ガソリンスタンドの屋根はなぜ平らなのか？ 雪が降ったらどうしてる？（くるまのニュース） - ...</td>\n",
              "      <td>「平ら」は合理性ゆえ　ガソリンスタンドを覆う屋根（上屋）の多くは、水平に造られています。なぜ...</td>\n",
              "    </tr>\n",
              "    <tr>\n",
              "      <th>82</th>\n",
              "      <td>歌会はなぜ楽しい　アイドルやホストも参入、コロナ禍の短歌ブーム（産経新聞） - Yahoo!...</td>\n",
              "      <td>女性アイドル４人らが出演した「アイドル歌会＠詠い納め」。「無記名でも誰の短歌か分かる」と好評...</td>\n",
              "    </tr>\n",
              "    <tr>\n",
              "      <th>83</th>\n",
              "      <td>「まさかマイナス？」8歳の貯金箱　駆け込みでATM故障も（時事通信） - Yahoo!ニュース</td>\n",
              "      <td>大量の小銭の行方は…　ゆうちょ銀行が2022年1月17日に「硬貨取扱料金」を新設し、硬貨を預...</td>\n",
              "    </tr>\n",
              "    <tr>\n",
              "      <th>84</th>\n",
              "      <td>「喫茶店」の廃業、2021年は過去最多の100件（東京商工リサーチ） - Yahoo!ニュース</td>\n",
              "      <td>「商談」「時間つぶし」「勉強」需要減で2022年も増加の恐れ喫茶店の苦境が続く（TSR撮影）...</td>\n",
              "    </tr>\n",
              "  </tbody>\n",
              "</table>\n",
              "<p>85 rows × 2 columns</p>\n",
              "</div>\n",
              "      <button class=\"colab-df-convert\" onclick=\"convertToInteractive('df-c3a514a0-e13b-42aa-a501-f5340f04b6cf')\"\n",
              "              title=\"Convert this dataframe to an interactive table.\"\n",
              "              style=\"display:none;\">\n",
              "        \n",
              "  <svg xmlns=\"http://www.w3.org/2000/svg\" height=\"24px\"viewBox=\"0 0 24 24\"\n",
              "       width=\"24px\">\n",
              "    <path d=\"M0 0h24v24H0V0z\" fill=\"none\"/>\n",
              "    <path d=\"M18.56 5.44l.94 2.06.94-2.06 2.06-.94-2.06-.94-.94-2.06-.94 2.06-2.06.94zm-11 1L8.5 8.5l.94-2.06 2.06-.94-2.06-.94L8.5 2.5l-.94 2.06-2.06.94zm10 10l.94 2.06.94-2.06 2.06-.94-2.06-.94-.94-2.06-.94 2.06-2.06.94z\"/><path d=\"M17.41 7.96l-1.37-1.37c-.4-.4-.92-.59-1.43-.59-.52 0-1.04.2-1.43.59L10.3 9.45l-7.72 7.72c-.78.78-.78 2.05 0 2.83L4 21.41c.39.39.9.59 1.41.59.51 0 1.02-.2 1.41-.59l7.78-7.78 2.81-2.81c.8-.78.8-2.07 0-2.86zM5.41 20L4 18.59l7.72-7.72 1.47 1.35L5.41 20z\"/>\n",
              "  </svg>\n",
              "      </button>\n",
              "      \n",
              "  <style>\n",
              "    .colab-df-container {\n",
              "      display:flex;\n",
              "      flex-wrap:wrap;\n",
              "      gap: 12px;\n",
              "    }\n",
              "\n",
              "    .colab-df-convert {\n",
              "      background-color: #E8F0FE;\n",
              "      border: none;\n",
              "      border-radius: 50%;\n",
              "      cursor: pointer;\n",
              "      display: none;\n",
              "      fill: #1967D2;\n",
              "      height: 32px;\n",
              "      padding: 0 0 0 0;\n",
              "      width: 32px;\n",
              "    }\n",
              "\n",
              "    .colab-df-convert:hover {\n",
              "      background-color: #E2EBFA;\n",
              "      box-shadow: 0px 1px 2px rgba(60, 64, 67, 0.3), 0px 1px 3px 1px rgba(60, 64, 67, 0.15);\n",
              "      fill: #174EA6;\n",
              "    }\n",
              "\n",
              "    [theme=dark] .colab-df-convert {\n",
              "      background-color: #3B4455;\n",
              "      fill: #D2E3FC;\n",
              "    }\n",
              "\n",
              "    [theme=dark] .colab-df-convert:hover {\n",
              "      background-color: #434B5C;\n",
              "      box-shadow: 0px 1px 3px 1px rgba(0, 0, 0, 0.15);\n",
              "      filter: drop-shadow(0px 1px 2px rgba(0, 0, 0, 0.3));\n",
              "      fill: #FFFFFF;\n",
              "    }\n",
              "  </style>\n",
              "\n",
              "      <script>\n",
              "        const buttonEl =\n",
              "          document.querySelector('#df-c3a514a0-e13b-42aa-a501-f5340f04b6cf button.colab-df-convert');\n",
              "        buttonEl.style.display =\n",
              "          google.colab.kernel.accessAllowed ? 'block' : 'none';\n",
              "\n",
              "        async function convertToInteractive(key) {\n",
              "          const element = document.querySelector('#df-c3a514a0-e13b-42aa-a501-f5340f04b6cf');\n",
              "          const dataTable =\n",
              "            await google.colab.kernel.invokeFunction('convertToInteractive',\n",
              "                                                     [key], {});\n",
              "          if (!dataTable) return;\n",
              "\n",
              "          const docLinkHtml = 'Like what you see? Visit the ' +\n",
              "            '<a target=\"_blank\" href=https://colab.research.google.com/notebooks/data_table.ipynb>data table notebook</a>'\n",
              "            + ' to learn more about interactive tables.';\n",
              "          element.innerHTML = '';\n",
              "          dataTable['output_type'] = 'display_data';\n",
              "          await google.colab.output.renderOutput(dataTable, element);\n",
              "          const docLink = document.createElement('div');\n",
              "          docLink.innerHTML = docLinkHtml;\n",
              "          element.appendChild(docLink);\n",
              "        }\n",
              "      </script>\n",
              "    </div>\n",
              "  </div>\n",
              "  "
            ],
            "text/plain": [
              "                                                title                                               text\n",
              "0   なぜタイヤ脱落『9割以上が左後輪』なのか…専門家が指摘する“日本の道路事情”と“ナットの締め...  国土交通省が公開している実験の映像　岐阜県中津川市の中央道で1月、走行中のダンプカーからタイ...\n",
              "1   新しい客、獲得できるチャンスなのに… 「取材拒否」の飲食店がある理由（オトナンサー） - Y...  なぜ取材拒否？　飲食店の中には、テレビや雑誌の取材を一切受けない、いわゆる「取材拒否の店」が...\n",
              "2   【速報】「まん延防止措置」追加適用で“夜の人出”減る　札幌36.5％ 大阪18.6％減（FN...  FNNプライムオンライン27日から追加で「まん延防止等重点措置」が適用された地域では、28日...\n",
              "3   飲み会後のナイト需要消失が打撃　カラオケ市場、コロナ前から6割減へ　「歌わないカラオケ」で回...  「まん延防止」などで再び遠のく客足 当面は苦しい状況続くまん延防止などで居酒屋客など「ナイト...\n",
              "4   生乳廃棄問題、給食ない春休みに再燃の可能性も　業界団体が見通し（朝日新聞デジタル） - Ya...  牛乳の消費拡大をPRする金子原二郎農林水産相（中央）ら=2021年12月17日、東京都千代田...\n",
              "..                                                ...                                                ...\n",
              "80      しょうゆやジャム…値上げ春先以降も　家計への影響懸念（産経新聞） - Yahoo!ニュース  消費者物価指数が上昇。値上げされる商品など。調理油類も値上げに＝２１日、大阪市城東区のスーパ...\n",
              "81  ガソリンスタンドの屋根はなぜ平らなのか？ 雪が降ったらどうしてる？（くるまのニュース） - ...  「平ら」は合理性ゆえ　ガソリンスタンドを覆う屋根（上屋）の多くは、水平に造られています。なぜ...\n",
              "82  歌会はなぜ楽しい　アイドルやホストも参入、コロナ禍の短歌ブーム（産経新聞） - Yahoo!...  女性アイドル４人らが出演した「アイドル歌会＠詠い納め」。「無記名でも誰の短歌か分かる」と好評...\n",
              "83    「まさかマイナス？」8歳の貯金箱　駆け込みでATM故障も（時事通信） - Yahoo!ニュース  大量の小銭の行方は…　ゆうちょ銀行が2022年1月17日に「硬貨取扱料金」を新設し、硬貨を預...\n",
              "84    「喫茶店」の廃業、2021年は過去最多の100件（東京商工リサーチ） - Yahoo!ニュース  「商談」「時間つぶし」「勉強」需要減で2022年も増加の恐れ喫茶店の苦境が続く（TSR撮影）...\n",
              "\n",
              "[85 rows x 2 columns]"
            ]
          },
          "metadata": {},
          "execution_count": 8
        }
      ]
    },
    {
      "cell_type": "code",
      "source": [
        "!apt install aptitude\n",
        "!aptitude install mecab libmecab-dev mecab-ipadic-utf8 git make curl xz-utils file -y\n",
        "!pip install mecab-python3==0.7"
      ],
      "metadata": {
        "colab": {
          "base_uri": "https://localhost:8080/"
        },
        "id": "l7S6aAGyi4Gi",
        "outputId": "8d4e0c26-e897-4bfa-893e-1c84b5b15aa0"
      },
      "execution_count": 9,
      "outputs": [
        {
          "output_type": "stream",
          "name": "stdout",
          "text": [
            "Reading package lists... Done\n",
            "Building dependency tree       \n",
            "Reading state information... Done\n",
            "The following package was automatically installed and is no longer required:\n",
            "  libnvidia-common-470\n",
            "Use 'apt autoremove' to remove it.\n",
            "The following additional packages will be installed:\n",
            "  aptitude-common libcgi-fast-perl libcgi-pm-perl libclass-accessor-perl\n",
            "  libcwidget3v5 libencode-locale-perl libfcgi-perl libhtml-parser-perl\n",
            "  libhtml-tagset-perl libhttp-date-perl libhttp-message-perl libio-html-perl\n",
            "  libio-string-perl liblwp-mediatypes-perl libparse-debianchangelog-perl\n",
            "  libsigc++-2.0-0v5 libsub-name-perl libtimedate-perl liburi-perl libxapian30\n",
            "Suggested packages:\n",
            "  aptitude-doc-en | aptitude-doc apt-xapian-index debtags tasksel\n",
            "  libcwidget-dev libdata-dump-perl libhtml-template-perl libxml-simple-perl\n",
            "  libwww-perl xapian-tools\n",
            "The following NEW packages will be installed:\n",
            "  aptitude aptitude-common libcgi-fast-perl libcgi-pm-perl\n",
            "  libclass-accessor-perl libcwidget3v5 libencode-locale-perl libfcgi-perl\n",
            "  libhtml-parser-perl libhtml-tagset-perl libhttp-date-perl\n",
            "  libhttp-message-perl libio-html-perl libio-string-perl\n",
            "  liblwp-mediatypes-perl libparse-debianchangelog-perl libsigc++-2.0-0v5\n",
            "  libsub-name-perl libtimedate-perl liburi-perl libxapian30\n",
            "0 upgraded, 21 newly installed, 0 to remove and 39 not upgraded.\n",
            "Need to get 3,877 kB of archives.\n",
            "After this operation, 15.6 MB of additional disk space will be used.\n",
            "Get:1 http://archive.ubuntu.com/ubuntu bionic/main amd64 aptitude-common all 0.8.10-6ubuntu1 [1,014 kB]\n",
            "Get:2 http://archive.ubuntu.com/ubuntu bionic/main amd64 libsigc++-2.0-0v5 amd64 2.10.0-2 [10.9 kB]\n",
            "Get:3 http://archive.ubuntu.com/ubuntu bionic/main amd64 libcwidget3v5 amd64 0.5.17-7 [286 kB]\n",
            "Get:4 http://archive.ubuntu.com/ubuntu bionic-updates/main amd64 libxapian30 amd64 1.4.5-1ubuntu0.1 [631 kB]\n",
            "Get:5 http://archive.ubuntu.com/ubuntu bionic/main amd64 aptitude amd64 0.8.10-6ubuntu1 [1,269 kB]\n",
            "Get:6 http://archive.ubuntu.com/ubuntu bionic/main amd64 libhtml-tagset-perl all 3.20-3 [12.1 kB]\n",
            "Get:7 http://archive.ubuntu.com/ubuntu bionic/main amd64 liburi-perl all 1.73-1 [77.2 kB]\n",
            "Get:8 http://archive.ubuntu.com/ubuntu bionic/main amd64 libhtml-parser-perl amd64 3.72-3build1 [85.9 kB]\n",
            "Get:9 http://archive.ubuntu.com/ubuntu bionic/main amd64 libcgi-pm-perl all 4.38-1 [185 kB]\n",
            "Get:10 http://archive.ubuntu.com/ubuntu bionic/main amd64 libfcgi-perl amd64 0.78-2build1 [32.8 kB]\n",
            "Get:11 http://archive.ubuntu.com/ubuntu bionic/main amd64 libcgi-fast-perl all 1:2.13-1 [9,940 B]\n",
            "Get:12 http://archive.ubuntu.com/ubuntu bionic/main amd64 libsub-name-perl amd64 0.21-1build1 [11.6 kB]\n",
            "Get:13 http://archive.ubuntu.com/ubuntu bionic/main amd64 libclass-accessor-perl all 0.51-1 [21.2 kB]\n",
            "Get:14 http://archive.ubuntu.com/ubuntu bionic/main amd64 libencode-locale-perl all 1.05-1 [12.3 kB]\n",
            "Get:15 http://archive.ubuntu.com/ubuntu bionic/main amd64 libtimedate-perl all 2.3000-2 [37.5 kB]\n",
            "Get:16 http://archive.ubuntu.com/ubuntu bionic/main amd64 libhttp-date-perl all 6.02-1 [10.4 kB]\n",
            "Get:17 http://archive.ubuntu.com/ubuntu bionic/main amd64 libio-html-perl all 1.001-1 [14.9 kB]\n",
            "Get:18 http://archive.ubuntu.com/ubuntu bionic/main amd64 liblwp-mediatypes-perl all 6.02-1 [21.7 kB]\n",
            "Get:19 http://archive.ubuntu.com/ubuntu bionic/main amd64 libhttp-message-perl all 6.14-1 [72.1 kB]\n",
            "Get:20 http://archive.ubuntu.com/ubuntu bionic/main amd64 libio-string-perl all 1.08-3 [11.1 kB]\n",
            "Get:21 http://archive.ubuntu.com/ubuntu bionic/main amd64 libparse-debianchangelog-perl all 1.2.0-12 [49.5 kB]\n",
            "Fetched 3,877 kB in 1s (2,704 kB/s)\n",
            "Selecting previously unselected package aptitude-common.\n",
            "(Reading database ... 155320 files and directories currently installed.)\n",
            "Preparing to unpack .../00-aptitude-common_0.8.10-6ubuntu1_all.deb ...\n",
            "Unpacking aptitude-common (0.8.10-6ubuntu1) ...\n",
            "Selecting previously unselected package libsigc++-2.0-0v5:amd64.\n",
            "Preparing to unpack .../01-libsigc++-2.0-0v5_2.10.0-2_amd64.deb ...\n",
            "Unpacking libsigc++-2.0-0v5:amd64 (2.10.0-2) ...\n",
            "Selecting previously unselected package libcwidget3v5:amd64.\n",
            "Preparing to unpack .../02-libcwidget3v5_0.5.17-7_amd64.deb ...\n",
            "Unpacking libcwidget3v5:amd64 (0.5.17-7) ...\n",
            "Selecting previously unselected package libxapian30:amd64.\n",
            "Preparing to unpack .../03-libxapian30_1.4.5-1ubuntu0.1_amd64.deb ...\n",
            "Unpacking libxapian30:amd64 (1.4.5-1ubuntu0.1) ...\n",
            "Selecting previously unselected package aptitude.\n",
            "Preparing to unpack .../04-aptitude_0.8.10-6ubuntu1_amd64.deb ...\n",
            "Unpacking aptitude (0.8.10-6ubuntu1) ...\n",
            "Selecting previously unselected package libhtml-tagset-perl.\n",
            "Preparing to unpack .../05-libhtml-tagset-perl_3.20-3_all.deb ...\n",
            "Unpacking libhtml-tagset-perl (3.20-3) ...\n",
            "Selecting previously unselected package liburi-perl.\n",
            "Preparing to unpack .../06-liburi-perl_1.73-1_all.deb ...\n",
            "Unpacking liburi-perl (1.73-1) ...\n",
            "Selecting previously unselected package libhtml-parser-perl.\n",
            "Preparing to unpack .../07-libhtml-parser-perl_3.72-3build1_amd64.deb ...\n",
            "Unpacking libhtml-parser-perl (3.72-3build1) ...\n",
            "Selecting previously unselected package libcgi-pm-perl.\n",
            "Preparing to unpack .../08-libcgi-pm-perl_4.38-1_all.deb ...\n",
            "Unpacking libcgi-pm-perl (4.38-1) ...\n",
            "Selecting previously unselected package libfcgi-perl.\n",
            "Preparing to unpack .../09-libfcgi-perl_0.78-2build1_amd64.deb ...\n",
            "Unpacking libfcgi-perl (0.78-2build1) ...\n",
            "Selecting previously unselected package libcgi-fast-perl.\n",
            "Preparing to unpack .../10-libcgi-fast-perl_1%3a2.13-1_all.deb ...\n",
            "Unpacking libcgi-fast-perl (1:2.13-1) ...\n",
            "Selecting previously unselected package libsub-name-perl.\n",
            "Preparing to unpack .../11-libsub-name-perl_0.21-1build1_amd64.deb ...\n",
            "Unpacking libsub-name-perl (0.21-1build1) ...\n",
            "Selecting previously unselected package libclass-accessor-perl.\n",
            "Preparing to unpack .../12-libclass-accessor-perl_0.51-1_all.deb ...\n",
            "Unpacking libclass-accessor-perl (0.51-1) ...\n",
            "Selecting previously unselected package libencode-locale-perl.\n",
            "Preparing to unpack .../13-libencode-locale-perl_1.05-1_all.deb ...\n",
            "Unpacking libencode-locale-perl (1.05-1) ...\n",
            "Selecting previously unselected package libtimedate-perl.\n",
            "Preparing to unpack .../14-libtimedate-perl_2.3000-2_all.deb ...\n",
            "Unpacking libtimedate-perl (2.3000-2) ...\n",
            "Selecting previously unselected package libhttp-date-perl.\n",
            "Preparing to unpack .../15-libhttp-date-perl_6.02-1_all.deb ...\n",
            "Unpacking libhttp-date-perl (6.02-1) ...\n",
            "Selecting previously unselected package libio-html-perl.\n",
            "Preparing to unpack .../16-libio-html-perl_1.001-1_all.deb ...\n",
            "Unpacking libio-html-perl (1.001-1) ...\n",
            "Selecting previously unselected package liblwp-mediatypes-perl.\n",
            "Preparing to unpack .../17-liblwp-mediatypes-perl_6.02-1_all.deb ...\n",
            "Unpacking liblwp-mediatypes-perl (6.02-1) ...\n",
            "Selecting previously unselected package libhttp-message-perl.\n",
            "Preparing to unpack .../18-libhttp-message-perl_6.14-1_all.deb ...\n",
            "Unpacking libhttp-message-perl (6.14-1) ...\n",
            "Selecting previously unselected package libio-string-perl.\n",
            "Preparing to unpack .../19-libio-string-perl_1.08-3_all.deb ...\n",
            "Unpacking libio-string-perl (1.08-3) ...\n",
            "Selecting previously unselected package libparse-debianchangelog-perl.\n",
            "Preparing to unpack .../20-libparse-debianchangelog-perl_1.2.0-12_all.deb ...\n",
            "Unpacking libparse-debianchangelog-perl (1.2.0-12) ...\n",
            "Setting up libhtml-tagset-perl (3.20-3) ...\n",
            "Setting up libxapian30:amd64 (1.4.5-1ubuntu0.1) ...\n",
            "Setting up libencode-locale-perl (1.05-1) ...\n",
            "Setting up libtimedate-perl (2.3000-2) ...\n",
            "Setting up libio-html-perl (1.001-1) ...\n",
            "Setting up aptitude-common (0.8.10-6ubuntu1) ...\n",
            "Setting up liblwp-mediatypes-perl (6.02-1) ...\n",
            "Setting up liburi-perl (1.73-1) ...\n",
            "Setting up libhtml-parser-perl (3.72-3build1) ...\n",
            "Setting up libcgi-pm-perl (4.38-1) ...\n",
            "Setting up libio-string-perl (1.08-3) ...\n",
            "Setting up libsub-name-perl (0.21-1build1) ...\n",
            "Setting up libfcgi-perl (0.78-2build1) ...\n",
            "Setting up libsigc++-2.0-0v5:amd64 (2.10.0-2) ...\n",
            "Setting up libclass-accessor-perl (0.51-1) ...\n",
            "Setting up libhttp-date-perl (6.02-1) ...\n",
            "Setting up libcgi-fast-perl (1:2.13-1) ...\n",
            "Setting up libparse-debianchangelog-perl (1.2.0-12) ...\n",
            "Setting up libhttp-message-perl (6.14-1) ...\n",
            "Setting up libcwidget3v5:amd64 (0.5.17-7) ...\n",
            "Setting up aptitude (0.8.10-6ubuntu1) ...\n",
            "update-alternatives: using /usr/bin/aptitude-curses to provide /usr/bin/aptitude (aptitude) in auto mode\n",
            "Processing triggers for man-db (2.8.3-2ubuntu0.1) ...\n",
            "Processing triggers for libc-bin (2.27-3ubuntu1.3) ...\n",
            "/sbin/ldconfig.real: /usr/local/lib/python3.7/dist-packages/ideep4py/lib/libmkldnn.so.0 is not a symbolic link\n",
            "\n",
            "git is already installed at the requested version (1:2.17.1-1ubuntu0.9)\n",
            "make is already installed at the requested version (4.1-9.1ubuntu1)\n",
            "curl is already installed at the requested version (7.58.0-2ubuntu3.16)\n",
            "xz-utils is already installed at the requested version (5.2.2-1.3)\n",
            "git is already installed at the requested version (1:2.17.1-1ubuntu0.9)\n",
            "make is already installed at the requested version (4.1-9.1ubuntu1)\n",
            "curl is already installed at the requested version (7.58.0-2ubuntu3.16)\n",
            "xz-utils is already installed at the requested version (5.2.2-1.3)\n",
            "The following NEW packages will be installed:\n",
            "  file libmagic-mgc{a} libmagic1{a} libmecab-dev libmecab2{a} mecab mecab-ipadic{a} mecab-ipadic-utf8 mecab-jumandic{a} mecab-jumandic-utf8{a} mecab-utils{a} \n",
            "The following packages will be REMOVED:\n",
            "  libnvidia-common-470{u} \n",
            "0 packages upgraded, 11 newly installed, 1 to remove and 39 not upgraded.\n",
            "Need to get 29.3 MB of archives. After unpacking 282 MB will be used.\n",
            "Get: 1 http://archive.ubuntu.com/ubuntu bionic-updates/main amd64 libmagic-mgc amd64 1:5.32-2ubuntu0.4 [184 kB]\n",
            "Get: 2 http://archive.ubuntu.com/ubuntu bionic-updates/main amd64 libmagic1 amd64 1:5.32-2ubuntu0.4 [68.6 kB]\n",
            "Get: 3 http://archive.ubuntu.com/ubuntu bionic-updates/main amd64 file amd64 1:5.32-2ubuntu0.4 [22.1 kB]\n",
            "Get: 4 http://archive.ubuntu.com/ubuntu bionic/universe amd64 libmecab2 amd64 0.996-5 [257 kB]\n",
            "Get: 5 http://archive.ubuntu.com/ubuntu bionic/universe amd64 libmecab-dev amd64 0.996-5 [308 kB]\n",
            "Get: 6 http://archive.ubuntu.com/ubuntu bionic/universe amd64 mecab-utils amd64 0.996-5 [4,856 B]\n",
            "Get: 7 http://archive.ubuntu.com/ubuntu bionic/universe amd64 mecab-jumandic-utf8 all 7.0-20130310-4 [16.2 MB]\n",
            "Get: 8 http://archive.ubuntu.com/ubuntu bionic/universe amd64 mecab-jumandic all 7.0-20130310-4 [2,212 B]\n",
            "Get: 9 http://archive.ubuntu.com/ubuntu bionic/universe amd64 mecab-ipadic all 2.7.0-20070801+main-1 [12.1 MB]\n",
            "Get: 10 http://archive.ubuntu.com/ubuntu bionic/universe amd64 mecab amd64 0.996-5 [132 kB]\n",
            "Get: 11 http://archive.ubuntu.com/ubuntu bionic/universe amd64 mecab-ipadic-utf8 all 2.7.0-20070801+main-1 [3,522 B]\n",
            "Fetched 29.3 MB in 2s (15.8 MB/s)\n",
            "(Reading database ... 155779 files and directories currently installed.)\n",
            "Removing libnvidia-common-470 (470.103.01-0ubuntu1) ...\n",
            "Selecting previously unselected package libmagic-mgc.\n",
            "(Reading database ... 155774 files and directories currently installed.)\n",
            "Preparing to unpack .../00-libmagic-mgc_1%3a5.32-2ubuntu0.4_amd64.deb ...\n",
            "Unpacking libmagic-mgc (1:5.32-2ubuntu0.4) ...\n",
            "Selecting previously unselected package libmagic1:amd64.\n",
            "Preparing to unpack .../01-libmagic1_1%3a5.32-2ubuntu0.4_amd64.deb ...\n",
            "Unpacking libmagic1:amd64 (1:5.32-2ubuntu0.4) ...\n",
            "Selecting previously unselected package file.\n",
            "Preparing to unpack .../02-file_1%3a5.32-2ubuntu0.4_amd64.deb ...\n",
            "Unpacking file (1:5.32-2ubuntu0.4) ...\n",
            "Selecting previously unselected package libmecab2:amd64.\n",
            "Preparing to unpack .../03-libmecab2_0.996-5_amd64.deb ...\n",
            "Unpacking libmecab2:amd64 (0.996-5) ...\n",
            "Selecting previously unselected package libmecab-dev.\n",
            "Preparing to unpack .../04-libmecab-dev_0.996-5_amd64.deb ...\n",
            "Unpacking libmecab-dev (0.996-5) ...\n",
            "Selecting previously unselected package mecab-utils.\n",
            "Preparing to unpack .../05-mecab-utils_0.996-5_amd64.deb ...\n",
            "Unpacking mecab-utils (0.996-5) ...\n",
            "Selecting previously unselected package mecab-jumandic-utf8.\n",
            "Preparing to unpack .../06-mecab-jumandic-utf8_7.0-20130310-4_all.deb ...\n",
            "Unpacking mecab-jumandic-utf8 (7.0-20130310-4) ...\n",
            "Selecting previously unselected package mecab-jumandic.\n",
            "Preparing to unpack .../07-mecab-jumandic_7.0-20130310-4_all.deb ...\n",
            "Unpacking mecab-jumandic (7.0-20130310-4) ...\n",
            "Selecting previously unselected package mecab-ipadic.\n",
            "Preparing to unpack .../08-mecab-ipadic_2.7.0-20070801+main-1_all.deb ...\n",
            "Unpacking mecab-ipadic (2.7.0-20070801+main-1) ...\n",
            "Selecting previously unselected package mecab.\n",
            "Preparing to unpack .../09-mecab_0.996-5_amd64.deb ...\n",
            "Unpacking mecab (0.996-5) ...\n",
            "Selecting previously unselected package mecab-ipadic-utf8.\n",
            "Preparing to unpack .../10-mecab-ipadic-utf8_2.7.0-20070801+main-1_all.deb ...\n",
            "Unpacking mecab-ipadic-utf8 (2.7.0-20070801+main-1) ...\n",
            "Setting up libmecab2:amd64 (0.996-5) ...\n",
            "Setting up libmagic-mgc (1:5.32-2ubuntu0.4) ...\n",
            "Setting up libmagic1:amd64 (1:5.32-2ubuntu0.4) ...\n",
            "Setting up mecab-utils (0.996-5) ...\n",
            "Setting up mecab-ipadic (2.7.0-20070801+main-1) ...\n",
            "Compiling IPA dictionary for Mecab.  This takes long time...\n",
            "reading /usr/share/mecab/dic/ipadic/unk.def ... 40\n",
            "emitting double-array: 100% |###########################################| \n",
            "/usr/share/mecab/dic/ipadic/model.def is not found. skipped.\n",
            "reading /usr/share/mecab/dic/ipadic/Noun.number.csv ... 42\n",
            "reading /usr/share/mecab/dic/ipadic/Adverb.csv ... 3032\n",
            "reading /usr/share/mecab/dic/ipadic/Noun.name.csv ... 34202\n",
            "reading /usr/share/mecab/dic/ipadic/Others.csv ... 2\n",
            "reading /usr/share/mecab/dic/ipadic/Conjunction.csv ... 171\n",
            "reading /usr/share/mecab/dic/ipadic/Interjection.csv ... 252\n",
            "reading /usr/share/mecab/dic/ipadic/Noun.place.csv ... 72999\n",
            "reading /usr/share/mecab/dic/ipadic/Suffix.csv ... 1393\n",
            "reading /usr/share/mecab/dic/ipadic/Noun.csv ... 60477\n",
            "reading /usr/share/mecab/dic/ipadic/Noun.others.csv ... 151\n",
            "reading /usr/share/mecab/dic/ipadic/Noun.proper.csv ... 27327\n",
            "reading /usr/share/mecab/dic/ipadic/Postp-col.csv ... 91\n",
            "reading /usr/share/mecab/dic/ipadic/Postp.csv ... 146\n",
            "reading /usr/share/mecab/dic/ipadic/Noun.verbal.csv ... 12146\n",
            "reading /usr/share/mecab/dic/ipadic/Adnominal.csv ... 135\n",
            "reading /usr/share/mecab/dic/ipadic/Filler.csv ... 19\n",
            "reading /usr/share/mecab/dic/ipadic/Verb.csv ... 130750\n",
            "reading /usr/share/mecab/dic/ipadic/Noun.demonst.csv ... 120\n",
            "reading /usr/share/mecab/dic/ipadic/Adj.csv ... 27210\n",
            "reading /usr/share/mecab/dic/ipadic/Auxil.csv ... 199\n",
            "reading /usr/share/mecab/dic/ipadic/Noun.adjv.csv ... 3328\n",
            "reading /usr/share/mecab/dic/ipadic/Noun.nai.csv ... 42\n",
            "reading /usr/share/mecab/dic/ipadic/Noun.org.csv ... 16668\n",
            "reading /usr/share/mecab/dic/ipadic/Symbol.csv ... 208\n",
            "reading /usr/share/mecab/dic/ipadic/Noun.adverbal.csv ... 795\n",
            "reading /usr/share/mecab/dic/ipadic/Prefix.csv ... 221\n",
            "emitting double-array: 100% |###########################################| \n",
            "reading /usr/share/mecab/dic/ipadic/matrix.def ... 1316x1316\n",
            "emitting matrix      : 100% |###########################################| \n",
            "\n",
            "done!\n",
            "update-alternatives: using /var/lib/mecab/dic/ipadic to provide /var/lib/mecab/dic/debian (mecab-dictionary) in auto mode\n",
            "Setting up libmecab-dev (0.996-5) ...\n",
            "Setting up file (1:5.32-2ubuntu0.4) ...\n",
            "Setting up mecab-jumandic-utf8 (7.0-20130310-4) ...\n",
            "Compiling Juman dictionary for Mecab.\n",
            "reading /usr/share/mecab/dic/juman/unk.def ... 37\n",
            "emitting double-array: 100% |###########################################| \n",
            "reading /usr/share/mecab/dic/juman/AuxV.csv ... 593\n",
            "reading /usr/share/mecab/dic/juman/Noun.hukusi.csv ... 81\n",
            "reading /usr/share/mecab/dic/juman/Rengo.csv ... 1118\n",
            "reading /usr/share/mecab/dic/juman/Assert.csv ... 34\n",
            "reading /usr/share/mecab/dic/juman/Suffix.csv ... 2128\n",
            "reading /usr/share/mecab/dic/juman/Demonstrative.csv ... 97\n",
            "reading /usr/share/mecab/dic/juman/Emoticon.csv ... 972\n",
            "reading /usr/share/mecab/dic/juman/Postp.csv ... 108\n",
            "reading /usr/share/mecab/dic/juman/Noun.suusi.csv ... 49\n",
            "reading /usr/share/mecab/dic/juman/Noun.keishiki.csv ... 8\n",
            "reading /usr/share/mecab/dic/juman/Special.csv ... 158\n",
            "reading /usr/share/mecab/dic/juman/Auto.csv ... 18931\n",
            "reading /usr/share/mecab/dic/juman/Wikipedia.csv ... 167709\n",
            "reading /usr/share/mecab/dic/juman/Noun.koyuu.csv ... 7964\n",
            "reading /usr/share/mecab/dic/juman/ContentW.csv ... 551145\n",
            "reading /usr/share/mecab/dic/juman/Prefix.csv ... 90\n",
            "emitting double-array: 100% |###########################################| \n",
            "reading /usr/share/mecab/dic/juman/matrix.def ... 1876x1876\n",
            "emitting matrix      : 100% |###########################################| \n",
            "\n",
            "done!\n",
            "Setting up mecab-ipadic-utf8 (2.7.0-20070801+main-1) ...\n",
            "Compiling IPA dictionary for Mecab.  This takes long time...\n",
            "reading /usr/share/mecab/dic/ipadic/unk.def ... 40\n",
            "emitting double-array: 100% |###########################################| \n",
            "/usr/share/mecab/dic/ipadic/model.def is not found. skipped.\n",
            "reading /usr/share/mecab/dic/ipadic/Noun.number.csv ... 42\n",
            "reading /usr/share/mecab/dic/ipadic/Adverb.csv ... 3032\n",
            "reading /usr/share/mecab/dic/ipadic/Noun.name.csv ... 34202\n",
            "reading /usr/share/mecab/dic/ipadic/Others.csv ... 2\n",
            "reading /usr/share/mecab/dic/ipadic/Conjunction.csv ... 171\n",
            "reading /usr/share/mecab/dic/ipadic/Interjection.csv ... 252\n",
            "reading /usr/share/mecab/dic/ipadic/Noun.place.csv ... 72999\n",
            "reading /usr/share/mecab/dic/ipadic/Suffix.csv ... 1393\n",
            "reading /usr/share/mecab/dic/ipadic/Noun.csv ... 60477\n",
            "reading /usr/share/mecab/dic/ipadic/Noun.others.csv ... 151\n",
            "reading /usr/share/mecab/dic/ipadic/Noun.proper.csv ... 27327\n",
            "reading /usr/share/mecab/dic/ipadic/Postp-col.csv ... 91\n",
            "reading /usr/share/mecab/dic/ipadic/Postp.csv ... 146\n",
            "reading /usr/share/mecab/dic/ipadic/Noun.verbal.csv ... 12146\n",
            "reading /usr/share/mecab/dic/ipadic/Adnominal.csv ... 135\n",
            "reading /usr/share/mecab/dic/ipadic/Filler.csv ... 19\n",
            "reading /usr/share/mecab/dic/ipadic/Verb.csv ... 130750\n",
            "reading /usr/share/mecab/dic/ipadic/Noun.demonst.csv ... 120\n",
            "reading /usr/share/mecab/dic/ipadic/Adj.csv ... 27210\n",
            "reading /usr/share/mecab/dic/ipadic/Auxil.csv ... 199\n",
            "reading /usr/share/mecab/dic/ipadic/Noun.adjv.csv ... 3328\n",
            "reading /usr/share/mecab/dic/ipadic/Noun.nai.csv ... 42\n",
            "reading /usr/share/mecab/dic/ipadic/Noun.org.csv ... 16668\n",
            "reading /usr/share/mecab/dic/ipadic/Symbol.csv ... 208\n",
            "reading /usr/share/mecab/dic/ipadic/Noun.adverbal.csv ... 795\n",
            "reading /usr/share/mecab/dic/ipadic/Prefix.csv ... 221\n",
            "emitting double-array: 100% |###########################################| \n",
            "reading /usr/share/mecab/dic/ipadic/matrix.def ... 1316x1316\n",
            "emitting matrix      : 100% |###########################################| \n",
            "\n",
            "done!\n",
            "update-alternatives: using /var/lib/mecab/dic/ipadic-utf8 to provide /var/lib/mecab/dic/debian (mecab-dictionary) in auto mode\n",
            "Setting up mecab (0.996-5) ...\n",
            "Compiling IPA dictionary for Mecab.  This takes long time...\n",
            "reading /usr/share/mecab/dic/ipadic/unk.def ... 40\n",
            "emitting double-array: 100% |###########################################| \n",
            "/usr/share/mecab/dic/ipadic/model.def is not found. skipped.\n",
            "reading /usr/share/mecab/dic/ipadic/Noun.number.csv ... 42\n",
            "reading /usr/share/mecab/dic/ipadic/Adverb.csv ... 3032\n",
            "reading /usr/share/mecab/dic/ipadic/Noun.name.csv ... 34202\n",
            "reading /usr/share/mecab/dic/ipadic/Others.csv ... 2\n",
            "reading /usr/share/mecab/dic/ipadic/Conjunction.csv ... 171\n",
            "reading /usr/share/mecab/dic/ipadic/Interjection.csv ... 252\n",
            "reading /usr/share/mecab/dic/ipadic/Noun.place.csv ... 72999\n",
            "reading /usr/share/mecab/dic/ipadic/Suffix.csv ... 1393\n",
            "reading /usr/share/mecab/dic/ipadic/Noun.csv ... 60477\n",
            "reading /usr/share/mecab/dic/ipadic/Noun.others.csv ... 151\n",
            "reading /usr/share/mecab/dic/ipadic/Noun.proper.csv ... 27327\n",
            "reading /usr/share/mecab/dic/ipadic/Postp-col.csv ... 91\n",
            "reading /usr/share/mecab/dic/ipadic/Postp.csv ... 146\n",
            "reading /usr/share/mecab/dic/ipadic/Noun.verbal.csv ... 12146\n",
            "reading /usr/share/mecab/dic/ipadic/Adnominal.csv ... 135\n",
            "reading /usr/share/mecab/dic/ipadic/Filler.csv ... 19\n",
            "reading /usr/share/mecab/dic/ipadic/Verb.csv ... 130750\n",
            "reading /usr/share/mecab/dic/ipadic/Noun.demonst.csv ... 120\n",
            "reading /usr/share/mecab/dic/ipadic/Adj.csv ... 27210\n",
            "reading /usr/share/mecab/dic/ipadic/Auxil.csv ... 199\n",
            "reading /usr/share/mecab/dic/ipadic/Noun.adjv.csv ... 3328\n",
            "reading /usr/share/mecab/dic/ipadic/Noun.nai.csv ... 42\n",
            "reading /usr/share/mecab/dic/ipadic/Noun.org.csv ... 16668\n",
            "reading /usr/share/mecab/dic/ipadic/Symbol.csv ... 208\n",
            "reading /usr/share/mecab/dic/ipadic/Noun.adverbal.csv ... 795\n",
            "reading /usr/share/mecab/dic/ipadic/Prefix.csv ... 221\n",
            "emitting double-array: 100% |###########################################| \n",
            "reading /usr/share/mecab/dic/ipadic/matrix.def ... 1316x1316\n",
            "emitting matrix      : 100% |###########################################| \n",
            "\n",
            "done!\n",
            "Setting up mecab-jumandic (7.0-20130310-4) ...\n",
            "Processing triggers for man-db (2.8.3-2ubuntu0.1) ...\n",
            "Processing triggers for libc-bin (2.27-3ubuntu1.3) ...\n",
            "/sbin/ldconfig.real: /usr/local/lib/python3.7/dist-packages/ideep4py/lib/libmkldnn.so.0 is not a symbolic link\n",
            "\n",
            "                            \n",
            "Collecting mecab-python3==0.7\n",
            "  Downloading mecab-python3-0.7.tar.gz (41 kB)\n",
            "\u001b[K     |████████████████████████████████| 41 kB 401 kB/s \n",
            "\u001b[?25hBuilding wheels for collected packages: mecab-python3\n",
            "  Building wheel for mecab-python3 (setup.py) ... \u001b[?25l\u001b[?25hdone\n",
            "  Created wheel for mecab-python3: filename=mecab_python3-0.7-cp37-cp37m-linux_x86_64.whl size=156594 sha256=b11bf24e6d275b8dec65f2640f33dfc3a282c003fde6fa2abfb34f81a08894ed\n",
            "  Stored in directory: /root/.cache/pip/wheels/47/46/95/3748ec2c4936cb69ee4d248a85e862064ea1e84819344c5292\n",
            "Successfully built mecab-python3\n",
            "Installing collected packages: mecab-python3\n",
            "Successfully installed mecab-python3-0.7\n"
          ]
        }
      ]
    },
    {
      "cell_type": "code",
      "source": [
        "import MeCab\n",
        "mecab = MeCab.Tagger()\n",
        "import re\n",
        "from collections import Counter"
      ],
      "metadata": {
        "id": "JwdNO4t8csLO"
      },
      "execution_count": 10,
      "outputs": []
    },
    {
      "cell_type": "markdown",
      "source": [
        "##テキストをリスト化する"
      ],
      "metadata": {
        "id": "IZ-1XnCyjkNp"
      }
    },
    {
      "cell_type": "code",
      "source": [
        "def dftotext(df):\n",
        "    texts=[]\n",
        "    for i in range(len(df)):\n",
        "        texts.append(df[\"text\"][i])\n",
        "    return(texts)"
      ],
      "metadata": {
        "id": "syTkko7ojYBj"
      },
      "execution_count": 11,
      "outputs": []
    },
    {
      "cell_type": "code",
      "source": [
        "texts=dftotext(df)\n"
      ],
      "metadata": {
        "id": "sdddLbTS91Fi"
      },
      "execution_count": 12,
      "outputs": []
    },
    {
      "cell_type": "code",
      "source": [
        "#似たようなニュースを摘出する\n",
        "num=[11,15,16,17,26,28,29,38,46,54,59,63,64]\n",
        "texts2 =[]\n",
        "for i in range(len(df)):\n",
        "    if i in num:\n",
        "        texts2.append(df[\"text\"][i])"
      ],
      "metadata": {
        "id": "UNLL95CsAHwl"
      },
      "execution_count": 13,
      "outputs": []
    },
    {
      "cell_type": "markdown",
      "source": [
        "テキストの単語ごとの多次元リストの作成する関数"
      ],
      "metadata": {
        "id": "088sSbHskFpc"
      }
    },
    {
      "cell_type": "code",
      "source": [
        "def get_keywords_list(texts):\n",
        "    keywords = [[] for i in range(len(texts))]\n",
        "    for i in range(len(texts)):\n",
        "        tokenizer = MeCab.Tagger(\"-Ochasen\")\n",
        "        tokenizer.parse(\"\")\n",
        "        node = tokenizer.parseToNode(texts[i])\n",
        "        while node:\n",
        "            if node.feature.split(\",\")[0] == u\"名詞\":\n",
        "                keywords[i].append(node.surface)\n",
        "            elif node.feature.split(\",\")[0] == u\"形容詞\":\n",
        "                keywords[i].append(node.feature.split(\",\")[6])\n",
        "            elif node.feature.split(\",\")[0] == u\"動詞\":\n",
        "                keywords[i].append(node.feature.split(\",\")[6])\n",
        "            node = node.next\n",
        "    return(keywords)"
      ],
      "metadata": {
        "id": "RRRFswfhj9Go"
      },
      "execution_count": 195,
      "outputs": []
    },
    {
      "cell_type": "code",
      "source": [
        "keywords=get_keywords_list(texts)\n",
        "keywords"
      ],
      "metadata": {
        "id": "ToxiIQ6Enx6K"
      },
      "execution_count": null,
      "outputs": []
    },
    {
      "cell_type": "markdown",
      "source": [
        "## ワードのカウント"
      ],
      "metadata": {
        "id": "aRdjaZKGkL9Z"
      }
    },
    {
      "cell_type": "code",
      "source": [
        "from collections import defaultdict"
      ],
      "metadata": {
        "id": "6eO17io_kO1a"
      },
      "execution_count": 17,
      "outputs": []
    },
    {
      "cell_type": "code",
      "source": [
        "def word_freqs(keywords):\n",
        "    word_freqs =[]\n",
        "    for i in range(len(keywords)):\n",
        "        word_freqs.append(defaultdict(int))\n",
        "        for keyword in keywords[i]:\n",
        "            word_freqs[i][keyword] += 1\n",
        "    return(word_freqs)"
      ],
      "metadata": {
        "id": "3QCsGqZZkSCY"
      },
      "execution_count": 18,
      "outputs": []
    },
    {
      "cell_type": "code",
      "source": [
        "word_freqs = word_freqs(keywords)\n",
        "word_freqs"
      ],
      "metadata": {
        "id": "DrkPuZaSkTNu"
      },
      "execution_count": null,
      "outputs": []
    },
    {
      "cell_type": "code",
      "source": [
        "from sklearn.feature_extraction import DictVectorizer\n",
        "V = DictVectorizer()\n",
        "counts = [[] for i in range(len(texts))]\n",
        "for i in range(len(texts)):\n",
        "    counts[i] = V.fit_transform(word_freqs[i]).toarray() "
      ],
      "metadata": {
        "id": "sB4SmAgakbzL"
      },
      "execution_count": 20,
      "outputs": []
    },
    {
      "cell_type": "code",
      "source": [
        "counts # 次元数が全然違うので前処理がない"
      ],
      "metadata": {
        "id": "U75Znfp5kgy7"
      },
      "execution_count": null,
      "outputs": []
    },
    {
      "cell_type": "markdown",
      "source": [
        "# entitiesの次元を揃えるアプローチ"
      ],
      "metadata": {
        "id": "xaTSlCdgkjjA"
      }
    },
    {
      "cell_type": "code",
      "source": [
        "import numpy as np\n",
        "from sklearn.feature_extraction.text import CountVectorizer\n",
        "from sklearn.feature_extraction.text import TfidfTransformer\n",
        "from sklearn.metrics.pairwise import cosine_similarity"
      ],
      "metadata": {
        "id": "ftjR3sikkyha"
      },
      "execution_count": 22,
      "outputs": []
    },
    {
      "cell_type": "markdown",
      "source": [
        "## bag of wods のdocument-entity Matrix A1 を作成"
      ],
      "metadata": {
        "id": "uS20bjBTlNkn"
      }
    },
    {
      "cell_type": "code",
      "source": [
        "koyu = []\n",
        "def split_text_only_nva(text):\n",
        "    tagger = MeCab.Tagger()\n",
        "\n",
        "    words = []\n",
        "    for c in tagger.parse(text).splitlines()[:-1]:\n",
        "        surface, feature = c.split('\\t')\n",
        "        pos = feature.split(',')[0]\n",
        "        pos2 = feature.split(',')[1]\n",
        "\n",
        "        if pos2 == \"固有名詞\":\n",
        "            koyu.append(surface)\n",
        "\n",
        "        if pos == '名詞':\n",
        "            words.append(surface)\n",
        "        if pos ==\"動詞\":\n",
        "            words.append(surface)\n",
        "        if pos ==\"形容詞\":\n",
        "            words.append(surface)\n",
        "    return ' '.join(words)\n"
      ],
      "metadata": {
        "id": "JVW9Sxn0mTy5"
      },
      "execution_count": 23,
      "outputs": []
    },
    {
      "cell_type": "code",
      "source": [
        "def get_bow_matrixA(texts):\n",
        "    messages_list = []\n",
        "    for i in range(len(texts)):\n",
        "        messages_list.append(split_text_only_nva(texts[i]))\n",
        "    messages_list\n",
        "    docs = np.array(messages_list)\n",
        "    count = CountVectorizer()\n",
        "    bags = count.fit_transform(docs)\n",
        "    matrix=bags.toarray()\n",
        "    return(matrix)"
      ],
      "metadata": {
        "id": "cH6xn7JU87mD"
      },
      "execution_count": 100,
      "outputs": []
    },
    {
      "cell_type": "code",
      "source": [
        "A1 = get_bow_matrixA(texts)\n",
        "A1.shape"
      ],
      "metadata": {
        "colab": {
          "base_uri": "https://localhost:8080/"
        },
        "id": "1t6hulUWBxQP",
        "outputId": "6e7696cf-0f41-4aa3-d375-0417fb36b808"
      },
      "execution_count": 107,
      "outputs": [
        {
          "output_type": "execute_result",
          "data": {
            "text/plain": [
              "(85, 4285)"
            ]
          },
          "metadata": {},
          "execution_count": 107
        }
      ]
    },
    {
      "cell_type": "code",
      "source": [
        "#アプローチ①：取り出したdocumentsのentitiesの次元でmatrixを作成\n",
        "A12= get_bow_matrixA(texts2)\n",
        "A12.shape"
      ],
      "metadata": {
        "colab": {
          "base_uri": "https://localhost:8080/"
        },
        "id": "obFUT5H4CIdT",
        "outputId": "0c42da00-7bdd-4735-c2b7-4867a6ce68a8"
      },
      "execution_count": 146,
      "outputs": [
        {
          "output_type": "execute_result",
          "data": {
            "text/plain": [
              "(13, 567)"
            ]
          },
          "metadata": {},
          "execution_count": 146
        }
      ]
    },
    {
      "cell_type": "code",
      "source": [
        "#アプローチ⓶　entitiesの次元数は元のmatrixAに合わせて、documentの次元を変更してみる\n",
        "num=[11,15,16,17,26,28,29,38,46,54,59,63,64]\n",
        "omit_num=[] \n",
        "for i in range(len(texts)):\n",
        "    if i not in num:\n",
        "        omit_num.append(i)\n",
        "A13 = np.delete(A1, omit_num, 0)\n",
        "A13.shape"
      ],
      "metadata": {
        "colab": {
          "base_uri": "https://localhost:8080/"
        },
        "id": "gtYo6jkYCcSJ",
        "outputId": "9f3e4509-325a-4936-cac1-900ac626d147"
      },
      "execution_count": 108,
      "outputs": [
        {
          "output_type": "execute_result",
          "data": {
            "text/plain": [
              "(13, 4285)"
            ]
          },
          "metadata": {},
          "execution_count": 108
        }
      ]
    },
    {
      "cell_type": "code",
      "source": [
        "set(koyu) # 固有名詞のリスト"
      ],
      "metadata": {
        "id": "Q09G3RH2lexB"
      },
      "execution_count": null,
      "outputs": []
    },
    {
      "cell_type": "markdown",
      "source": [
        "##tf-idf のdocument-entity Matrix A2 を作成"
      ],
      "metadata": {
        "id": "yZ_dI05OlXEF"
      }
    },
    {
      "cell_type": "code",
      "source": [
        "import numpy as np\n",
        "\n",
        "from sklearn.feature_extraction.text import TfidfVectorizer\n",
        "from sklearn.feature_extraction.text import TfidfTransformer\n",
        "\n",
        "# tf-idf\n",
        "def get_tf_idf_matrixA(texts):\n",
        "    messages_list = []\n",
        "    for i in range(len(texts)):\n",
        "        messages_list.append(split_text_only_nva(texts[i]))\n",
        "    messages_list\n",
        "    docs = np.array(messages_list)\n",
        "    count = CountVectorizer()\n",
        "    bags = count.fit_transform(docs)\n",
        "    tfidf = TfidfTransformer(use_idf=True, norm=\"l2\", smooth_idf=True) #norm='l2'を指定すると単語ベクトルの長さが1になるようコサイン正規化\n",
        "    np.set_printoptions(precision=2)\n",
        "    tf_idf = tfidf.fit_transform(bags)\n",
        "    matrix=tf_idf.toarray()\n",
        "    return(matrix)"
      ],
      "metadata": {
        "id": "mAL90jeGlzyq"
      },
      "execution_count": 95,
      "outputs": []
    },
    {
      "cell_type": "code",
      "source": [
        "A2=get_tf_idf_matrixA(texts)"
      ],
      "metadata": {
        "colab": {
          "base_uri": "https://localhost:8080/"
        },
        "id": "78V5cYwV7D5t",
        "outputId": "142e1bc8-e1b5-46d1-8c9a-46db53bc077e"
      },
      "execution_count": 87,
      "outputs": [
        {
          "output_type": "execute_result",
          "data": {
            "text/plain": [
              "(85, 4285)"
            ]
          },
          "metadata": {},
          "execution_count": 87
        }
      ]
    },
    {
      "cell_type": "code",
      "source": [
        "#アプローチ①　取り出したdocumentsのentitiesの次元でmatrixを作成\n",
        "A22=get_tf_idf_matrixA(texts2)"
      ],
      "metadata": {
        "id": "IzUtat7F9SnM"
      },
      "execution_count": 88,
      "outputs": []
    },
    {
      "cell_type": "code",
      "source": [
        "#アプローチ⓶\n",
        "for i in range(len(texts)):\n",
        "    if i not in num:\n",
        "        omit_num.append(i)\n",
        "A23 = np.delete(A2, omit_num, 0)\n",
        "A23.shape"
      ],
      "metadata": {
        "colab": {
          "base_uri": "https://localhost:8080/"
        },
        "id": "3cHxeZsx9cKA",
        "outputId": "5745ebff-8262-4152-ce2e-c2e6e2b8f5ec"
      },
      "execution_count": 96,
      "outputs": [
        {
          "output_type": "execute_result",
          "data": {
            "text/plain": [
              "(13, 4285)"
            ]
          },
          "metadata": {},
          "execution_count": 96
        }
      ]
    },
    {
      "cell_type": "markdown",
      "source": [
        "## NCIを計算する \n"
      ],
      "metadata": {
        "id": "b2XMjgbCmH5h"
      }
    },
    {
      "cell_type": "code",
      "source": [
        "from scipy.linalg import svd \n",
        "import math\n",
        "#引数はmatrixAとドキュメントの数\n",
        "def compute_NCI(x,num_doc):\n",
        "    U, S, V = svd(x) \n",
        "    S = sorted(S, reverse=True)\n",
        "    print(S)\n",
        "    k= 5\n",
        "    sigma = S[:k]\n",
        "    total =0\n",
        "    for i in range(len(sigma)):\n",
        "        a= sigma[i]\n",
        "        sig2 = a*a\n",
        "        totalall = total +sig2\n",
        "        total = totalall\n",
        "    total\n",
        "    NCI= math.sqrt(total)\n",
        "    print(NCI/num_doc)"
      ],
      "metadata": {
        "id": "7ta6h_xymHLp"
      },
      "execution_count": 98,
      "outputs": []
    },
    {
      "cell_type": "code",
      "source": [
        "#全ての文書\n",
        "compute_NCI(A1,85)"
      ],
      "metadata": {
        "colab": {
          "base_uri": "https://localhost:8080/"
        },
        "id": "0S8U41kOpY5B",
        "outputId": "8fdd30e8-d438-4142-d52c-1aba0c38650d"
      },
      "execution_count": 103,
      "outputs": [
        {
          "output_type": "stream",
          "name": "stdout",
          "text": [
            "[90.66764142549242, 55.776814217329125, 50.55189055994572, 48.05822021087853, 44.0729572019731, 39.92693944286653, 37.8918024003863, 35.40609562560275, 33.6696212065572, 32.63780792838363, 30.616413068738353, 28.518522487429987, 26.777402902793746, 25.94566702252166, 25.73432490008326, 25.302689005694486, 25.086615031840584, 23.99643273264958, 23.732263851181184, 23.024143214974952, 22.50991889136065, 22.23791700294391, 22.00984577619387, 21.617452328901194, 20.953232206058754, 20.583632250549226, 20.31272026215464, 19.86214841443408, 19.610953339236822, 19.492703383617393, 19.26214197334499, 18.785719352700827, 18.532119426888976, 18.275246717797604, 17.90330062947156, 17.56931731590487, 17.357656151327763, 16.547143617736804, 16.20520922228791, 15.752584215093018, 15.565155712721369, 15.404699204583933, 15.096795341201817, 14.93794781607597, 14.839923419231694, 14.746521130526284, 14.373414907051432, 14.103505467441213, 13.788088967199382, 13.556749185661321, 13.464417447220466, 13.346215762663727, 13.115833357732482, 12.689405418389876, 12.658249270207826, 12.419779850116168, 12.309815095069295, 12.235127077772912, 12.016832621321337, 11.729675818104587, 11.615583445571918, 11.398974884548053, 11.026925640519664, 10.890533097477135, 10.84770489904844, 10.557681667946275, 10.364376218598506, 10.157537737067873, 9.906313997444123, 9.741098888053152, 9.701639157676361, 9.590099296614431, 9.333021481289316, 9.165602728173086, 9.050545506198349, 8.85300771001171, 8.304944758318612, 8.227600058088504, 7.581727736419411, 7.278145587996838, 6.418808663550653, 5.693342666670599, 5.2122165587041005, 4.32257523204039, 4.0264521239615734e-14]\n",
            "1.5844917070626106\n"
          ]
        }
      ]
    },
    {
      "cell_type": "code",
      "source": [
        "# アプローチ①類似度が高いニュースを集めて計算（株系のニュース）\n",
        "compute_NCI(A12,14)# NCIが高い値で出てることから成功していることが分かる "
      ],
      "metadata": {
        "colab": {
          "base_uri": "https://localhost:8080/"
        },
        "id": "XA0rmC0VB-m4",
        "outputId": "c5394e71-6c1a-49a4-9f08-c640a81b4490"
      },
      "execution_count": 105,
      "outputs": [
        {
          "output_type": "stream",
          "name": "stdout",
          "text": [
            "[34.36259527256175, 26.364379041138285, 17.587753633836098, 15.617406646099333, 12.95757613655653, 11.412909078420041, 10.17219269753763, 9.306308236650862, 7.777159306360998, 6.607418622806898, 5.919499087147388, 4.413874517988929, 8.969744731841421e-15]\n",
            "3.6400547229427525\n"
          ]
        }
      ]
    },
    {
      "cell_type": "code",
      "source": [
        "#アプローチ2 次元を揃える\n",
        "compute_NCI(A13,14)\n",
        "##同じ結果なのがおかしい"
      ],
      "metadata": {
        "colab": {
          "base_uri": "https://localhost:8080/"
        },
        "id": "BGWz0XZY94ng",
        "outputId": "4a930cb9-5250-46d7-b560-99b5c46a9f2d"
      },
      "execution_count": 109,
      "outputs": [
        {
          "output_type": "stream",
          "name": "stdout",
          "text": [
            "[34.36259527256176, 26.36437904113831, 17.587753633836112, 15.617406646099331, 12.957576136556526, 11.412909078420034, 10.172192697537639, 9.306308236650873, 7.777159306361002, 6.6074186228068985, 5.919499087147388, 4.413874517988929, 1.1848016885578758e-15]\n",
            "3.6400547229427542\n"
          ]
        }
      ]
    },
    {
      "cell_type": "markdown",
      "source": [
        "TF-IDF のNCI"
      ],
      "metadata": {
        "id": "UMY4Vl329WbS"
      }
    },
    {
      "cell_type": "code",
      "source": [
        "#全ての文書\n",
        "compute_NCI(A2,85)"
      ],
      "metadata": {
        "colab": {
          "base_uri": "https://localhost:8080/"
        },
        "id": "mYBRAsysBW-i",
        "outputId": "5ed1258f-11bf-40c4-af88-5b162035d8b4"
      },
      "execution_count": 117,
      "outputs": [
        {
          "output_type": "stream",
          "name": "stdout",
          "text": [
            "[2.325560112284184, 1.8711691287972068, 1.6034650130119048, 1.3922143886997458, 1.3529261892915574, 1.3347778180622314, 1.3090570508957955, 1.2692634920086787, 1.228212576365401, 1.2009201562079115, 1.1941546692574174, 1.1315218830133045, 1.1133066021373779, 1.1055643477110928, 1.0919953959818, 1.0824635373055362, 1.0701251234263471, 1.0667914256170148, 1.0537797985407937, 1.044145142915895, 1.0364145662409967, 1.0300474476029333, 1.0298342480777574, 1.0244670154498607, 1.0168565705569723, 1.0128561229437143, 1.0103389446202715, 1.0064545650925885, 1.0034195953087894, 0.9991154259083871, 0.9964108188674311, 0.99473116469086, 0.9875958066149035, 0.9858926802904362, 0.98187158071754, 0.9746008843827912, 0.9709564494768443, 0.9667368062395028, 0.9658074442384336, 0.964258158536548, 0.9609135127804673, 0.9577933186054042, 0.9542865784665305, 0.9497690366271266, 0.9441901934821278, 0.9422292538990464, 0.9375068693080975, 0.9340595119966475, 0.9302913177957524, 0.9244176954928096, 0.921500435695226, 0.9196156942047947, 0.9123522775331767, 0.9099077880402212, 0.897515396982303, 0.8962066739445241, 0.8929925795633454, 0.8911938576387949, 0.8778832995252277, 0.8684578514261493, 0.8668285498641161, 0.8647599853477484, 0.8472763533381145, 0.8339505403865676, 0.8228038832347422, 0.809184892772408, 0.8019651007860784, 0.7904443105381164, 0.7740211234309798, 0.7683554881061054, 0.7557513844213745, 0.735084382655406, 0.7266304460379809, 0.7139365725104981, 0.693484700550357, 0.6908821276614325, 0.6794518846268754, 0.6611882247290725, 0.6534120741217907, 0.6460565974360882, 0.6325943984833661, 0.5785758815912744, 0.5247699244844187, 0.45042791912026825, 1.0140624038465417e-15]\n",
            "0.04594155150880704\n"
          ]
        }
      ]
    },
    {
      "cell_type": "code",
      "source": [
        "#アプローチ①　次元をセレクトニュースに合わせる\n",
        "compute_NCI(A22,14)\n"
      ],
      "metadata": {
        "colab": {
          "base_uri": "https://localhost:8080/"
        },
        "id": "Xst3WNnrCzXc",
        "outputId": "dcacac2f-24ee-4379-ba6a-488cc6851111"
      },
      "execution_count": 131,
      "outputs": [
        {
          "output_type": "stream",
          "name": "stdout",
          "text": [
            "[1.7400736767180773, 1.3383059350028859, 1.0694670711702623, 1.0173660056038827, 0.9917465315590659, 0.9466800857744168, 0.9230516096700981, 0.8894325787951433, 0.8315425420276895, 0.8261252858455989, 0.7582195991828222, 0.7283992837411648, 1.5517509388774433e-15]\n",
            "0.20179391594718168\n"
          ]
        }
      ]
    },
    {
      "cell_type": "code",
      "source": [
        "#アプローチ2 次元をすべての文書に揃える\n",
        "compute_NCI(A23,14)"
      ],
      "metadata": {
        "colab": {
          "base_uri": "https://localhost:8080/"
        },
        "id": "Vc0z_9xuA5g1",
        "outputId": "d6cfef3f-24b3-4989-ab4f-02b7c3d85acf"
      },
      "execution_count": 115,
      "outputs": [
        {
          "output_type": "stream",
          "name": "stdout",
          "text": [
            "[1.8979836935138126, 1.3429918525479514, 1.0343739403148504, 1.0192498751439518, 0.9822931341857642, 0.9315210069932829, 0.8879374373103104, 0.8444791002956782, 0.7955997787547264, 0.7820038380803916, 0.6885047382926001, 0.6576277138563938, 3.5816589332786254e-16]\n",
            "0.2079990773957467\n"
          ]
        }
      ]
    },
    {
      "cell_type": "markdown",
      "source": [
        "##論文と同じoccurrenceのmatrixを作成する"
      ],
      "metadata": {
        "id": "GpQJqyvE96Yv"
      }
    },
    {
      "cell_type": "code",
      "source": [
        "#paper と同じoccurrence のmatrix\n",
        "def get_ooccurence_MatrixA(matrix):\n",
        "    for i in range(len(matrix)):\n",
        "        for j in range(matrix.shape[1]) :\n",
        "            if matrix[i][j] >= 1:\n",
        "                matrix[i][j] = 1\n",
        "    return(matrix)"
      ],
      "metadata": {
        "id": "RsPmgtB1CjKW"
      },
      "execution_count": 118,
      "outputs": []
    },
    {
      "cell_type": "code",
      "source": [
        "A1_occurence= get_ooccurence_MatrixA(A1)\n",
        "A1_occurence.shape\n",
        "compute_NCI(A1_occurence,85)"
      ],
      "metadata": {
        "colab": {
          "base_uri": "https://localhost:8080/"
        },
        "id": "8DuOwJ8zDFOu",
        "outputId": "cba63525-f4df-41f5-f4f4-70b07d0e53e9"
      },
      "execution_count": 134,
      "outputs": [
        {
          "output_type": "stream",
          "name": "stdout",
          "text": [
            "[32.81055026737786, 22.49892924628584, 17.728924302493873, 16.66231043393337, 16.095431193260943, 15.736164999168498, 15.153009818097232, 14.149603780555527, 13.76537348533419, 13.435559733098042, 13.181913219627658, 12.940805946838509, 12.65848138331492, 12.557757406189863, 12.432302142177786, 12.325145943118086, 12.180286665122614, 12.080831828415882, 12.005100049267233, 11.83053235060529, 11.795006919670021, 11.714906060408904, 11.501538240942594, 11.465317815761349, 11.330447611716549, 11.20848787749875, 11.151624785874056, 10.993957285134139, 10.843153015953787, 10.614323534761763, 10.596162944698762, 10.516230649018084, 10.46617615766244, 10.388827326797562, 10.312287829866833, 10.15665044651401, 10.068222298163553, 9.858370666324346, 9.79756218282144, 9.571214431053951, 9.530531342934976, 9.494938961321745, 9.429947365436805, 9.33262046568132, 9.14916273638405, 9.07335525028681, 9.05072100907842, 8.827823132202457, 8.622747166707486, 8.60504059275964, 8.57290143560173, 8.508687985572573, 8.361211934168418, 8.253798868955759, 8.151087336941014, 8.065653820218328, 7.969428905314583, 7.8918620200381975, 7.780344697608252, 7.682603420484333, 7.609702918134306, 7.4704417094348, 7.4229734499780085, 7.305177132761373, 7.2514833982977125, 7.183846452472225, 7.068901936915345, 6.891548933993844, 6.816397939449597, 6.646649388750232, 6.497551132945811, 6.382956091102237, 6.341169804627599, 6.252419512690865, 6.130652696913491, 6.073135485967357, 5.988220555110616, 5.888113643690324, 5.774324098672115, 5.565867165422255, 5.201423695513323, 4.6974453542304815, 4.165800329918783, 3.952558771416501, 1.4570811342042024e-14]\n",
            "0.5803881623558015\n"
          ]
        }
      ]
    },
    {
      "cell_type": "code",
      "source": [
        "A12occurrence=get_ooccurence_MatrixA(A12)\n",
        "A12occurrence.shape\n",
        "compute_NCI(A12occurrence,14)"
      ],
      "metadata": {
        "colab": {
          "base_uri": "https://localhost:8080/"
        },
        "id": "7lDtZvbx-Htz",
        "outputId": "a190a158-1cd7-497e-cab2-80ba660f37b8"
      },
      "execution_count": 148,
      "outputs": [
        {
          "output_type": "stream",
          "name": "stdout",
          "text": [
            "[16.70149815252203, 11.684072248427412, 11.00114925166548, 10.57217197264465, 9.587247176871234, 7.83007200470622, 7.559729960931652, 6.945628950533064, 6.207138033130197, 5.705895734189238, 5.320699275302102, 4.090726827626974, 1.5655997692440233e-14]\n",
            "1.9432890779738312\n"
          ]
        }
      ]
    },
    {
      "cell_type": "code",
      "source": [
        "A13occurrence=get_ooccurence_MatrixA(A13)\n",
        "A13occurrence.shape\n",
        "compute_NCI(A13occurrence,14)\n",
        "### 同じ結果なのがおかしい"
      ],
      "metadata": {
        "colab": {
          "base_uri": "https://localhost:8080/"
        },
        "id": "uivLRoPb-d9b",
        "outputId": "779c90b2-d676-47b2-f229-a3a74f30fccf"
      },
      "execution_count": 149,
      "outputs": [
        {
          "output_type": "stream",
          "name": "stdout",
          "text": [
            "[16.70149815252202, 11.684072248427416, 11.001149251665472, 10.572171972644648, 9.58724717687124, 7.830072004706212, 7.559729960931648, 6.945628950533069, 6.207138033130191, 5.70589573418924, 5.320699275302106, 4.0907268276269715, 4.000406083762532e-15]\n",
            "1.9432890779738305\n"
          ]
        }
      ]
    },
    {
      "cell_type": "markdown",
      "source": [
        "# トピックモデルの実装"
      ],
      "metadata": {
        "id": "b0jVhlUnmqmy"
      }
    },
    {
      "cell_type": "code",
      "source": [
        "from gensim.corpora import Dictionary\n",
        "from gensim.models import word2vec\n",
        "from gensim.models.ldamodel import LdaModel\n",
        "import gensim"
      ],
      "metadata": {
        "id": "CXt-0nkDmv6g"
      },
      "execution_count": 150,
      "outputs": []
    },
    {
      "cell_type": "code",
      "source": [
        "def get_corpus(keywords, max_document_frequency,min_document_frequency):\n",
        "    dic = Dictionary(keywords)\n",
        "    # max_document_frequency, min_document_frequency = 5, 2  # 単語の出現頻度の上限下限\n",
        "    dic.filter_extremes(no_above=max_document_frequency, no_below=min_document_frequency)  # 出現頻度\n",
        "    corpus = [dic.doc2bow(key) for key in keywords]\n",
        "    return(corpus)"
      ],
      "metadata": {
        "id": "GBQDGnMWnLQe"
      },
      "execution_count": 210,
      "outputs": []
    },
    {
      "cell_type": "code",
      "source": [
        "####　関数内で定義されないので外で変数にしています。　対処したいです。\n",
        "dic = Dictionary(keywords)\n",
        "max_document_frequency, min_document_frequency = 5, 2  # 単語の出現頻度の上限下限\n",
        "dic.filter_extremes(no_above=max_document_frequency, no_below=min_document_frequency)"
      ],
      "metadata": {
        "id": "JSJET8OXB3SY"
      },
      "execution_count": 217,
      "outputs": []
    },
    {
      "cell_type": "code",
      "source": [
        "miscorpus=get_corpus(keywords,5,2)"
      ],
      "metadata": {
        "id": "N4SznGkVBNiZ"
      },
      "execution_count": 212,
      "outputs": []
    },
    {
      "cell_type": "markdown",
      "source": [
        "##頻出ワードがカットできているかの確認"
      ],
      "metadata": {
        "id": "khynap6FnaJ8"
      }
    },
    {
      "cell_type": "code",
      "source": [
        "dic.token2id[\"する\"]\n",
        "# dic.id2token[1430]"
      ],
      "metadata": {
        "colab": {
          "base_uri": "https://localhost:8080/",
          "height": 197
        },
        "id": "wDO8wNkam5U9",
        "outputId": "48857e65-b9ed-4c32-d90a-10f19694285b"
      },
      "execution_count": 169,
      "outputs": [
        {
          "output_type": "error",
          "ename": "KeyError",
          "evalue": "ignored",
          "traceback": [
            "\u001b[0;31m---------------------------------------------------------------------------\u001b[0m",
            "\u001b[0;31mKeyError\u001b[0m                                  Traceback (most recent call last)",
            "\u001b[0;32m<ipython-input-169-ce071cc0ffbd>\u001b[0m in \u001b[0;36m<module>\u001b[0;34m()\u001b[0m\n\u001b[1;32m      1\u001b[0m \u001b[0mdic\u001b[0m\u001b[0;34m.\u001b[0m\u001b[0mtoken2id\u001b[0m\u001b[0;34m[\u001b[0m\u001b[0;34m\"する\"\u001b[0m\u001b[0;34m]\u001b[0m\u001b[0;34m\u001b[0m\u001b[0;34m\u001b[0m\u001b[0m\n\u001b[0;32m----> 2\u001b[0;31m \u001b[0mdic\u001b[0m\u001b[0;34m.\u001b[0m\u001b[0mid2token\u001b[0m\u001b[0;34m[\u001b[0m\u001b[0;36m1430\u001b[0m\u001b[0;34m]\u001b[0m\u001b[0;34m\u001b[0m\u001b[0;34m\u001b[0m\u001b[0m\n\u001b[0m",
            "\u001b[0;31mKeyError\u001b[0m: 1430"
          ]
        }
      ]
    },
    {
      "cell_type": "code",
      "source": [
        "suru_cnt = 0\n",
        "suru_doc_freq = 0\n",
        "for bow in miscorpus:\n",
        "  flag = False\n",
        "  for id, cnt in bow:\n",
        "    if id == dic.token2id[\"する\"]:\n",
        "      suru_cnt += cnt\n",
        "      flag = True\n",
        "  if flag:\n",
        "    suru_doc_freq += 1\n",
        "      \n",
        "suru_cnt, suru_doc_freq"
      ],
      "metadata": {
        "colab": {
          "base_uri": "https://localhost:8080/"
        },
        "id": "GQzk-t8Ini5W",
        "outputId": "492f55e6-0602-4c18-fa78-09870a9aaf0b"
      },
      "execution_count": 173,
      "outputs": [
        {
          "output_type": "execute_result",
          "data": {
            "text/plain": [
              "(962, 84)"
            ]
          },
          "metadata": {},
          "execution_count": 173
        }
      ]
    },
    {
      "cell_type": "markdown",
      "source": [
        "##コーパスの作成"
      ],
      "metadata": {
        "id": "fzxWYRmlE1QT"
      }
    },
    {
      "cell_type": "code",
      "source": [
        "corpus =get_corpus(keywords,0.2,2)\n",
        "####　関数内で定義されないので外で変数にしています。　対処したいです。\n",
        "dic = Dictionary(keywords)\n",
        "max_document_frequency, min_document_frequency = 0.2, 2  # 単語の出現頻度の上限下限\n",
        "dic.filter_extremes(no_above=max_document_frequency, no_below=min_document_frequency)"
      ],
      "metadata": {
        "id": "s8emfx4lnnr2"
      },
      "execution_count": 264,
      "outputs": []
    },
    {
      "cell_type": "markdown",
      "source": [
        "するが消えていることが分かる"
      ],
      "metadata": {
        "id": "fNJA8e4wdDwo"
      }
    },
    {
      "cell_type": "code",
      "source": [
        "# suru_cnt = 0\n",
        "# suru_doc_freq = 0\n",
        "# for bow in corpus:\n",
        "#   flag = False\n",
        "#   for id, cnt in bow:\n",
        "#     if id == dic.token2id[\"する\"]:\n",
        "#       suru_cnt += cnt\n",
        "#       flag = True\n",
        "#   if flag:\n",
        "#     suru_doc_freq += 1\n",
        "      \n",
        "# suru_cnt, suru_doc_freq"
      ],
      "metadata": {
        "id": "oR8HhTB6dA6q"
      },
      "execution_count": 265,
      "outputs": []
    },
    {
      "cell_type": "code",
      "source": [
        "corpus #IDと出現回数のbag of wordsになっている。"
      ],
      "metadata": {
        "id": "aLhG8JGzcKQm"
      },
      "execution_count": null,
      "outputs": []
    },
    {
      "cell_type": "markdown",
      "source": [
        "## LDAモデル化"
      ],
      "metadata": {
        "id": "1mjza74VnvKw"
      }
    },
    {
      "cell_type": "code",
      "source": [
        "from gensim.models.ldamodel import LdaModel\n",
        "lda = LdaModel(corpus = corpus, id2word = dic, num_topics = 3, random_state = 1)"
      ],
      "metadata": {
        "id": "G6qNoWVEnyFA"
      },
      "execution_count": 266,
      "outputs": []
    },
    {
      "cell_type": "code",
      "source": [
        "#結果\n",
        "for t in lda.show_topics(num_words=30):\n",
        "    print(t)"
      ],
      "metadata": {
        "colab": {
          "base_uri": "https://localhost:8080/"
        },
        "id": "_3sXFnYfn1Jt",
        "outputId": "c875fcf3-b577-4bb2-d8c5-de3370e50436"
      },
      "execution_count": 267,
      "outputs": [
        {
          "output_type": "stream",
          "name": "stdout",
          "text": [
            "(0, '0.009*\".\" + 0.006*\"６\" + 0.005*\"年度\" + 0.005*\"株\" + 0.004*\"池袋\" + 0.004*\"９\" + 0.004*\"取材\" + 0.004*\"８\" + 0.004*\"客\" + 0.004*\"会\" + 0.004*\"超える\" + 0.003*\"前\" + 0.003*\"事業\" + 0.003*\"証券\" + 0.003*\"経営\" + 0.003*\"店舗\" + 0.003*\"前年\" + 0.003*\"単価\" + 0.003*\"上場\" + 0.003*\"都\" + 0.003*\"高\" + 0.003*\"お金\" + 0.003*\"・\" + 0.003*\"製造\" + 0.003*\"株式\" + 0.003*\"営業\" + 0.003*\"さん\" + 0.003*\"銭\" + 0.003*\"増\" + 0.003*\"会社\"')\n",
            "(1, '0.007*\"会社\" + 0.004*\"証券\" + 0.004*\"６\" + 0.004*\"ガソリン\" + 0.004*\"池袋\" + 0.004*\"９\" + 0.004*\"開業\" + 0.004*\"年度\" + 0.004*\"客\" + 0.004*\"・\" + 0.004*\"公開\" + 0.003*\"閉店\" + 0.003*\"補助\" + 0.003*\"店舗\" + 0.003*\"株\" + 0.003*\"費\" + 0.003*\"政府\" + 0.003*\"所\" + 0.003*\"上場\" + 0.003*\"関係\" + 0.003*\"家\" + 0.003*\"事業\" + 0.003*\"８\" + 0.003*\"営業\" + 0.003*\"投資\" + 0.003*\"新規\" + 0.003*\"全国\" + 0.003*\"取材\" + 0.003*\"店頭\" + 0.003*\"大手\"')\n",
            "(2, '0.006*\"所\" + 0.006*\"工場\" + 0.005*\"値上げ\" + 0.004*\"政府\" + 0.004*\"ガソリン\" + 0.004*\"棒\" + 0.004*\"会社\" + 0.004*\"停止\" + 0.004*\"製油\" + 0.004*\"金\" + 0.004*\"和歌山\" + 0.004*\"会長\" + 0.004*\"生産\" + 0.004*\"抑制\" + 0.003*\"社\" + 0.003*\"高騰\" + 0.003*\"補助\" + 0.003*\"国内\" + 0.003*\"日本\" + 0.003*\"元売り\" + 0.003*\"事業\" + 0.003*\"経済\" + 0.003*\"員\" + 0.003*\"銭\" + 0.003*\"小売\" + 0.003*\"８\" + 0.003*\".\" + 0.003*\"費\" + 0.003*\"リットル\" + 0.003*\"石油\"')\n"
          ]
        }
      ]
    },
    {
      "cell_type": "code",
      "source": [
        "num_words = 5\n",
        "print(\"Topic words\\n----------------------------------------------------\")\n",
        "# トピックごとの単語上位をnum_words個表示\n",
        "for topic_num in range(lda.num_topics):\n",
        "    word_weight_dict_by_topic = lda.show_topic(topic_num, num_words)  # トピックごとの単語と重みのリスト\n",
        "    print(f\"Topic {topic_num}:  {word_weight_dict_by_topic}\")  "
      ],
      "metadata": {
        "colab": {
          "base_uri": "https://localhost:8080/"
        },
        "id": "1FWlSgDhoB3_",
        "outputId": "98dc5cfa-b904-457c-e8a8-e4cdda2914da"
      },
      "execution_count": 270,
      "outputs": [
        {
          "output_type": "stream",
          "name": "stdout",
          "text": [
            "Topic words\n",
            "----------------------------------------------------\n",
            "Topic 0:  [('.', 0.009198594), ('６', 0.0058834776), ('年度', 0.0054593137), ('株', 0.0049415096), ('池袋', 0.0043707145)]\n",
            "Topic 1:  [('会社', 0.007115846), ('証券', 0.004435431), ('６', 0.0042437008), ('ガソリン', 0.0042275195), ('池袋', 0.0039348044)]\n",
            "Topic 2:  [('所', 0.006096076), ('工場', 0.005734924), ('値上げ', 0.005226761), ('政府', 0.004402456), ('ガソリン', 0.0043970463)]\n"
          ]
        }
      ]
    },
    {
      "cell_type": "markdown",
      "source": [
        "文書が少ないのでほぼ同じになっている\n",
        "topic2 などは　ガソリンの値上げが工場に影響している系だとわかる"
      ],
      "metadata": {
        "id": "nHs83SlBoHGS"
      }
    },
    {
      "cell_type": "markdown",
      "source": [
        "##テストデータでやってみる"
      ],
      "metadata": {
        "id": "w7xcouTrHxZu"
      }
    },
    {
      "cell_type": "code",
      "source": [
        "tests=[\"1月24日、ついにレギュラーガソリンの全国平均小売価格が170円を超えた。「長いコロナ不況で苦しいのに、ガソリン価格だけは右肩上がり。もう、ただのサラリーマンでは自家用車なんて持てないのかな」──そんな嘆きが、あちこちで聞かれるようになってきた。自動車業界は、燃料費の高騰だけが問題ではない。2年間も続いた未曾有の新型コロナウイルス禍。2022年こそは、ここまで控えられた分の“リベンジ消費”に期待がかかっていたが、蓋を開けてみると、買えるものも買えない状況に陥っている。都内のあるトヨタ系自動車販売店の営業マンは「コロナの世界的流行によって、半導体を生産する工場が、操業を何度も停止。部品供給が滞って、自動車工場もやむなく減産。去年8月に14年ぶりに全面改良したランドクルーザー（300系）も、問い合わせや注文は殺到しているのですが、納期は約4年後とお答えしているところなのです」と、肩を落としながら明かした。あるモータージャーナリストは「もともとランドクルーザーのセールスは、ほとんど海外。全生産の半分は中東、ロシアと豪州でも40％を占めて、日本の割合はわずか数％。供給台数が少ないので、さらに納期が遅れるのです」と補足した。さまざまな理由が重なって、新車の供給量で苦戦しているというのだ。また、高級車の代名詞でもあるメルセデス・ベンツの価格も上がってきている。かつて、400万円台から手を出すことのできたベンツCクラスは、「サラリーマンでも頑張ればベンツに乗れる象徴」として、多くのメルセデスユーザーを生んできた。しかし、昨年7年ぶりにフルモデルチェンジしたCクラスは、最低価格でも650万円以上。150万円以上の値上がりとなった。日本人の平均年収が約430万円（国税庁の「令和2年分　民間給与実態調査統計」より）だということを考えると、もはや「サラリーマンでは手が出せない超高級車」になってしまった。「しかも、そのベンツCクラスは半導体の不足により、当初予定していた装備が一部変更になっています。今後発売のロットは、高級スピーカーのブルメスターはオプションでも装着不可となり、トランクの下に足を入れると自動で開く『フットトランクオープナー』が付かないモデルもあります。しかもこれから新規発注すると納期は半年以上先とか……。AクラスやBクラスと比べて高級感があり、『ベビーSクラス』や『コンパクトSクラス』と言われていたCクラス。これだけ高額になったうえ、この仕様変更で購入を迷う人もいるかもしれませんね」（前出・モータージャーナリスト）もちろん、これらの変更はコロナ禍においては致し方ないこと。むしろ、半導体不足の中で、各自動車メーカーは新車を発売するために全力を注いでいるとは言える。一方で、車を購入予定の人の中には「新車が値上がりしたり納期に時間がかかる今、中古車はどうなの？」という気持ちになる人もいるかもしれない。だが、新車の供給不足の反動から、中古車市場は需要が高まり、値段も高騰している。\",\n",
        "      \"大幅続伸。先週末に発表した自己株式の取得実施が買い材料視されている。発行済み株式数の4.23％に当たる300万株、10億円を取得上限としており、取得期間は2月21日から7月21日まで。機動的な資本政策の遂行及び株主への一層の利益還元を図ることを目的としている。当面の需給面での下支え材料につながるとの期待が先行へ。同社の自社株買いは、昨年10月にかけて上限10億円を実施して以来となる。\"]"
      ],
      "metadata": {
        "id": "sEjUTZWep8S0"
      },
      "execution_count": 271,
      "outputs": []
    },
    {
      "cell_type": "code",
      "source": [
        "#どのトピックに分類されているか確認\n",
        "def check_topic(test_texts,document,topic):\n",
        "    test_keywords=get_keywords_list(test_texts)\n",
        "    corpus_test = [dic.doc2bow(key) for key in test_keywords]\n",
        "    pred = lda.inference(corpus_test)\n",
        "    total=0\n",
        "    for i in pred[0][document]:\n",
        "        total += i\n",
        "    return(pred[0][document][topic]/total)"
      ],
      "metadata": {
        "id": "_64HIiPfHocj"
      },
      "execution_count": 274,
      "outputs": []
    },
    {
      "cell_type": "code",
      "source": [
        "check_topic(tests,0,2) #最初の文書のトピックは73%でtopic３"
      ],
      "metadata": {
        "colab": {
          "base_uri": "https://localhost:8080/"
        },
        "id": "IAI7yD5sI6r0",
        "outputId": "6c892849-3d3b-487a-c0e9-468c370c1994"
      },
      "execution_count": 276,
      "outputs": [
        {
          "output_type": "execute_result",
          "data": {
            "text/plain": [
              "0.728828112674913"
            ]
          },
          "metadata": {},
          "execution_count": 276
        }
      ]
    },
    {
      "cell_type": "markdown",
      "source": [
        "###備忘録"
      ],
      "metadata": {
        "id": "oZ_g7MzwI0h_"
      }
    },
    {
      "cell_type": "code",
      "source": [
        "# test_keywords=get_keywords_list(tests)"
      ],
      "metadata": {
        "id": "-x8m0KUnoNnm"
      },
      "execution_count": 240,
      "outputs": []
    },
    {
      "cell_type": "code",
      "source": [
        "corpus_test = [dic.doc2bow(key) for key in test_keywords] #存在してなかったのは排除されている\n",
        "# corpus_test = [dic.doc2bow(key, allow_update=True, return_missing=True) for key in keywords] #存在してなかったのを辞書に加えて更新"
      ],
      "metadata": {
        "id": "SMGSBuIfiX3A"
      },
      "execution_count": null,
      "outputs": []
    },
    {
      "cell_type": "code",
      "source": [
        "pred = lda.inference(corpus_test)\n",
        "# print(pred) #各トピックのweightを表示している"
      ],
      "metadata": {
        "colab": {
          "base_uri": "https://localhost:8080/"
        },
        "id": "COFUoEq0kQrN",
        "outputId": "45c5269d-134a-4d6e-b777-7d935964ba76"
      },
      "execution_count": 242,
      "outputs": [
        {
          "output_type": "stream",
          "name": "stdout",
          "text": [
            "(array([[  1.03,  39.31, 108.65],\n",
            "       [ 23.32,   0.43,  12.25]], dtype=float32), None)\n"
          ]
        }
      ]
    },
    {
      "cell_type": "code",
      "source": [
        "total=0\n",
        "for i in pred[0][0]:\n",
        "    total += i\n",
        "pred[0][0][2]/total #全体のweigtの合計で割って％表示。　トピック3は73%とわかる"
      ],
      "metadata": {
        "colab": {
          "base_uri": "https://localhost:8080/"
        },
        "id": "lxXh3QqAldGL",
        "outputId": "5f369a9d-bd1b-4bd0-976e-b2ab19043916"
      },
      "execution_count": 244,
      "outputs": [
        {
          "output_type": "execute_result",
          "data": {
            "text/plain": [
              "0.729201475299437"
            ]
          },
          "metadata": {},
          "execution_count": 244
        }
      ]
    },
    {
      "cell_type": "code",
      "source": [
        "total=0\n",
        "for i in pred[0][1]:\n",
        "    total += i\n",
        "pred[0][1][0]/total "
      ],
      "metadata": {
        "colab": {
          "base_uri": "https://localhost:8080/"
        },
        "id": "fEFqQQGSqVXY",
        "outputId": "f626cf4f-954b-468c-e2a4-dcaca2904db1"
      },
      "execution_count": 247,
      "outputs": [
        {
          "output_type": "execute_result",
          "data": {
            "text/plain": [
              "0.6477007929235954"
            ]
          },
          "metadata": {},
          "execution_count": 247
        }
      ]
    },
    {
      "cell_type": "markdown",
      "source": [
        "#英語のfreesetを用いてやってみる"
      ],
      "metadata": {
        "id": "QwuCzaF5ZvAd"
      }
    },
    {
      "cell_type": "code",
      "source": [
        "https://newsdata.io/files/datasets/latest-news"
      ],
      "metadata": {
        "id": "rg3tppKtZ00e"
      },
      "execution_count": null,
      "outputs": []
    },
    {
      "cell_type": "code",
      "source": [
        "from google.colab import drive\n",
        "drive.mount('/content/drive')"
      ],
      "metadata": {
        "colab": {
          "base_uri": "https://localhost:8080/"
        },
        "id": "xGzxQP47atO6",
        "outputId": "3ce71940-37ab-4066-e480-8cb9142c3bfd"
      },
      "execution_count": 1,
      "outputs": [
        {
          "output_type": "stream",
          "name": "stdout",
          "text": [
            "Mounted at /content/drive\n"
          ]
        }
      ]
    },
    {
      "cell_type": "code",
      "source": [
        "!wget -P /content/drive/MyDrive/SOCI https://newsdata.io/files/datasets/latest-news"
      ],
      "metadata": {
        "colab": {
          "base_uri": "https://localhost:8080/"
        },
        "id": "OFkWuMancMEf",
        "outputId": "9dec31ef-9309-4a95-c43c-db591feab0f4"
      },
      "execution_count": 3,
      "outputs": [
        {
          "output_type": "stream",
          "name": "stdout",
          "text": [
            "--2022-02-21 13:25:36--  https://newsdata.io/files/datasets/latest-news\n",
            "Resolving newsdata.io (newsdata.io)... 157.245.122.35\n",
            "Connecting to newsdata.io (newsdata.io)|157.245.122.35|:443... connected.\n",
            "HTTP request sent, awaiting response... 200 OK\n",
            "Length: 159412320 (152M) [application/zip]\n",
            "Saving to: ‘/content/drive/MyDrive/SOCI/latest-news’\n",
            "\n",
            "latest-news         100%[===================>] 152.03M  11.4MB/s    in 14s     \n",
            "\n",
            "2022-02-21 13:25:51 (10.7 MB/s) - ‘/content/drive/MyDrive/SOCI/latest-news’ saved [159412320/159412320]\n",
            "\n"
          ]
        }
      ]
    },
    {
      "cell_type": "code",
      "source": [
        "!cp /content/drive/MyDrive/SOCI/latest-news .\n",
        "!unzip latest-news"
      ],
      "metadata": {
        "colab": {
          "base_uri": "https://localhost:8080/",
          "height": 253
        },
        "id": "zIGKaFhbeIGZ",
        "outputId": "be388864-23aa-41d4-c26f-54792ee7987e"
      },
      "execution_count": 7,
      "outputs": [
        {
          "output_type": "stream",
          "name": "stdout",
          "text": [
            "Archive:  latest-news\n",
            "replace Latest_News/Latest_News.csv? [y]es, [n]o, [A]ll, [N]one, [r]ename: "
          ]
        },
        {
          "output_type": "error",
          "ename": "NameError",
          "evalue": "ignored",
          "traceback": [
            "\u001b[0;31m---------------------------------------------------------------------------\u001b[0m",
            "\u001b[0;31mNameError\u001b[0m                                 Traceback (most recent call last)",
            "\u001b[0;32m<ipython-input-7-88f6caf341d0>\u001b[0m in \u001b[0;36m<module>\u001b[0;34m()\u001b[0m\n\u001b[1;32m      1\u001b[0m \u001b[0mget_ipython\u001b[0m\u001b[0;34m(\u001b[0m\u001b[0;34m)\u001b[0m\u001b[0;34m.\u001b[0m\u001b[0msystem\u001b[0m\u001b[0;34m(\u001b[0m\u001b[0;34m'cp /content/drive/MyDrive/SOCI/latest-news .'\u001b[0m\u001b[0;34m)\u001b[0m\u001b[0;34m\u001b[0m\u001b[0;34m\u001b[0m\u001b[0m\n\u001b[1;32m      2\u001b[0m \u001b[0mget_ipython\u001b[0m\u001b[0;34m(\u001b[0m\u001b[0;34m)\u001b[0m\u001b[0;34m.\u001b[0m\u001b[0msystem\u001b[0m\u001b[0;34m(\u001b[0m\u001b[0;34m'unzip latest-news'\u001b[0m\u001b[0;34m)\u001b[0m\u001b[0;34m\u001b[0m\u001b[0;34m\u001b[0m\u001b[0m\n\u001b[0;32m----> 3\u001b[0;31m \u001b[0mLatest_News\u001b[0m\u001b[0;34m/\u001b[0m\u001b[0mLatest_News\u001b[0m\u001b[0;34m.\u001b[0m\u001b[0mcsv\u001b[0m\u001b[0;34m\u001b[0m\u001b[0;34m\u001b[0m\u001b[0m\n\u001b[0m",
            "\u001b[0;31mNameError\u001b[0m: name 'Latest_News' is not defined"
          ]
        }
      ]
    },
    {
      "cell_type": "code",
      "source": [
        "import pandas as pd\n",
        "df=pd.read_csv(\"/content/drive/MyDrive/Profmike/Latest_News.csv\")\n",
        "df[\"description\"]"
      ],
      "metadata": {
        "colab": {
          "base_uri": "https://localhost:8080/"
        },
        "id": "PPCJoY8ah9dk",
        "outputId": "007463b1-bef1-4ec5-e5bb-3db74a589d28"
      },
      "execution_count": 12,
      "outputs": [
        {
          "output_type": "execute_result",
          "data": {
            "text/plain": [
              "0        La Gazzetta dello Sport racconta del nervosism...\n",
              "1        Il tecnico del Napoli è stato sanzionato per l...\n",
              "2        Gli ultras del Napoli potrebbero rientrare all...\n",
              "3        Decisivo nella costruzione del gioco e nella f...\n",
              "4        Dopo il negativo inizio di stagione il preside...\n",
              "                               ...                        \n",
              "86555    Duminică, 24 octombrie, este o zi de sărbătoar...\n",
              "86556    The group described Mr Tinubu as an exceptiona...\n",
              "86557    Jakub Świerczok strzelił bramkę w meczu 33. ko...\n",
              "86558    A woman in her 70s has died following a house ...\n",
              "86559    “문재인 정부 성공과 정권 재창출 위해서 작은 힘이나마 보태겠습니다.”(이낙연 전 ...\n",
              "Name: description, Length: 86560, dtype: object"
            ]
          },
          "metadata": {},
          "execution_count": 12
        }
      ]
    },
    {
      "cell_type": "code",
      "source": [
        "df"
      ],
      "metadata": {
        "colab": {
          "base_uri": "https://localhost:8080/",
          "height": 762
        },
        "id": "2tEYSMVziU1e",
        "outputId": "4546551d-6d70-4a85-9125-d7874a1a19c9"
      },
      "execution_count": 11,
      "outputs": [
        {
          "output_type": "execute_result",
          "data": {
            "text/html": [
              "\n",
              "  <div id=\"df-8f9c1a55-fbaa-4956-9d11-118abad3a830\">\n",
              "    <div class=\"colab-df-container\">\n",
              "      <div>\n",
              "<style scoped>\n",
              "    .dataframe tbody tr th:only-of-type {\n",
              "        vertical-align: middle;\n",
              "    }\n",
              "\n",
              "    .dataframe tbody tr th {\n",
              "        vertical-align: top;\n",
              "    }\n",
              "\n",
              "    .dataframe thead th {\n",
              "        text-align: right;\n",
              "    }\n",
              "</style>\n",
              "<table border=\"1\" class=\"dataframe\">\n",
              "  <thead>\n",
              "    <tr style=\"text-align: right;\">\n",
              "      <th></th>\n",
              "      <th>title</th>\n",
              "      <th>link</th>\n",
              "      <th>keywords</th>\n",
              "      <th>creator</th>\n",
              "      <th>video_url</th>\n",
              "      <th>description</th>\n",
              "      <th>content</th>\n",
              "      <th>pubDate</th>\n",
              "      <th>full_description</th>\n",
              "      <th>image_url</th>\n",
              "      <th>source_id</th>\n",
              "    </tr>\n",
              "  </thead>\n",
              "  <tbody>\n",
              "    <tr>\n",
              "      <th>0</th>\n",
              "      <td>Spalletti arrabbiato con i suoi calciatori nei...</td>\n",
              "      <td>https://www.areanapoli.it/rassegna-stampa/spal...</td>\n",
              "      <td>['Rassegna Stampa']</td>\n",
              "      <td>['AreaNapoli.it']</td>\n",
              "      <td>NaN</td>\n",
              "      <td>La Gazzetta dello Sport racconta del nervosism...</td>\n",
              "      <td>NaN</td>\n",
              "      <td>2021-10-26 07:06:10</td>\n",
              "      <td>NaN</td>\n",
              "      <td>https://cdn.areanapoli.it/immagini/notizie/big...</td>\n",
              "      <td>areanapoli</td>\n",
              "    </tr>\n",
              "    <tr>\n",
              "      <th>1</th>\n",
              "      <td>Squalifica e multa per Spalletti: la reazione ...</td>\n",
              "      <td>https://www.areanapoli.it/rassegna-stampa/squa...</td>\n",
              "      <td>['Rassegna Stampa']</td>\n",
              "      <td>['AreaNapoli.it']</td>\n",
              "      <td>NaN</td>\n",
              "      <td>Il tecnico del Napoli è stato sanzionato per l...</td>\n",
              "      <td>NaN</td>\n",
              "      <td>2021-10-26 07:06:10</td>\n",
              "      <td>NaN</td>\n",
              "      <td>https://cdn.areanapoli.it/immagini/notizie/big...</td>\n",
              "      <td>areanapoli</td>\n",
              "    </tr>\n",
              "    <tr>\n",
              "      <th>2</th>\n",
              "      <td>Napoli-Bologna, gli ultras potrebbero entrare ...</td>\n",
              "      <td>https://www.areanapoli.it/rassegna-stampa/napo...</td>\n",
              "      <td>['Rassegna Stampa']</td>\n",
              "      <td>['AreaNapoli.it']</td>\n",
              "      <td>NaN</td>\n",
              "      <td>Gli ultras del Napoli potrebbero rientrare all...</td>\n",
              "      <td>NaN</td>\n",
              "      <td>2021-10-26 07:06:10</td>\n",
              "      <td>NaN</td>\n",
              "      <td>https://cdn.areanapoli.it/immagini/notizie/big...</td>\n",
              "      <td>areanapoli</td>\n",
              "    </tr>\n",
              "    <tr>\n",
              "      <th>3</th>\n",
              "      <td>Juve, Dybala vale doppio: ecco perch&amp;eacute; p...</td>\n",
              "      <td>https://www.tuttosport.com/news/calcio/serie-a...</td>\n",
              "      <td>['Juventus']</td>\n",
              "      <td>NaN</td>\n",
              "      <td>NaN</td>\n",
              "      <td>Decisivo nella costruzione del gioco e nella f...</td>\n",
              "      <td>NaN</td>\n",
              "      <td>2021-10-26 07:05:03</td>\n",
              "      <td>NaN</td>\n",
              "      <td>https://cdn.tuttosport.com/img/600/400/2021/10...</td>\n",
              "      <td>tuttosport</td>\n",
              "    </tr>\n",
              "    <tr>\n",
              "      <th>4</th>\n",
              "      <td>Tubertini non è più l'allenatore di Siena</td>\n",
              "      <td>https://www.tuttosport.com/news/pallavolo/a2-m...</td>\n",
              "      <td>['Tubertini', 'Emma Villas']</td>\n",
              "      <td>NaN</td>\n",
              "      <td>NaN</td>\n",
              "      <td>Dopo il negativo inizio di stagione il preside...</td>\n",
              "      <td>NaN</td>\n",
              "      <td>2021-10-26 07:05:03</td>\n",
              "      <td>NaN</td>\n",
              "      <td>https://cdn.tuttosport.com/img/600/400/2021/10...</td>\n",
              "      <td>tuttosport</td>\n",
              "    </tr>\n",
              "    <tr>\n",
              "      <th>...</th>\n",
              "      <td>...</td>\n",
              "      <td>...</td>\n",
              "      <td>...</td>\n",
              "      <td>...</td>\n",
              "      <td>...</td>\n",
              "      <td>...</td>\n",
              "      <td>...</td>\n",
              "      <td>...</td>\n",
              "      <td>...</td>\n",
              "      <td>...</td>\n",
              "      <td>...</td>\n",
              "    </tr>\n",
              "    <tr>\n",
              "      <th>86555</th>\n",
              "      <td>Ziua cea mare a derbiurilor: Regal fotbalistic...</td>\n",
              "      <td>https://sport.hotnews.ro/stiri-fotbal-25130203...</td>\n",
              "      <td>['Sport/Fotbal']</td>\n",
              "      <td>NaN</td>\n",
              "      <td>NaN</td>\n",
              "      <td>Duminică, 24 octombrie, este o zi de sărbătoar...</td>\n",
              "      <td>NaN</td>\n",
              "      <td>2021-10-24 08:51:00</td>\n",
              "      <td>Duminică, 24 octombrie, este o zi de sărbătoar...</td>\n",
              "      <td>NaN</td>\n",
              "      <td>hotnews</td>\n",
              "    </tr>\n",
              "    <tr>\n",
              "      <th>86556</th>\n",
              "      <td>2023: Group mobilises support for Tinubu</td>\n",
              "      <td>https://www.premiumtimesng.com/news/more-news/...</td>\n",
              "      <td>['More News', '2023 presidential election', 'A...</td>\n",
              "      <td>['Agency Report']</td>\n",
              "      <td>NaN</td>\n",
              "      <td>The group described Mr Tinubu as an exceptiona...</td>\n",
              "      <td>NaN</td>\n",
              "      <td>2021-10-24 08:50:59</td>\n",
              "      <td>Umar Mohammed, Director-General, Tinubu Suppor...</td>\n",
              "      <td>NaN</td>\n",
              "      <td>premiumtimesng</td>\n",
              "    </tr>\n",
              "    <tr>\n",
              "      <th>86557</th>\n",
              "      <td>Liga japońska. Jakub Świerczok z golem, remis ...</td>\n",
              "      <td>https://sport.interia.pl/pilka-nozna/news-liga...</td>\n",
              "      <td>['Piłka nożna']</td>\n",
              "      <td>NaN</td>\n",
              "      <td>NaN</td>\n",
              "      <td>Jakub Świerczok strzelił bramkę w meczu 33. ko...</td>\n",
              "      <td>NaN</td>\n",
              "      <td>2021-10-24 08:50:57</td>\n",
              "      <td>Rozgrywki J1 League, najwyższego poziomu klubo...</td>\n",
              "      <td>https://i.iplsc.com/liga-japonska-jakub-swierc...</td>\n",
              "      <td>interiasport</td>\n",
              "    </tr>\n",
              "    <tr>\n",
              "      <th>86558</th>\n",
              "      <td>Woman (70s) dies following house fire in Cork ...</td>\n",
              "      <td>https://www.irishtimes.com/news/ireland/irish-...</td>\n",
              "      <td>NaN</td>\n",
              "      <td>NaN</td>\n",
              "      <td>NaN</td>\n",
              "      <td>A woman in her 70s has died following a house ...</td>\n",
              "      <td>NaN</td>\n",
              "      <td>2021-10-24 08:50:53</td>\n",
              "      <td>A woman in her 70s has died following a house ...</td>\n",
              "      <td>https://www.irishtimes.com/polopoly_fs/1.47092...</td>\n",
              "      <td>irishtimes</td>\n",
              "    </tr>\n",
              "    <tr>\n",
              "      <th>86559</th>\n",
              "      <td>이낙연, 이재명 선대위 상임고문 수락…“정권 재창출 힘 보태겠다”</td>\n",
              "      <td>http://www.hani.co.kr/arti/politics/assembly/1...</td>\n",
              "      <td>['정치']</td>\n",
              "      <td>NaN</td>\n",
              "      <td>NaN</td>\n",
              "      <td>“문재인 정부 성공과 정권 재창출 위해서 작은 힘이나마 보태겠습니다.”(이낙연 전 ...</td>\n",
              "      <td>NaN</td>\n",
              "      <td>2021-10-24 08:50:51</td>\n",
              "      <td>이재명-이낙연 경선 2주 만에 회동 더불어민주당 이재명 대선 후보가 이낙연 전 민주...</td>\n",
              "      <td>NaN</td>\n",
              "      <td>hani</td>\n",
              "    </tr>\n",
              "  </tbody>\n",
              "</table>\n",
              "<p>86560 rows × 11 columns</p>\n",
              "</div>\n",
              "      <button class=\"colab-df-convert\" onclick=\"convertToInteractive('df-8f9c1a55-fbaa-4956-9d11-118abad3a830')\"\n",
              "              title=\"Convert this dataframe to an interactive table.\"\n",
              "              style=\"display:none;\">\n",
              "        \n",
              "  <svg xmlns=\"http://www.w3.org/2000/svg\" height=\"24px\"viewBox=\"0 0 24 24\"\n",
              "       width=\"24px\">\n",
              "    <path d=\"M0 0h24v24H0V0z\" fill=\"none\"/>\n",
              "    <path d=\"M18.56 5.44l.94 2.06.94-2.06 2.06-.94-2.06-.94-.94-2.06-.94 2.06-2.06.94zm-11 1L8.5 8.5l.94-2.06 2.06-.94-2.06-.94L8.5 2.5l-.94 2.06-2.06.94zm10 10l.94 2.06.94-2.06 2.06-.94-2.06-.94-.94-2.06-.94 2.06-2.06.94z\"/><path d=\"M17.41 7.96l-1.37-1.37c-.4-.4-.92-.59-1.43-.59-.52 0-1.04.2-1.43.59L10.3 9.45l-7.72 7.72c-.78.78-.78 2.05 0 2.83L4 21.41c.39.39.9.59 1.41.59.51 0 1.02-.2 1.41-.59l7.78-7.78 2.81-2.81c.8-.78.8-2.07 0-2.86zM5.41 20L4 18.59l7.72-7.72 1.47 1.35L5.41 20z\"/>\n",
              "  </svg>\n",
              "      </button>\n",
              "      \n",
              "  <style>\n",
              "    .colab-df-container {\n",
              "      display:flex;\n",
              "      flex-wrap:wrap;\n",
              "      gap: 12px;\n",
              "    }\n",
              "\n",
              "    .colab-df-convert {\n",
              "      background-color: #E8F0FE;\n",
              "      border: none;\n",
              "      border-radius: 50%;\n",
              "      cursor: pointer;\n",
              "      display: none;\n",
              "      fill: #1967D2;\n",
              "      height: 32px;\n",
              "      padding: 0 0 0 0;\n",
              "      width: 32px;\n",
              "    }\n",
              "\n",
              "    .colab-df-convert:hover {\n",
              "      background-color: #E2EBFA;\n",
              "      box-shadow: 0px 1px 2px rgba(60, 64, 67, 0.3), 0px 1px 3px 1px rgba(60, 64, 67, 0.15);\n",
              "      fill: #174EA6;\n",
              "    }\n",
              "\n",
              "    [theme=dark] .colab-df-convert {\n",
              "      background-color: #3B4455;\n",
              "      fill: #D2E3FC;\n",
              "    }\n",
              "\n",
              "    [theme=dark] .colab-df-convert:hover {\n",
              "      background-color: #434B5C;\n",
              "      box-shadow: 0px 1px 3px 1px rgba(0, 0, 0, 0.15);\n",
              "      filter: drop-shadow(0px 1px 2px rgba(0, 0, 0, 0.3));\n",
              "      fill: #FFFFFF;\n",
              "    }\n",
              "  </style>\n",
              "\n",
              "      <script>\n",
              "        const buttonEl =\n",
              "          document.querySelector('#df-8f9c1a55-fbaa-4956-9d11-118abad3a830 button.colab-df-convert');\n",
              "        buttonEl.style.display =\n",
              "          google.colab.kernel.accessAllowed ? 'block' : 'none';\n",
              "\n",
              "        async function convertToInteractive(key) {\n",
              "          const element = document.querySelector('#df-8f9c1a55-fbaa-4956-9d11-118abad3a830');\n",
              "          const dataTable =\n",
              "            await google.colab.kernel.invokeFunction('convertToInteractive',\n",
              "                                                     [key], {});\n",
              "          if (!dataTable) return;\n",
              "\n",
              "          const docLinkHtml = 'Like what you see? Visit the ' +\n",
              "            '<a target=\"_blank\" href=https://colab.research.google.com/notebooks/data_table.ipynb>data table notebook</a>'\n",
              "            + ' to learn more about interactive tables.';\n",
              "          element.innerHTML = '';\n",
              "          dataTable['output_type'] = 'display_data';\n",
              "          await google.colab.output.renderOutput(dataTable, element);\n",
              "          const docLink = document.createElement('div');\n",
              "          docLink.innerHTML = docLinkHtml;\n",
              "          element.appendChild(docLink);\n",
              "        }\n",
              "      </script>\n",
              "    </div>\n",
              "  </div>\n",
              "  "
            ],
            "text/plain": [
              "                                                   title  ...       source_id\n",
              "0      Spalletti arrabbiato con i suoi calciatori nei...  ...      areanapoli\n",
              "1      Squalifica e multa per Spalletti: la reazione ...  ...      areanapoli\n",
              "2      Napoli-Bologna, gli ultras potrebbero entrare ...  ...      areanapoli\n",
              "3      Juve, Dybala vale doppio: ecco perch&eacute; p...  ...      tuttosport\n",
              "4              Tubertini non è più l'allenatore di Siena  ...      tuttosport\n",
              "...                                                  ...  ...             ...\n",
              "86555  Ziua cea mare a derbiurilor: Regal fotbalistic...  ...         hotnews\n",
              "86556           2023: Group mobilises support for Tinubu  ...  premiumtimesng\n",
              "86557  Liga japońska. Jakub Świerczok z golem, remis ...  ...    interiasport\n",
              "86558  Woman (70s) dies following house fire in Cork ...  ...      irishtimes\n",
              "86559               이낙연, 이재명 선대위 상임고문 수락…“정권 재창출 힘 보태겠다”  ...            hani\n",
              "\n",
              "[86560 rows x 11 columns]"
            ]
          },
          "metadata": {},
          "execution_count": 11
        }
      ]
    }
  ]
}